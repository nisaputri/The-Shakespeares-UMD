{
 "cells": [
  {
   "cell_type": "code",
   "execution_count": 2,
   "metadata": {},
   "outputs": [],
   "source": [
    "#Notebook used for cleaning data\n",
    "import numpy as np\n",
    "import pandas as pd"
   ]
  },
  {
   "source": [
    "For the first step in the project we must link the Zooniverse Manuscript to the Subject ID"
   ],
   "cell_type": "markdown",
   "metadata": {}
  },
  {
   "cell_type": "code",
   "execution_count": 3,
   "metadata": {},
   "outputs": [
    {
     "output_type": "execute_result",
     "data": {
      "text/plain": [
       "       subject_id  project_id  workflow_id  subject_set_id  \\\n",
       "0         1273522         376       2363.0            2776   \n",
       "1         1273523         376       2363.0            2776   \n",
       "2         1273524         376       2363.0            2776   \n",
       "3         1273525         376       2363.0            2776   \n",
       "4         1273526         376       2363.0            2776   \n",
       "...           ...         ...          ...             ...   \n",
       "14325    11208937         376          NaN           13519   \n",
       "14326    11208938         376          NaN           13519   \n",
       "14327    11208939         376          NaN           13519   \n",
       "14328    11208940         376          NaN           13519   \n",
       "14329    11208941         376          NaN           13519   \n",
       "\n",
       "                                                metadata  \\\n",
       "0      {\"Genre\":\"Receipt Books\",\"Title\":\"Receipt book...   \n",
       "1      {\"Genre\":\"Receipt Books\",\"Title\":\"Receipt book...   \n",
       "2      {\"Genre\":\"Receipt Books\",\"Title\":\"Cookery and ...   \n",
       "3      {\"Genre\":\"Receipt Books\",\"Title\":\"Cookbook [ma...   \n",
       "4      {\"Genre\":\"Receipt Books\",\"Title\":\"Cookbook of ...   \n",
       "...                                                  ...   \n",
       "14325  {\"Genre\":\"Newsletters\",\"Title\":\"Newdigate fami...   \n",
       "14326  {\"Genre\":\"Newsletters\",\"Title\":\"Newdigate fami...   \n",
       "14327  {\"Genre\":\"Newsletters\",\"Title\":\"Newdigate fami...   \n",
       "14328  {\"Genre\":\"Newsletters\",\"Title\":\"Newdigate fami...   \n",
       "14329  {\"Genre\":\"Newsletters\",\"Title\":\"Newdigate fami...   \n",
       "\n",
       "                                               locations  \\\n",
       "0      {\"0\":\"https://panoptes-uploads.zooniverse.org/...   \n",
       "1      {\"0\":\"https://panoptes-uploads.zooniverse.org/...   \n",
       "2      {\"0\":\"https://panoptes-uploads.zooniverse.org/...   \n",
       "3      {\"0\":\"https://panoptes-uploads.zooniverse.org/...   \n",
       "4      {\"0\":\"https://panoptes-uploads.zooniverse.org/...   \n",
       "...                                                  ...   \n",
       "14325  {\"0\":\"https://panoptes-uploads.zooniverse.org/...   \n",
       "14326  {\"0\":\"https://panoptes-uploads.zooniverse.org/...   \n",
       "14327  {\"0\":\"https://panoptes-uploads.zooniverse.org/...   \n",
       "14328  {\"0\":\"https://panoptes-uploads.zooniverse.org/...   \n",
       "14329  {\"0\":\"https://panoptes-uploads.zooniverse.org/...   \n",
       "\n",
       "       classifications_count retired_at  retirement_reason  \\\n",
       "0                          0        NaN                NaN   \n",
       "1                          0        NaN                NaN   \n",
       "2                          0        NaN                NaN   \n",
       "3                          0        NaN                NaN   \n",
       "4                          0        NaN                NaN   \n",
       "...                      ...        ...                ...   \n",
       "14325                      0        NaN                NaN   \n",
       "14326                      0        NaN                NaN   \n",
       "14327                      0        NaN                NaN   \n",
       "14328                      0        NaN                NaN   \n",
       "14329                      0        NaN                NaN   \n",
       "\n",
       "                    created_at               updated_at  \n",
       "0      2015-12-04 16:20:46 UTC  2018-05-02 15:27:04 UTC  \n",
       "1      2015-12-04 16:20:47 UTC  2018-05-02 15:34:34 UTC  \n",
       "2      2015-12-04 16:20:48 UTC  2018-05-02 15:34:34 UTC  \n",
       "3      2015-12-04 16:20:48 UTC  2018-05-02 15:26:11 UTC  \n",
       "4      2015-12-04 16:20:48 UTC  2018-05-02 15:27:02 UTC  \n",
       "...                        ...                      ...  \n",
       "14325  2017-07-27 12:43:48 UTC  2018-05-02 14:57:46 UTC  \n",
       "14326  2017-07-27 12:43:49 UTC  2018-05-02 14:54:46 UTC  \n",
       "14327  2017-07-27 12:43:49 UTC  2018-05-02 14:55:43 UTC  \n",
       "14328  2017-07-27 12:43:50 UTC  2018-05-02 14:57:29 UTC  \n",
       "14329  2017-07-27 12:43:50 UTC  2018-05-02 14:55:31 UTC  \n",
       "\n",
       "[14330 rows x 11 columns]"
      ],
      "text/html": "<div>\n<style scoped>\n    .dataframe tbody tr th:only-of-type {\n        vertical-align: middle;\n    }\n\n    .dataframe tbody tr th {\n        vertical-align: top;\n    }\n\n    .dataframe thead th {\n        text-align: right;\n    }\n</style>\n<table border=\"1\" class=\"dataframe\">\n  <thead>\n    <tr style=\"text-align: right;\">\n      <th></th>\n      <th>subject_id</th>\n      <th>project_id</th>\n      <th>workflow_id</th>\n      <th>subject_set_id</th>\n      <th>metadata</th>\n      <th>locations</th>\n      <th>classifications_count</th>\n      <th>retired_at</th>\n      <th>retirement_reason</th>\n      <th>created_at</th>\n      <th>updated_at</th>\n    </tr>\n  </thead>\n  <tbody>\n    <tr>\n      <th>0</th>\n      <td>1273522</td>\n      <td>376</td>\n      <td>2363.0</td>\n      <td>2776</td>\n      <td>{\"Genre\":\"Receipt Books\",\"Title\":\"Receipt book...</td>\n      <td>{\"0\":\"https://panoptes-uploads.zooniverse.org/...</td>\n      <td>0</td>\n      <td>NaN</td>\n      <td>NaN</td>\n      <td>2015-12-04 16:20:46 UTC</td>\n      <td>2018-05-02 15:27:04 UTC</td>\n    </tr>\n    <tr>\n      <th>1</th>\n      <td>1273523</td>\n      <td>376</td>\n      <td>2363.0</td>\n      <td>2776</td>\n      <td>{\"Genre\":\"Receipt Books\",\"Title\":\"Receipt book...</td>\n      <td>{\"0\":\"https://panoptes-uploads.zooniverse.org/...</td>\n      <td>0</td>\n      <td>NaN</td>\n      <td>NaN</td>\n      <td>2015-12-04 16:20:47 UTC</td>\n      <td>2018-05-02 15:34:34 UTC</td>\n    </tr>\n    <tr>\n      <th>2</th>\n      <td>1273524</td>\n      <td>376</td>\n      <td>2363.0</td>\n      <td>2776</td>\n      <td>{\"Genre\":\"Receipt Books\",\"Title\":\"Cookery and ...</td>\n      <td>{\"0\":\"https://panoptes-uploads.zooniverse.org/...</td>\n      <td>0</td>\n      <td>NaN</td>\n      <td>NaN</td>\n      <td>2015-12-04 16:20:48 UTC</td>\n      <td>2018-05-02 15:34:34 UTC</td>\n    </tr>\n    <tr>\n      <th>3</th>\n      <td>1273525</td>\n      <td>376</td>\n      <td>2363.0</td>\n      <td>2776</td>\n      <td>{\"Genre\":\"Receipt Books\",\"Title\":\"Cookbook [ma...</td>\n      <td>{\"0\":\"https://panoptes-uploads.zooniverse.org/...</td>\n      <td>0</td>\n      <td>NaN</td>\n      <td>NaN</td>\n      <td>2015-12-04 16:20:48 UTC</td>\n      <td>2018-05-02 15:26:11 UTC</td>\n    </tr>\n    <tr>\n      <th>4</th>\n      <td>1273526</td>\n      <td>376</td>\n      <td>2363.0</td>\n      <td>2776</td>\n      <td>{\"Genre\":\"Receipt Books\",\"Title\":\"Cookbook of ...</td>\n      <td>{\"0\":\"https://panoptes-uploads.zooniverse.org/...</td>\n      <td>0</td>\n      <td>NaN</td>\n      <td>NaN</td>\n      <td>2015-12-04 16:20:48 UTC</td>\n      <td>2018-05-02 15:27:02 UTC</td>\n    </tr>\n    <tr>\n      <th>...</th>\n      <td>...</td>\n      <td>...</td>\n      <td>...</td>\n      <td>...</td>\n      <td>...</td>\n      <td>...</td>\n      <td>...</td>\n      <td>...</td>\n      <td>...</td>\n      <td>...</td>\n      <td>...</td>\n    </tr>\n    <tr>\n      <th>14325</th>\n      <td>11208937</td>\n      <td>376</td>\n      <td>NaN</td>\n      <td>13519</td>\n      <td>{\"Genre\":\"Newsletters\",\"Title\":\"Newdigate fami...</td>\n      <td>{\"0\":\"https://panoptes-uploads.zooniverse.org/...</td>\n      <td>0</td>\n      <td>NaN</td>\n      <td>NaN</td>\n      <td>2017-07-27 12:43:48 UTC</td>\n      <td>2018-05-02 14:57:46 UTC</td>\n    </tr>\n    <tr>\n      <th>14326</th>\n      <td>11208938</td>\n      <td>376</td>\n      <td>NaN</td>\n      <td>13519</td>\n      <td>{\"Genre\":\"Newsletters\",\"Title\":\"Newdigate fami...</td>\n      <td>{\"0\":\"https://panoptes-uploads.zooniverse.org/...</td>\n      <td>0</td>\n      <td>NaN</td>\n      <td>NaN</td>\n      <td>2017-07-27 12:43:49 UTC</td>\n      <td>2018-05-02 14:54:46 UTC</td>\n    </tr>\n    <tr>\n      <th>14327</th>\n      <td>11208939</td>\n      <td>376</td>\n      <td>NaN</td>\n      <td>13519</td>\n      <td>{\"Genre\":\"Newsletters\",\"Title\":\"Newdigate fami...</td>\n      <td>{\"0\":\"https://panoptes-uploads.zooniverse.org/...</td>\n      <td>0</td>\n      <td>NaN</td>\n      <td>NaN</td>\n      <td>2017-07-27 12:43:49 UTC</td>\n      <td>2018-05-02 14:55:43 UTC</td>\n    </tr>\n    <tr>\n      <th>14328</th>\n      <td>11208940</td>\n      <td>376</td>\n      <td>NaN</td>\n      <td>13519</td>\n      <td>{\"Genre\":\"Newsletters\",\"Title\":\"Newdigate fami...</td>\n      <td>{\"0\":\"https://panoptes-uploads.zooniverse.org/...</td>\n      <td>0</td>\n      <td>NaN</td>\n      <td>NaN</td>\n      <td>2017-07-27 12:43:50 UTC</td>\n      <td>2018-05-02 14:57:29 UTC</td>\n    </tr>\n    <tr>\n      <th>14329</th>\n      <td>11208941</td>\n      <td>376</td>\n      <td>NaN</td>\n      <td>13519</td>\n      <td>{\"Genre\":\"Newsletters\",\"Title\":\"Newdigate fami...</td>\n      <td>{\"0\":\"https://panoptes-uploads.zooniverse.org/...</td>\n      <td>0</td>\n      <td>NaN</td>\n      <td>NaN</td>\n      <td>2017-07-27 12:43:50 UTC</td>\n      <td>2018-05-02 14:55:31 UTC</td>\n    </tr>\n  </tbody>\n</table>\n<p>14330 rows × 11 columns</p>\n</div>"
     },
     "metadata": {},
     "execution_count": 3
    }
   ],
   "source": [
    "#Loading in datasets that need to be linked\n",
    "subject = pd.read_csv(\"shakespeares-world-subjects.csv\")\n",
    "newsletters = pd.read_csv('combined_newsletters.csv')\n",
    "subject"
   ]
  },
  {
   "source": [
    "subject['Filename'] = subject['metadata'].re.rsplit('\\w')\n",
    "subject['Filename']"
   ],
   "cell_type": "markdown",
   "metadata": {}
  },
  {
   "cell_type": "code",
   "execution_count": 4,
   "metadata": {},
   "outputs": [
    {
     "output_type": "execute_result",
     "data": {
      "text/plain": [
       "0    [110499.jpg]\n",
       "1    [110500.jpg]\n",
       "2    [110501.jpg]\n",
       "3    [110502.jpg]\n",
       "4    [110503.jpg]\n",
       "Name: Filename, dtype: object"
      ]
     },
     "metadata": {},
     "execution_count": 4
    }
   ],
   "source": [
    "#Seperating the Filename ID from the metadata column in subject\n",
    "subject['Filename'] = subject['metadata'].str.findall('\\d+.jpg')\n",
    "subject['Filename'].to_string()\n",
    "subject['Filename'].head()"
   ]
  },
  {
   "cell_type": "code",
   "execution_count": 5,
   "metadata": {},
   "outputs": [
    {
     "output_type": "execute_result",
     "data": {
      "text/plain": [
       "       subject_id  project_id  workflow_id  subject_set_id  \\\n",
       "0         1273522         376       2363.0            2776   \n",
       "1         1273523         376       2363.0            2776   \n",
       "2         1273524         376       2363.0            2776   \n",
       "3         1273525         376       2363.0            2776   \n",
       "4         1273526         376       2363.0            2776   \n",
       "...           ...         ...          ...             ...   \n",
       "14325    11208937         376          NaN           13519   \n",
       "14326    11208938         376          NaN           13519   \n",
       "14327    11208939         376          NaN           13519   \n",
       "14328    11208940         376          NaN           13519   \n",
       "14329    11208941         376          NaN           13519   \n",
       "\n",
       "                                                metadata  \\\n",
       "0      {\"Genre\":\"Receipt Books\",\"Title\":\"Receipt book...   \n",
       "1      {\"Genre\":\"Receipt Books\",\"Title\":\"Receipt book...   \n",
       "2      {\"Genre\":\"Receipt Books\",\"Title\":\"Cookery and ...   \n",
       "3      {\"Genre\":\"Receipt Books\",\"Title\":\"Cookbook [ma...   \n",
       "4      {\"Genre\":\"Receipt Books\",\"Title\":\"Cookbook of ...   \n",
       "...                                                  ...   \n",
       "14325  {\"Genre\":\"Newsletters\",\"Title\":\"Newdigate fami...   \n",
       "14326  {\"Genre\":\"Newsletters\",\"Title\":\"Newdigate fami...   \n",
       "14327  {\"Genre\":\"Newsletters\",\"Title\":\"Newdigate fami...   \n",
       "14328  {\"Genre\":\"Newsletters\",\"Title\":\"Newdigate fami...   \n",
       "14329  {\"Genre\":\"Newsletters\",\"Title\":\"Newdigate fami...   \n",
       "\n",
       "                                               locations  \\\n",
       "0      {\"0\":\"https://panoptes-uploads.zooniverse.org/...   \n",
       "1      {\"0\":\"https://panoptes-uploads.zooniverse.org/...   \n",
       "2      {\"0\":\"https://panoptes-uploads.zooniverse.org/...   \n",
       "3      {\"0\":\"https://panoptes-uploads.zooniverse.org/...   \n",
       "4      {\"0\":\"https://panoptes-uploads.zooniverse.org/...   \n",
       "...                                                  ...   \n",
       "14325  {\"0\":\"https://panoptes-uploads.zooniverse.org/...   \n",
       "14326  {\"0\":\"https://panoptes-uploads.zooniverse.org/...   \n",
       "14327  {\"0\":\"https://panoptes-uploads.zooniverse.org/...   \n",
       "14328  {\"0\":\"https://panoptes-uploads.zooniverse.org/...   \n",
       "14329  {\"0\":\"https://panoptes-uploads.zooniverse.org/...   \n",
       "\n",
       "       classifications_count retired_at  retirement_reason  \\\n",
       "0                          0        NaN                NaN   \n",
       "1                          0        NaN                NaN   \n",
       "2                          0        NaN                NaN   \n",
       "3                          0        NaN                NaN   \n",
       "4                          0        NaN                NaN   \n",
       "...                      ...        ...                ...   \n",
       "14325                      0        NaN                NaN   \n",
       "14326                      0        NaN                NaN   \n",
       "14327                      0        NaN                NaN   \n",
       "14328                      0        NaN                NaN   \n",
       "14329                      0        NaN                NaN   \n",
       "\n",
       "                    created_at               updated_at    Filename  \n",
       "0      2015-12-04 16:20:46 UTC  2018-05-02 15:27:04 UTC  110499.jpg  \n",
       "1      2015-12-04 16:20:47 UTC  2018-05-02 15:34:34 UTC  110500.jpg  \n",
       "2      2015-12-04 16:20:48 UTC  2018-05-02 15:34:34 UTC  110501.jpg  \n",
       "3      2015-12-04 16:20:48 UTC  2018-05-02 15:26:11 UTC  110502.jpg  \n",
       "4      2015-12-04 16:20:48 UTC  2018-05-02 15:27:02 UTC  110503.jpg  \n",
       "...                        ...                      ...         ...  \n",
       "14325  2017-07-27 12:43:48 UTC  2018-05-02 14:57:46 UTC  092523.jpg  \n",
       "14326  2017-07-27 12:43:49 UTC  2018-05-02 14:54:46 UTC  092524.jpg  \n",
       "14327  2017-07-27 12:43:49 UTC  2018-05-02 14:55:43 UTC  092525.jpg  \n",
       "14328  2017-07-27 12:43:50 UTC  2018-05-02 14:57:29 UTC  092526.jpg  \n",
       "14329  2017-07-27 12:43:50 UTC  2018-05-02 14:55:31 UTC  092527.jpg  \n",
       "\n",
       "[14330 rows x 12 columns]"
      ],
      "text/html": "<div>\n<style scoped>\n    .dataframe tbody tr th:only-of-type {\n        vertical-align: middle;\n    }\n\n    .dataframe tbody tr th {\n        vertical-align: top;\n    }\n\n    .dataframe thead th {\n        text-align: right;\n    }\n</style>\n<table border=\"1\" class=\"dataframe\">\n  <thead>\n    <tr style=\"text-align: right;\">\n      <th></th>\n      <th>subject_id</th>\n      <th>project_id</th>\n      <th>workflow_id</th>\n      <th>subject_set_id</th>\n      <th>metadata</th>\n      <th>locations</th>\n      <th>classifications_count</th>\n      <th>retired_at</th>\n      <th>retirement_reason</th>\n      <th>created_at</th>\n      <th>updated_at</th>\n      <th>Filename</th>\n    </tr>\n  </thead>\n  <tbody>\n    <tr>\n      <th>0</th>\n      <td>1273522</td>\n      <td>376</td>\n      <td>2363.0</td>\n      <td>2776</td>\n      <td>{\"Genre\":\"Receipt Books\",\"Title\":\"Receipt book...</td>\n      <td>{\"0\":\"https://panoptes-uploads.zooniverse.org/...</td>\n      <td>0</td>\n      <td>NaN</td>\n      <td>NaN</td>\n      <td>2015-12-04 16:20:46 UTC</td>\n      <td>2018-05-02 15:27:04 UTC</td>\n      <td>110499.jpg</td>\n    </tr>\n    <tr>\n      <th>1</th>\n      <td>1273523</td>\n      <td>376</td>\n      <td>2363.0</td>\n      <td>2776</td>\n      <td>{\"Genre\":\"Receipt Books\",\"Title\":\"Receipt book...</td>\n      <td>{\"0\":\"https://panoptes-uploads.zooniverse.org/...</td>\n      <td>0</td>\n      <td>NaN</td>\n      <td>NaN</td>\n      <td>2015-12-04 16:20:47 UTC</td>\n      <td>2018-05-02 15:34:34 UTC</td>\n      <td>110500.jpg</td>\n    </tr>\n    <tr>\n      <th>2</th>\n      <td>1273524</td>\n      <td>376</td>\n      <td>2363.0</td>\n      <td>2776</td>\n      <td>{\"Genre\":\"Receipt Books\",\"Title\":\"Cookery and ...</td>\n      <td>{\"0\":\"https://panoptes-uploads.zooniverse.org/...</td>\n      <td>0</td>\n      <td>NaN</td>\n      <td>NaN</td>\n      <td>2015-12-04 16:20:48 UTC</td>\n      <td>2018-05-02 15:34:34 UTC</td>\n      <td>110501.jpg</td>\n    </tr>\n    <tr>\n      <th>3</th>\n      <td>1273525</td>\n      <td>376</td>\n      <td>2363.0</td>\n      <td>2776</td>\n      <td>{\"Genre\":\"Receipt Books\",\"Title\":\"Cookbook [ma...</td>\n      <td>{\"0\":\"https://panoptes-uploads.zooniverse.org/...</td>\n      <td>0</td>\n      <td>NaN</td>\n      <td>NaN</td>\n      <td>2015-12-04 16:20:48 UTC</td>\n      <td>2018-05-02 15:26:11 UTC</td>\n      <td>110502.jpg</td>\n    </tr>\n    <tr>\n      <th>4</th>\n      <td>1273526</td>\n      <td>376</td>\n      <td>2363.0</td>\n      <td>2776</td>\n      <td>{\"Genre\":\"Receipt Books\",\"Title\":\"Cookbook of ...</td>\n      <td>{\"0\":\"https://panoptes-uploads.zooniverse.org/...</td>\n      <td>0</td>\n      <td>NaN</td>\n      <td>NaN</td>\n      <td>2015-12-04 16:20:48 UTC</td>\n      <td>2018-05-02 15:27:02 UTC</td>\n      <td>110503.jpg</td>\n    </tr>\n    <tr>\n      <th>...</th>\n      <td>...</td>\n      <td>...</td>\n      <td>...</td>\n      <td>...</td>\n      <td>...</td>\n      <td>...</td>\n      <td>...</td>\n      <td>...</td>\n      <td>...</td>\n      <td>...</td>\n      <td>...</td>\n      <td>...</td>\n    </tr>\n    <tr>\n      <th>14325</th>\n      <td>11208937</td>\n      <td>376</td>\n      <td>NaN</td>\n      <td>13519</td>\n      <td>{\"Genre\":\"Newsletters\",\"Title\":\"Newdigate fami...</td>\n      <td>{\"0\":\"https://panoptes-uploads.zooniverse.org/...</td>\n      <td>0</td>\n      <td>NaN</td>\n      <td>NaN</td>\n      <td>2017-07-27 12:43:48 UTC</td>\n      <td>2018-05-02 14:57:46 UTC</td>\n      <td>092523.jpg</td>\n    </tr>\n    <tr>\n      <th>14326</th>\n      <td>11208938</td>\n      <td>376</td>\n      <td>NaN</td>\n      <td>13519</td>\n      <td>{\"Genre\":\"Newsletters\",\"Title\":\"Newdigate fami...</td>\n      <td>{\"0\":\"https://panoptes-uploads.zooniverse.org/...</td>\n      <td>0</td>\n      <td>NaN</td>\n      <td>NaN</td>\n      <td>2017-07-27 12:43:49 UTC</td>\n      <td>2018-05-02 14:54:46 UTC</td>\n      <td>092524.jpg</td>\n    </tr>\n    <tr>\n      <th>14327</th>\n      <td>11208939</td>\n      <td>376</td>\n      <td>NaN</td>\n      <td>13519</td>\n      <td>{\"Genre\":\"Newsletters\",\"Title\":\"Newdigate fami...</td>\n      <td>{\"0\":\"https://panoptes-uploads.zooniverse.org/...</td>\n      <td>0</td>\n      <td>NaN</td>\n      <td>NaN</td>\n      <td>2017-07-27 12:43:49 UTC</td>\n      <td>2018-05-02 14:55:43 UTC</td>\n      <td>092525.jpg</td>\n    </tr>\n    <tr>\n      <th>14328</th>\n      <td>11208940</td>\n      <td>376</td>\n      <td>NaN</td>\n      <td>13519</td>\n      <td>{\"Genre\":\"Newsletters\",\"Title\":\"Newdigate fami...</td>\n      <td>{\"0\":\"https://panoptes-uploads.zooniverse.org/...</td>\n      <td>0</td>\n      <td>NaN</td>\n      <td>NaN</td>\n      <td>2017-07-27 12:43:50 UTC</td>\n      <td>2018-05-02 14:57:29 UTC</td>\n      <td>092526.jpg</td>\n    </tr>\n    <tr>\n      <th>14329</th>\n      <td>11208941</td>\n      <td>376</td>\n      <td>NaN</td>\n      <td>13519</td>\n      <td>{\"Genre\":\"Newsletters\",\"Title\":\"Newdigate fami...</td>\n      <td>{\"0\":\"https://panoptes-uploads.zooniverse.org/...</td>\n      <td>0</td>\n      <td>NaN</td>\n      <td>NaN</td>\n      <td>2017-07-27 12:43:50 UTC</td>\n      <td>2018-05-02 14:55:31 UTC</td>\n      <td>092527.jpg</td>\n    </tr>\n  </tbody>\n</table>\n<p>14330 rows × 12 columns</p>\n</div>"
     },
     "metadata": {},
     "execution_count": 5
    }
   ],
   "source": [
    "subject['Filename'] = subject['Filename'].str[0]\n",
    "subject['Filename']\n",
    "subject"
   ]
  },
  {
   "cell_type": "code",
   "execution_count": 6,
   "metadata": {},
   "outputs": [
    {
     "output_type": "execute_result",
     "data": {
      "text/plain": [
       "      Unnamed: 0    Filename  Priority  \\\n",
       "0              1  086370.jpg      6331   \n",
       "1              2  086371.jpg      6332   \n",
       "2              3  086372.jpg      6333   \n",
       "3              4  086373.jpg      6334   \n",
       "4              5  086377.jpg      6335   \n",
       "...          ...         ...       ...   \n",
       "6128        6129  092523.jpg     12462   \n",
       "6129        6130  092524.jpg     12463   \n",
       "6130        6131  092525.jpg     12464   \n",
       "6131        6132  092526.jpg     12465   \n",
       "6132        6133  092527.jpg     12466   \n",
       "\n",
       "                                                  Title  \\\n",
       "0     Newdigate family collection of newsletters fro...   \n",
       "1     Newdigate family collection of newsletters fro...   \n",
       "2     Newdigate family collection of newsletters fro...   \n",
       "3     Newdigate family collection of newsletters fro...   \n",
       "4     Newdigate family collection of newsletters fro...   \n",
       "...                                                 ...   \n",
       "6128  Newdigate family collection of newsletters fro...   \n",
       "6129  Newdigate family collection of newsletters fro...   \n",
       "6130  Newdigate family collection of newsletters fro...   \n",
       "6131  Newdigate family collection of newsletters fro...   \n",
       "6132  Newdigate family collection of newsletters fro...   \n",
       "\n",
       "                                      Author       Origin Call Number  \\\n",
       "0     England and Wales. Secretary of State.  1673/4-1715    L.c.2104   \n",
       "1     England and Wales. Secretary of State.  1673/4-1715    L.c.2104   \n",
       "2     England and Wales. Secretary of State.  1673/4-1715    L.c.2104   \n",
       "3     England and Wales. Secretary of State.  1673/4-1715    L.c.2104   \n",
       "4     England and Wales. Secretary of State.  1673/4-1715    L.c.2106   \n",
       "...                                      ...          ...         ...   \n",
       "6128  England and Wales. Secretary of State.  1673/4-1715    L.c.3948   \n",
       "6129  England and Wales. Secretary of State.  1673/4-1715    L.c.3949   \n",
       "6130  England and Wales. Secretary of State.  1673/4-1715    L.c.3949   \n",
       "6131  England and Wales. Secretary of State.  1673/4-1715    L.c.3950   \n",
       "6132  England and Wales. Secretary of State.  1673/4-1715    L.c.3950   \n",
       "\n",
       "     Page Number  Page Sort        Genre  \\\n",
       "0             1r       6379  Newsletters   \n",
       "1             1v       6380  Newsletters   \n",
       "2             2r       6381  Newsletters   \n",
       "3             2v       6382  Newsletters   \n",
       "4             1r       6386  Newsletters   \n",
       "...          ...        ...          ...   \n",
       "6128          1v      12532  Newsletters   \n",
       "6129          1r      12533  Newsletters   \n",
       "6130          1v      12534  Newsletters   \n",
       "6131          1r      12535  Newsletters   \n",
       "6132          1v      12536  Newsletters   \n",
       "\n",
       "                                               Luna URL  \\\n",
       "0     http://luna.folger.edu/luna/servlet/detail/FOL...   \n",
       "1     http://luna.folger.edu/luna/servlet/detail/FOL...   \n",
       "2     http://luna.folger.edu/luna/servlet/detail/FOL...   \n",
       "3     http://luna.folger.edu/luna/servlet/detail/FOL...   \n",
       "4     http://luna.folger.edu/luna/servlet/detail/FOL...   \n",
       "...                                                 ...   \n",
       "6128  http://luna.folger.edu/luna/servlet/detail/FOL...   \n",
       "6129  http://luna.folger.edu/luna/servlet/detail/FOL...   \n",
       "6130  http://luna.folger.edu/luna/servlet/detail/FOL...   \n",
       "6131  http://luna.folger.edu/luna/servlet/detail/FOL...   \n",
       "6132  http://luna.folger.edu/luna/servlet/detail/FOL...   \n",
       "\n",
       "                                             Hamnet URL  \n",
       "0     http://hamnet.folger.edu/cgi-bin/Pwebrecon.cgi...  \n",
       "1     http://hamnet.folger.edu/cgi-bin/Pwebrecon.cgi...  \n",
       "2     http://hamnet.folger.edu/cgi-bin/Pwebrecon.cgi...  \n",
       "3     http://hamnet.folger.edu/cgi-bin/Pwebrecon.cgi...  \n",
       "4     http://hamnet.folger.edu/cgi-bin/Pwebrecon.cgi...  \n",
       "...                                                 ...  \n",
       "6128  http://hamnet.folger.edu/cgi-bin/Pwebrecon.cgi...  \n",
       "6129  http://hamnet.folger.edu/cgi-bin/Pwebrecon.cgi...  \n",
       "6130  http://hamnet.folger.edu/cgi-bin/Pwebrecon.cgi...  \n",
       "6131  http://hamnet.folger.edu/cgi-bin/Pwebrecon.cgi...  \n",
       "6132  http://hamnet.folger.edu/cgi-bin/Pwebrecon.cgi...  \n",
       "\n",
       "[6133 rows x 12 columns]"
      ],
      "text/html": "<div>\n<style scoped>\n    .dataframe tbody tr th:only-of-type {\n        vertical-align: middle;\n    }\n\n    .dataframe tbody tr th {\n        vertical-align: top;\n    }\n\n    .dataframe thead th {\n        text-align: right;\n    }\n</style>\n<table border=\"1\" class=\"dataframe\">\n  <thead>\n    <tr style=\"text-align: right;\">\n      <th></th>\n      <th>Unnamed: 0</th>\n      <th>Filename</th>\n      <th>Priority</th>\n      <th>Title</th>\n      <th>Author</th>\n      <th>Origin</th>\n      <th>Call Number</th>\n      <th>Page Number</th>\n      <th>Page Sort</th>\n      <th>Genre</th>\n      <th>Luna URL</th>\n      <th>Hamnet URL</th>\n    </tr>\n  </thead>\n  <tbody>\n    <tr>\n      <th>0</th>\n      <td>1</td>\n      <td>086370.jpg</td>\n      <td>6331</td>\n      <td>Newdigate family collection of newsletters fro...</td>\n      <td>England and Wales. Secretary of State.</td>\n      <td>1673/4-1715</td>\n      <td>L.c.2104</td>\n      <td>1r</td>\n      <td>6379</td>\n      <td>Newsletters</td>\n      <td>http://luna.folger.edu/luna/servlet/detail/FOL...</td>\n      <td>http://hamnet.folger.edu/cgi-bin/Pwebrecon.cgi...</td>\n    </tr>\n    <tr>\n      <th>1</th>\n      <td>2</td>\n      <td>086371.jpg</td>\n      <td>6332</td>\n      <td>Newdigate family collection of newsletters fro...</td>\n      <td>England and Wales. Secretary of State.</td>\n      <td>1673/4-1715</td>\n      <td>L.c.2104</td>\n      <td>1v</td>\n      <td>6380</td>\n      <td>Newsletters</td>\n      <td>http://luna.folger.edu/luna/servlet/detail/FOL...</td>\n      <td>http://hamnet.folger.edu/cgi-bin/Pwebrecon.cgi...</td>\n    </tr>\n    <tr>\n      <th>2</th>\n      <td>3</td>\n      <td>086372.jpg</td>\n      <td>6333</td>\n      <td>Newdigate family collection of newsletters fro...</td>\n      <td>England and Wales. Secretary of State.</td>\n      <td>1673/4-1715</td>\n      <td>L.c.2104</td>\n      <td>2r</td>\n      <td>6381</td>\n      <td>Newsletters</td>\n      <td>http://luna.folger.edu/luna/servlet/detail/FOL...</td>\n      <td>http://hamnet.folger.edu/cgi-bin/Pwebrecon.cgi...</td>\n    </tr>\n    <tr>\n      <th>3</th>\n      <td>4</td>\n      <td>086373.jpg</td>\n      <td>6334</td>\n      <td>Newdigate family collection of newsletters fro...</td>\n      <td>England and Wales. Secretary of State.</td>\n      <td>1673/4-1715</td>\n      <td>L.c.2104</td>\n      <td>2v</td>\n      <td>6382</td>\n      <td>Newsletters</td>\n      <td>http://luna.folger.edu/luna/servlet/detail/FOL...</td>\n      <td>http://hamnet.folger.edu/cgi-bin/Pwebrecon.cgi...</td>\n    </tr>\n    <tr>\n      <th>4</th>\n      <td>5</td>\n      <td>086377.jpg</td>\n      <td>6335</td>\n      <td>Newdigate family collection of newsletters fro...</td>\n      <td>England and Wales. Secretary of State.</td>\n      <td>1673/4-1715</td>\n      <td>L.c.2106</td>\n      <td>1r</td>\n      <td>6386</td>\n      <td>Newsletters</td>\n      <td>http://luna.folger.edu/luna/servlet/detail/FOL...</td>\n      <td>http://hamnet.folger.edu/cgi-bin/Pwebrecon.cgi...</td>\n    </tr>\n    <tr>\n      <th>...</th>\n      <td>...</td>\n      <td>...</td>\n      <td>...</td>\n      <td>...</td>\n      <td>...</td>\n      <td>...</td>\n      <td>...</td>\n      <td>...</td>\n      <td>...</td>\n      <td>...</td>\n      <td>...</td>\n      <td>...</td>\n    </tr>\n    <tr>\n      <th>6128</th>\n      <td>6129</td>\n      <td>092523.jpg</td>\n      <td>12462</td>\n      <td>Newdigate family collection of newsletters fro...</td>\n      <td>England and Wales. Secretary of State.</td>\n      <td>1673/4-1715</td>\n      <td>L.c.3948</td>\n      <td>1v</td>\n      <td>12532</td>\n      <td>Newsletters</td>\n      <td>http://luna.folger.edu/luna/servlet/detail/FOL...</td>\n      <td>http://hamnet.folger.edu/cgi-bin/Pwebrecon.cgi...</td>\n    </tr>\n    <tr>\n      <th>6129</th>\n      <td>6130</td>\n      <td>092524.jpg</td>\n      <td>12463</td>\n      <td>Newdigate family collection of newsletters fro...</td>\n      <td>England and Wales. Secretary of State.</td>\n      <td>1673/4-1715</td>\n      <td>L.c.3949</td>\n      <td>1r</td>\n      <td>12533</td>\n      <td>Newsletters</td>\n      <td>http://luna.folger.edu/luna/servlet/detail/FOL...</td>\n      <td>http://hamnet.folger.edu/cgi-bin/Pwebrecon.cgi...</td>\n    </tr>\n    <tr>\n      <th>6130</th>\n      <td>6131</td>\n      <td>092525.jpg</td>\n      <td>12464</td>\n      <td>Newdigate family collection of newsletters fro...</td>\n      <td>England and Wales. Secretary of State.</td>\n      <td>1673/4-1715</td>\n      <td>L.c.3949</td>\n      <td>1v</td>\n      <td>12534</td>\n      <td>Newsletters</td>\n      <td>http://luna.folger.edu/luna/servlet/detail/FOL...</td>\n      <td>http://hamnet.folger.edu/cgi-bin/Pwebrecon.cgi...</td>\n    </tr>\n    <tr>\n      <th>6131</th>\n      <td>6132</td>\n      <td>092526.jpg</td>\n      <td>12465</td>\n      <td>Newdigate family collection of newsletters fro...</td>\n      <td>England and Wales. Secretary of State.</td>\n      <td>1673/4-1715</td>\n      <td>L.c.3950</td>\n      <td>1r</td>\n      <td>12535</td>\n      <td>Newsletters</td>\n      <td>http://luna.folger.edu/luna/servlet/detail/FOL...</td>\n      <td>http://hamnet.folger.edu/cgi-bin/Pwebrecon.cgi...</td>\n    </tr>\n    <tr>\n      <th>6132</th>\n      <td>6133</td>\n      <td>092527.jpg</td>\n      <td>12466</td>\n      <td>Newdigate family collection of newsletters fro...</td>\n      <td>England and Wales. Secretary of State.</td>\n      <td>1673/4-1715</td>\n      <td>L.c.3950</td>\n      <td>1v</td>\n      <td>12536</td>\n      <td>Newsletters</td>\n      <td>http://luna.folger.edu/luna/servlet/detail/FOL...</td>\n      <td>http://hamnet.folger.edu/cgi-bin/Pwebrecon.cgi...</td>\n    </tr>\n  </tbody>\n</table>\n<p>6133 rows × 12 columns</p>\n</div>"
     },
     "metadata": {},
     "execution_count": 6
    }
   ],
   "source": [
    "newsletters"
   ]
  },
  {
   "cell_type": "code",
   "execution_count": 7,
   "metadata": {},
   "outputs": [],
   "source": [
    "merged = subject.merge(newsletters, how = 'left', on = 'Filename')"
   ]
  },
  {
   "cell_type": "code",
   "execution_count": 8,
   "metadata": {},
   "outputs": [
    {
     "output_type": "error",
     "ename": "AttributeError",
     "evalue": "module 'pandas' has no attribute 'to_csv'",
     "traceback": [
      "\u001b[1;31m---------------------------------------------------------------------------\u001b[0m",
      "\u001b[1;31mAttributeError\u001b[0m                            Traceback (most recent call last)",
      "\u001b[1;32m<ipython-input-8-0bdbb932b542>\u001b[0m in \u001b[0;36m<module>\u001b[1;34m\u001b[0m\n\u001b[1;32m----> 1\u001b[1;33m \u001b[0mpd\u001b[0m\u001b[1;33m.\u001b[0m\u001b[0mto_csv\u001b[0m\u001b[1;33m(\u001b[0m\u001b[0mmerged\u001b[0m\u001b[1;33m,\u001b[0m \u001b[1;34m\"newsletters_subjectid.csv\"\u001b[0m\u001b[1;33m)\u001b[0m\u001b[1;33m\u001b[0m\u001b[1;33m\u001b[0m\u001b[0m\n\u001b[0m",
      "\u001b[1;32m~\\anaconda3\\lib\\site-packages\\pandas\\__init__.py\u001b[0m in \u001b[0;36m__getattr__\u001b[1;34m(name)\u001b[0m\n\u001b[0;32m    261\u001b[0m             \u001b[1;32mreturn\u001b[0m \u001b[0m_SparseArray\u001b[0m\u001b[1;33m\u001b[0m\u001b[1;33m\u001b[0m\u001b[0m\n\u001b[0;32m    262\u001b[0m \u001b[1;33m\u001b[0m\u001b[0m\n\u001b[1;32m--> 263\u001b[1;33m         \u001b[1;32mraise\u001b[0m \u001b[0mAttributeError\u001b[0m\u001b[1;33m(\u001b[0m\u001b[1;34mf\"module 'pandas' has no attribute '{name}'\"\u001b[0m\u001b[1;33m)\u001b[0m\u001b[1;33m\u001b[0m\u001b[1;33m\u001b[0m\u001b[0m\n\u001b[0m\u001b[0;32m    264\u001b[0m \u001b[1;33m\u001b[0m\u001b[0m\n\u001b[0;32m    265\u001b[0m \u001b[1;33m\u001b[0m\u001b[0m\n",
      "\u001b[1;31mAttributeError\u001b[0m: module 'pandas' has no attribute 'to_csv'"
     ]
    }
   ],
   "source": [
    "merged.to_csv(\"newsletters_subjectid.csv\")"
   ]
  },
  {
   "cell_type": "code",
   "execution_count": null,
   "metadata": {},
   "outputs": [],
   "source": []
  }
 ],
 "metadata": {
  "kernelspec": {
   "display_name": "Python 3",
   "language": "python",
   "name": "python3"
  },
  "language_info": {
   "codemirror_mode": {
    "name": "ipython",
    "version": 3
   },
   "file_extension": ".py",
   "mimetype": "text/x-python",
   "name": "python",
   "nbconvert_exporter": "python",
   "pygments_lexer": "ipython3",
   "version": "3.8.3"
  }
 },
 "nbformat": 4,
 "nbformat_minor": 2
}