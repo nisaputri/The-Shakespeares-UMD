{
 "cells": [
  {
   "cell_type": "code",
   "execution_count": 2,
   "metadata": {},
   "outputs": [],
   "source": [
    "#Notebook used for cleaning data\n",
    "import numpy as np\n",
    "import pandas as pd"
   ]
  },
  {
   "source": [
    "For the first step in the project we must link the Zooniverse Manuscript to the Subject ID"
   ],
   "cell_type": "markdown",
   "metadata": {}
  },
  {
   "cell_type": "code",
   "execution_count": 3,
   "metadata": {},
   "outputs": [
    {
     "output_type": "execute_result",
     "data": {
      "text/plain": [
       "   subject_id  project_id  workflow_id  subject_set_id  \\\n",
       "0     1273522         376       2363.0            2776   \n",
       "1     1273523         376       2363.0            2776   \n",
       "2     1273524         376       2363.0            2776   \n",
       "3     1273525         376       2363.0            2776   \n",
       "4     1273526         376       2363.0            2776   \n",
       "\n",
       "                                            metadata  \\\n",
       "0  {\"Genre\":\"Receipt Books\",\"Title\":\"Receipt book...   \n",
       "1  {\"Genre\":\"Receipt Books\",\"Title\":\"Receipt book...   \n",
       "2  {\"Genre\":\"Receipt Books\",\"Title\":\"Cookery and ...   \n",
       "3  {\"Genre\":\"Receipt Books\",\"Title\":\"Cookbook [ma...   \n",
       "4  {\"Genre\":\"Receipt Books\",\"Title\":\"Cookbook of ...   \n",
       "\n",
       "                                           locations  classifications_count  \\\n",
       "0  {\"0\":\"https://panoptes-uploads.zooniverse.org/...                      0   \n",
       "1  {\"0\":\"https://panoptes-uploads.zooniverse.org/...                      0   \n",
       "2  {\"0\":\"https://panoptes-uploads.zooniverse.org/...                      0   \n",
       "3  {\"0\":\"https://panoptes-uploads.zooniverse.org/...                      0   \n",
       "4  {\"0\":\"https://panoptes-uploads.zooniverse.org/...                      0   \n",
       "\n",
       "  retired_at  retirement_reason               created_at  \\\n",
       "0        NaN                NaN  2015-12-04 16:20:46 UTC   \n",
       "1        NaN                NaN  2015-12-04 16:20:47 UTC   \n",
       "2        NaN                NaN  2015-12-04 16:20:48 UTC   \n",
       "3        NaN                NaN  2015-12-04 16:20:48 UTC   \n",
       "4        NaN                NaN  2015-12-04 16:20:48 UTC   \n",
       "\n",
       "                updated_at  \n",
       "0  2018-05-02 15:27:04 UTC  \n",
       "1  2018-05-02 15:34:34 UTC  \n",
       "2  2018-05-02 15:34:34 UTC  \n",
       "3  2018-05-02 15:26:11 UTC  \n",
       "4  2018-05-02 15:27:02 UTC  "
      ],
      "text/html": "<div>\n<style scoped>\n    .dataframe tbody tr th:only-of-type {\n        vertical-align: middle;\n    }\n\n    .dataframe tbody tr th {\n        vertical-align: top;\n    }\n\n    .dataframe thead th {\n        text-align: right;\n    }\n</style>\n<table border=\"1\" class=\"dataframe\">\n  <thead>\n    <tr style=\"text-align: right;\">\n      <th></th>\n      <th>subject_id</th>\n      <th>project_id</th>\n      <th>workflow_id</th>\n      <th>subject_set_id</th>\n      <th>metadata</th>\n      <th>locations</th>\n      <th>classifications_count</th>\n      <th>retired_at</th>\n      <th>retirement_reason</th>\n      <th>created_at</th>\n      <th>updated_at</th>\n    </tr>\n  </thead>\n  <tbody>\n    <tr>\n      <td>0</td>\n      <td>1273522</td>\n      <td>376</td>\n      <td>2363.0</td>\n      <td>2776</td>\n      <td>{\"Genre\":\"Receipt Books\",\"Title\":\"Receipt book...</td>\n      <td>{\"0\":\"https://panoptes-uploads.zooniverse.org/...</td>\n      <td>0</td>\n      <td>NaN</td>\n      <td>NaN</td>\n      <td>2015-12-04 16:20:46 UTC</td>\n      <td>2018-05-02 15:27:04 UTC</td>\n    </tr>\n    <tr>\n      <td>1</td>\n      <td>1273523</td>\n      <td>376</td>\n      <td>2363.0</td>\n      <td>2776</td>\n      <td>{\"Genre\":\"Receipt Books\",\"Title\":\"Receipt book...</td>\n      <td>{\"0\":\"https://panoptes-uploads.zooniverse.org/...</td>\n      <td>0</td>\n      <td>NaN</td>\n      <td>NaN</td>\n      <td>2015-12-04 16:20:47 UTC</td>\n      <td>2018-05-02 15:34:34 UTC</td>\n    </tr>\n    <tr>\n      <td>2</td>\n      <td>1273524</td>\n      <td>376</td>\n      <td>2363.0</td>\n      <td>2776</td>\n      <td>{\"Genre\":\"Receipt Books\",\"Title\":\"Cookery and ...</td>\n      <td>{\"0\":\"https://panoptes-uploads.zooniverse.org/...</td>\n      <td>0</td>\n      <td>NaN</td>\n      <td>NaN</td>\n      <td>2015-12-04 16:20:48 UTC</td>\n      <td>2018-05-02 15:34:34 UTC</td>\n    </tr>\n    <tr>\n      <td>3</td>\n      <td>1273525</td>\n      <td>376</td>\n      <td>2363.0</td>\n      <td>2776</td>\n      <td>{\"Genre\":\"Receipt Books\",\"Title\":\"Cookbook [ma...</td>\n      <td>{\"0\":\"https://panoptes-uploads.zooniverse.org/...</td>\n      <td>0</td>\n      <td>NaN</td>\n      <td>NaN</td>\n      <td>2015-12-04 16:20:48 UTC</td>\n      <td>2018-05-02 15:26:11 UTC</td>\n    </tr>\n    <tr>\n      <td>4</td>\n      <td>1273526</td>\n      <td>376</td>\n      <td>2363.0</td>\n      <td>2776</td>\n      <td>{\"Genre\":\"Receipt Books\",\"Title\":\"Cookbook of ...</td>\n      <td>{\"0\":\"https://panoptes-uploads.zooniverse.org/...</td>\n      <td>0</td>\n      <td>NaN</td>\n      <td>NaN</td>\n      <td>2015-12-04 16:20:48 UTC</td>\n      <td>2018-05-02 15:27:02 UTC</td>\n    </tr>\n  </tbody>\n</table>\n</div>"
     },
     "metadata": {},
     "execution_count": 3
    }
   ],
   "source": [
    "#Loading in datasets that need to be linked\n",
    "subject = pd.read_csv(\"shakespeares-world-subjects.csv\")\n",
    "newsletters = pd.read_csv('combined_newsletters.csv')\n",
    "subject.head()"
   ]
  },
  {
   "source": [
    "subject['Filename'] = subject['metadata'].re.rsplit('\\w')\n",
    "subject['Filename']"
   ],
   "cell_type": "markdown",
   "metadata": {}
  },
  {
   "cell_type": "code",
   "execution_count": 4,
   "metadata": {},
   "outputs": [
    {
     "output_type": "execute_result",
     "data": {
      "text/plain": [
       "0    [110499.jpg]\n",
       "1    [110500.jpg]\n",
       "2    [110501.jpg]\n",
       "3    [110502.jpg]\n",
       "4    [110503.jpg]\n",
       "Name: Filename, dtype: object"
      ]
     },
     "metadata": {},
     "execution_count": 4
    }
   ],
   "source": [
    "#Seperating the Filename ID from the metadata column in subject\n",
    "subject['Filename'] = subject['metadata'].str.findall('\\d+.jpg')\n",
    "subject['Filename'].to_string()\n",
    "subject['Filename'].head()"
   ]
  },
  {
   "cell_type": "code",
   "execution_count": 5,
   "metadata": {},
   "outputs": [
    {
     "output_type": "execute_result",
     "data": {
      "text/plain": [
       "0        110499.jpg\n",
       "1        110500.jpg\n",
       "2        110501.jpg\n",
       "3        110502.jpg\n",
       "4        110503.jpg\n",
       "            ...    \n",
       "14325    092523.jpg\n",
       "14326    092524.jpg\n",
       "14327    092525.jpg\n",
       "14328    092526.jpg\n",
       "14329    092527.jpg\n",
       "Name: Filename, Length: 14330, dtype: object"
      ]
     },
     "metadata": {},
     "execution_count": 5
    }
   ],
   "source": [
    "subject['Filename'] = subject['Filename'].str[0]\n",
    "subject['Filename']"
   ]
  },
  {
   "cell_type": "code",
   "execution_count": null,
   "metadata": {},
   "outputs": [],
   "source": []
  }
 ],
 "metadata": {
  "kernelspec": {
   "display_name": "Python 3",
   "language": "python",
   "name": "python3"
  },
  "language_info": {
   "codemirror_mode": {
    "name": "ipython",
    "version": 3
   },
   "file_extension": ".py",
   "mimetype": "text/x-python",
   "name": "python",
   "nbconvert_exporter": "python",
   "pygments_lexer": "ipython3",
   "version": "3.7.4"
  }
 },
 "nbformat": 4,
 "nbformat_minor": 2
}