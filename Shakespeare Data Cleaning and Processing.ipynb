{
 "cells": [
  {
   "cell_type": "code",
   "execution_count": 2,
   "metadata": {},
   "outputs": [],
   "source": [
    "#Notebook used for cleaning data\n",
    "import numpy as np\n",
    "import pandas as pd\n",
    "from pandas.io.json import json_normalize\n"
   ]
  },
  {
   "source": [
    "For the first step in the project we must link the Zooniverse Manuscript to the Subject ID"
   ],
   "cell_type": "markdown",
   "metadata": {}
  },
  {
   "cell_type": "code",
   "execution_count": 3,
   "metadata": {},
   "outputs": [],
   "source": [
    "#Loading in datasets that need to be linked\n",
    "subject = pd.read_csv(\"shakespeares-world-subjects.csv\")\n",
    "newsletters = pd.read_csv('combined_newsletters.csv')\n"
   ]
  },
  {
   "cell_type": "code",
   "execution_count": 4,
   "metadata": {},
   "outputs": [
    {
     "output_type": "execute_result",
     "data": {
      "text/plain": [
       "0    [110499.jpg]\n",
       "1    [110500.jpg]\n",
       "2    [110501.jpg]\n",
       "3    [110502.jpg]\n",
       "4    [110503.jpg]\n",
       "Name: Filename, dtype: object"
      ]
     },
     "metadata": {},
     "execution_count": 4
    }
   ],
   "source": [
    "#Seperating the Filename ID from the metadata column in subject\n",
    "subject['Filename'] = subject['metadata'].str.findall('\\d+.jpg')\n",
    "subject['Filename'].to_string()\n",
    "subject['Filename'].head()"
   ]
  },
  {
   "cell_type": "code",
   "execution_count": 5,
   "metadata": {},
   "outputs": [
    {
     "output_type": "execute_result",
     "data": {
      "text/plain": [
       "   subject_id  project_id  workflow_id  subject_set_id  \\\n",
       "0     1273522         376       2363.0            2776   \n",
       "1     1273523         376       2363.0            2776   \n",
       "2     1273524         376       2363.0            2776   \n",
       "3     1273525         376       2363.0            2776   \n",
       "4     1273526         376       2363.0            2776   \n",
       "\n",
       "                                            metadata  \\\n",
       "0  {\"Genre\":\"Receipt Books\",\"Title\":\"Receipt book...   \n",
       "1  {\"Genre\":\"Receipt Books\",\"Title\":\"Receipt book...   \n",
       "2  {\"Genre\":\"Receipt Books\",\"Title\":\"Cookery and ...   \n",
       "3  {\"Genre\":\"Receipt Books\",\"Title\":\"Cookbook [ma...   \n",
       "4  {\"Genre\":\"Receipt Books\",\"Title\":\"Cookbook of ...   \n",
       "\n",
       "                                           locations  classifications_count  \\\n",
       "0  {\"0\":\"https://panoptes-uploads.zooniverse.org/...                      0   \n",
       "1  {\"0\":\"https://panoptes-uploads.zooniverse.org/...                      0   \n",
       "2  {\"0\":\"https://panoptes-uploads.zooniverse.org/...                      0   \n",
       "3  {\"0\":\"https://panoptes-uploads.zooniverse.org/...                      0   \n",
       "4  {\"0\":\"https://panoptes-uploads.zooniverse.org/...                      0   \n",
       "\n",
       "  retired_at  retirement_reason               created_at  \\\n",
       "0        NaN                NaN  2015-12-04 16:20:46 UTC   \n",
       "1        NaN                NaN  2015-12-04 16:20:47 UTC   \n",
       "2        NaN                NaN  2015-12-04 16:20:48 UTC   \n",
       "3        NaN                NaN  2015-12-04 16:20:48 UTC   \n",
       "4        NaN                NaN  2015-12-04 16:20:48 UTC   \n",
       "\n",
       "                updated_at    Filename  \n",
       "0  2018-05-02 15:27:04 UTC  110499.jpg  \n",
       "1  2018-05-02 15:34:34 UTC  110500.jpg  \n",
       "2  2018-05-02 15:34:34 UTC  110501.jpg  \n",
       "3  2018-05-02 15:26:11 UTC  110502.jpg  \n",
       "4  2018-05-02 15:27:02 UTC  110503.jpg  "
      ],
      "text/html": "<div>\n<style scoped>\n    .dataframe tbody tr th:only-of-type {\n        vertical-align: middle;\n    }\n\n    .dataframe tbody tr th {\n        vertical-align: top;\n    }\n\n    .dataframe thead th {\n        text-align: right;\n    }\n</style>\n<table border=\"1\" class=\"dataframe\">\n  <thead>\n    <tr style=\"text-align: right;\">\n      <th></th>\n      <th>subject_id</th>\n      <th>project_id</th>\n      <th>workflow_id</th>\n      <th>subject_set_id</th>\n      <th>metadata</th>\n      <th>locations</th>\n      <th>classifications_count</th>\n      <th>retired_at</th>\n      <th>retirement_reason</th>\n      <th>created_at</th>\n      <th>updated_at</th>\n      <th>Filename</th>\n    </tr>\n  </thead>\n  <tbody>\n    <tr>\n      <td>0</td>\n      <td>1273522</td>\n      <td>376</td>\n      <td>2363.0</td>\n      <td>2776</td>\n      <td>{\"Genre\":\"Receipt Books\",\"Title\":\"Receipt book...</td>\n      <td>{\"0\":\"https://panoptes-uploads.zooniverse.org/...</td>\n      <td>0</td>\n      <td>NaN</td>\n      <td>NaN</td>\n      <td>2015-12-04 16:20:46 UTC</td>\n      <td>2018-05-02 15:27:04 UTC</td>\n      <td>110499.jpg</td>\n    </tr>\n    <tr>\n      <td>1</td>\n      <td>1273523</td>\n      <td>376</td>\n      <td>2363.0</td>\n      <td>2776</td>\n      <td>{\"Genre\":\"Receipt Books\",\"Title\":\"Receipt book...</td>\n      <td>{\"0\":\"https://panoptes-uploads.zooniverse.org/...</td>\n      <td>0</td>\n      <td>NaN</td>\n      <td>NaN</td>\n      <td>2015-12-04 16:20:47 UTC</td>\n      <td>2018-05-02 15:34:34 UTC</td>\n      <td>110500.jpg</td>\n    </tr>\n    <tr>\n      <td>2</td>\n      <td>1273524</td>\n      <td>376</td>\n      <td>2363.0</td>\n      <td>2776</td>\n      <td>{\"Genre\":\"Receipt Books\",\"Title\":\"Cookery and ...</td>\n      <td>{\"0\":\"https://panoptes-uploads.zooniverse.org/...</td>\n      <td>0</td>\n      <td>NaN</td>\n      <td>NaN</td>\n      <td>2015-12-04 16:20:48 UTC</td>\n      <td>2018-05-02 15:34:34 UTC</td>\n      <td>110501.jpg</td>\n    </tr>\n    <tr>\n      <td>3</td>\n      <td>1273525</td>\n      <td>376</td>\n      <td>2363.0</td>\n      <td>2776</td>\n      <td>{\"Genre\":\"Receipt Books\",\"Title\":\"Cookbook [ma...</td>\n      <td>{\"0\":\"https://panoptes-uploads.zooniverse.org/...</td>\n      <td>0</td>\n      <td>NaN</td>\n      <td>NaN</td>\n      <td>2015-12-04 16:20:48 UTC</td>\n      <td>2018-05-02 15:26:11 UTC</td>\n      <td>110502.jpg</td>\n    </tr>\n    <tr>\n      <td>4</td>\n      <td>1273526</td>\n      <td>376</td>\n      <td>2363.0</td>\n      <td>2776</td>\n      <td>{\"Genre\":\"Receipt Books\",\"Title\":\"Cookbook of ...</td>\n      <td>{\"0\":\"https://panoptes-uploads.zooniverse.org/...</td>\n      <td>0</td>\n      <td>NaN</td>\n      <td>NaN</td>\n      <td>2015-12-04 16:20:48 UTC</td>\n      <td>2018-05-02 15:27:02 UTC</td>\n      <td>110503.jpg</td>\n    </tr>\n  </tbody>\n</table>\n</div>"
     },
     "metadata": {},
     "execution_count": 5
    }
   ],
   "source": [
    "subject['Filename'] = subject['Filename'].str[0]\n",
    "subject['Filename']\n",
    "subject.head()"
   ]
  },
  {
   "cell_type": "code",
   "execution_count": 6,
   "metadata": {},
   "outputs": [
    {
     "output_type": "execute_result",
     "data": {
      "text/plain": [
       "   Unnamed: 0    Filename  Priority  \\\n",
       "0           1  086370.jpg      6331   \n",
       "1           2  086371.jpg      6332   \n",
       "2           3  086372.jpg      6333   \n",
       "3           4  086373.jpg      6334   \n",
       "4           5  086377.jpg      6335   \n",
       "\n",
       "                                               Title  \\\n",
       "0  Newdigate family collection of newsletters fro...   \n",
       "1  Newdigate family collection of newsletters fro...   \n",
       "2  Newdigate family collection of newsletters fro...   \n",
       "3  Newdigate family collection of newsletters fro...   \n",
       "4  Newdigate family collection of newsletters fro...   \n",
       "\n",
       "                                   Author       Origin Call Number  \\\n",
       "0  England and Wales. Secretary of State.  1673/4-1715    L.c.2104   \n",
       "1  England and Wales. Secretary of State.  1673/4-1715    L.c.2104   \n",
       "2  England and Wales. Secretary of State.  1673/4-1715    L.c.2104   \n",
       "3  England and Wales. Secretary of State.  1673/4-1715    L.c.2104   \n",
       "4  England and Wales. Secretary of State.  1673/4-1715    L.c.2106   \n",
       "\n",
       "  Page Number  Page Sort        Genre  \\\n",
       "0          1r       6379  Newsletters   \n",
       "1          1v       6380  Newsletters   \n",
       "2          2r       6381  Newsletters   \n",
       "3          2v       6382  Newsletters   \n",
       "4          1r       6386  Newsletters   \n",
       "\n",
       "                                            Luna URL  \\\n",
       "0  http://luna.folger.edu/luna/servlet/detail/FOL...   \n",
       "1  http://luna.folger.edu/luna/servlet/detail/FOL...   \n",
       "2  http://luna.folger.edu/luna/servlet/detail/FOL...   \n",
       "3  http://luna.folger.edu/luna/servlet/detail/FOL...   \n",
       "4  http://luna.folger.edu/luna/servlet/detail/FOL...   \n",
       "\n",
       "                                          Hamnet URL  \n",
       "0  http://hamnet.folger.edu/cgi-bin/Pwebrecon.cgi...  \n",
       "1  http://hamnet.folger.edu/cgi-bin/Pwebrecon.cgi...  \n",
       "2  http://hamnet.folger.edu/cgi-bin/Pwebrecon.cgi...  \n",
       "3  http://hamnet.folger.edu/cgi-bin/Pwebrecon.cgi...  \n",
       "4  http://hamnet.folger.edu/cgi-bin/Pwebrecon.cgi...  "
      ],
      "text/html": "<div>\n<style scoped>\n    .dataframe tbody tr th:only-of-type {\n        vertical-align: middle;\n    }\n\n    .dataframe tbody tr th {\n        vertical-align: top;\n    }\n\n    .dataframe thead th {\n        text-align: right;\n    }\n</style>\n<table border=\"1\" class=\"dataframe\">\n  <thead>\n    <tr style=\"text-align: right;\">\n      <th></th>\n      <th>Unnamed: 0</th>\n      <th>Filename</th>\n      <th>Priority</th>\n      <th>Title</th>\n      <th>Author</th>\n      <th>Origin</th>\n      <th>Call Number</th>\n      <th>Page Number</th>\n      <th>Page Sort</th>\n      <th>Genre</th>\n      <th>Luna URL</th>\n      <th>Hamnet URL</th>\n    </tr>\n  </thead>\n  <tbody>\n    <tr>\n      <td>0</td>\n      <td>1</td>\n      <td>086370.jpg</td>\n      <td>6331</td>\n      <td>Newdigate family collection of newsletters fro...</td>\n      <td>England and Wales. Secretary of State.</td>\n      <td>1673/4-1715</td>\n      <td>L.c.2104</td>\n      <td>1r</td>\n      <td>6379</td>\n      <td>Newsletters</td>\n      <td>http://luna.folger.edu/luna/servlet/detail/FOL...</td>\n      <td>http://hamnet.folger.edu/cgi-bin/Pwebrecon.cgi...</td>\n    </tr>\n    <tr>\n      <td>1</td>\n      <td>2</td>\n      <td>086371.jpg</td>\n      <td>6332</td>\n      <td>Newdigate family collection of newsletters fro...</td>\n      <td>England and Wales. Secretary of State.</td>\n      <td>1673/4-1715</td>\n      <td>L.c.2104</td>\n      <td>1v</td>\n      <td>6380</td>\n      <td>Newsletters</td>\n      <td>http://luna.folger.edu/luna/servlet/detail/FOL...</td>\n      <td>http://hamnet.folger.edu/cgi-bin/Pwebrecon.cgi...</td>\n    </tr>\n    <tr>\n      <td>2</td>\n      <td>3</td>\n      <td>086372.jpg</td>\n      <td>6333</td>\n      <td>Newdigate family collection of newsletters fro...</td>\n      <td>England and Wales. Secretary of State.</td>\n      <td>1673/4-1715</td>\n      <td>L.c.2104</td>\n      <td>2r</td>\n      <td>6381</td>\n      <td>Newsletters</td>\n      <td>http://luna.folger.edu/luna/servlet/detail/FOL...</td>\n      <td>http://hamnet.folger.edu/cgi-bin/Pwebrecon.cgi...</td>\n    </tr>\n    <tr>\n      <td>3</td>\n      <td>4</td>\n      <td>086373.jpg</td>\n      <td>6334</td>\n      <td>Newdigate family collection of newsletters fro...</td>\n      <td>England and Wales. Secretary of State.</td>\n      <td>1673/4-1715</td>\n      <td>L.c.2104</td>\n      <td>2v</td>\n      <td>6382</td>\n      <td>Newsletters</td>\n      <td>http://luna.folger.edu/luna/servlet/detail/FOL...</td>\n      <td>http://hamnet.folger.edu/cgi-bin/Pwebrecon.cgi...</td>\n    </tr>\n    <tr>\n      <td>4</td>\n      <td>5</td>\n      <td>086377.jpg</td>\n      <td>6335</td>\n      <td>Newdigate family collection of newsletters fro...</td>\n      <td>England and Wales. Secretary of State.</td>\n      <td>1673/4-1715</td>\n      <td>L.c.2106</td>\n      <td>1r</td>\n      <td>6386</td>\n      <td>Newsletters</td>\n      <td>http://luna.folger.edu/luna/servlet/detail/FOL...</td>\n      <td>http://hamnet.folger.edu/cgi-bin/Pwebrecon.cgi...</td>\n    </tr>\n  </tbody>\n</table>\n</div>"
     },
     "metadata": {},
     "execution_count": 6
    }
   ],
   "source": [
    "newsletters.head()"
   ]
  },
  {
   "cell_type": "code",
   "execution_count": 7,
   "metadata": {},
   "outputs": [
    {
     "output_type": "execute_result",
     "data": {
      "text/plain": [
       "   subject_id  project_id  workflow_id  subject_set_id  \\\n",
       "0    11202804         376          NaN           13519   \n",
       "1    11202805         376          NaN           13519   \n",
       "2    11202806         376          NaN           13519   \n",
       "3    11202807         376          NaN           13519   \n",
       "4    11202808         376          NaN           13519   \n",
       "\n",
       "                                           locations  classifications_count  \\\n",
       "0  {\"0\":\"https://panoptes-uploads.zooniverse.org/...                      0   \n",
       "1  {\"0\":\"https://panoptes-uploads.zooniverse.org/...                      0   \n",
       "2  {\"0\":\"https://panoptes-uploads.zooniverse.org/...                      0   \n",
       "3  {\"0\":\"https://panoptes-uploads.zooniverse.org/...                      0   \n",
       "4  {\"0\":\"https://panoptes-uploads.zooniverse.org/...                      0   \n",
       "\n",
       "  retired_at  retirement_reason               created_at  \\\n",
       "0        NaN                NaN  2017-07-27 11:52:16 UTC   \n",
       "1        NaN                NaN  2017-07-27 11:52:17 UTC   \n",
       "2        NaN                NaN  2017-07-27 11:52:18 UTC   \n",
       "3        NaN                NaN  2017-07-27 11:52:18 UTC   \n",
       "4        NaN                NaN  2017-07-27 11:52:18 UTC   \n",
       "\n",
       "                updated_at  ... Priority  \\\n",
       "0  2018-05-02 15:23:14 UTC  ...     6331   \n",
       "1  2018-05-02 15:22:38 UTC  ...     6332   \n",
       "2  2018-05-02 15:20:27 UTC  ...     6333   \n",
       "3  2018-05-02 15:21:39 UTC  ...     6334   \n",
       "4  2018-05-02 15:23:31 UTC  ...     6335   \n",
       "\n",
       "                                               Title  \\\n",
       "0  Newdigate family collection of newsletters fro...   \n",
       "1  Newdigate family collection of newsletters fro...   \n",
       "2  Newdigate family collection of newsletters fro...   \n",
       "3  Newdigate family collection of newsletters fro...   \n",
       "4  Newdigate family collection of newsletters fro...   \n",
       "\n",
       "                                   Author       Origin Call Number  \\\n",
       "0  England and Wales. Secretary of State.  1673/4-1715    L.c.2104   \n",
       "1  England and Wales. Secretary of State.  1673/4-1715    L.c.2104   \n",
       "2  England and Wales. Secretary of State.  1673/4-1715    L.c.2104   \n",
       "3  England and Wales. Secretary of State.  1673/4-1715    L.c.2104   \n",
       "4  England and Wales. Secretary of State.  1673/4-1715    L.c.2106   \n",
       "\n",
       "  Page Number Page Sort        Genre  \\\n",
       "0          1r      6379  Newsletters   \n",
       "1          1v      6380  Newsletters   \n",
       "2          2r      6381  Newsletters   \n",
       "3          2v      6382  Newsletters   \n",
       "4          1r      6386  Newsletters   \n",
       "\n",
       "                                            Luna URL  \\\n",
       "0  http://luna.folger.edu/luna/servlet/detail/FOL...   \n",
       "1  http://luna.folger.edu/luna/servlet/detail/FOL...   \n",
       "2  http://luna.folger.edu/luna/servlet/detail/FOL...   \n",
       "3  http://luna.folger.edu/luna/servlet/detail/FOL...   \n",
       "4  http://luna.folger.edu/luna/servlet/detail/FOL...   \n",
       "\n",
       "                                          Hamnet URL  \n",
       "0  http://hamnet.folger.edu/cgi-bin/Pwebrecon.cgi...  \n",
       "1  http://hamnet.folger.edu/cgi-bin/Pwebrecon.cgi...  \n",
       "2  http://hamnet.folger.edu/cgi-bin/Pwebrecon.cgi...  \n",
       "3  http://hamnet.folger.edu/cgi-bin/Pwebrecon.cgi...  \n",
       "4  http://hamnet.folger.edu/cgi-bin/Pwebrecon.cgi...  \n",
       "\n",
       "[5 rows x 22 columns]"
      ],
      "text/html": "<div>\n<style scoped>\n    .dataframe tbody tr th:only-of-type {\n        vertical-align: middle;\n    }\n\n    .dataframe tbody tr th {\n        vertical-align: top;\n    }\n\n    .dataframe thead th {\n        text-align: right;\n    }\n</style>\n<table border=\"1\" class=\"dataframe\">\n  <thead>\n    <tr style=\"text-align: right;\">\n      <th></th>\n      <th>subject_id</th>\n      <th>project_id</th>\n      <th>workflow_id</th>\n      <th>subject_set_id</th>\n      <th>locations</th>\n      <th>classifications_count</th>\n      <th>retired_at</th>\n      <th>retirement_reason</th>\n      <th>created_at</th>\n      <th>updated_at</th>\n      <th>...</th>\n      <th>Priority</th>\n      <th>Title</th>\n      <th>Author</th>\n      <th>Origin</th>\n      <th>Call Number</th>\n      <th>Page Number</th>\n      <th>Page Sort</th>\n      <th>Genre</th>\n      <th>Luna URL</th>\n      <th>Hamnet URL</th>\n    </tr>\n  </thead>\n  <tbody>\n    <tr>\n      <td>0</td>\n      <td>11202804</td>\n      <td>376</td>\n      <td>NaN</td>\n      <td>13519</td>\n      <td>{\"0\":\"https://panoptes-uploads.zooniverse.org/...</td>\n      <td>0</td>\n      <td>NaN</td>\n      <td>NaN</td>\n      <td>2017-07-27 11:52:16 UTC</td>\n      <td>2018-05-02 15:23:14 UTC</td>\n      <td>...</td>\n      <td>6331</td>\n      <td>Newdigate family collection of newsletters fro...</td>\n      <td>England and Wales. Secretary of State.</td>\n      <td>1673/4-1715</td>\n      <td>L.c.2104</td>\n      <td>1r</td>\n      <td>6379</td>\n      <td>Newsletters</td>\n      <td>http://luna.folger.edu/luna/servlet/detail/FOL...</td>\n      <td>http://hamnet.folger.edu/cgi-bin/Pwebrecon.cgi...</td>\n    </tr>\n    <tr>\n      <td>1</td>\n      <td>11202805</td>\n      <td>376</td>\n      <td>NaN</td>\n      <td>13519</td>\n      <td>{\"0\":\"https://panoptes-uploads.zooniverse.org/...</td>\n      <td>0</td>\n      <td>NaN</td>\n      <td>NaN</td>\n      <td>2017-07-27 11:52:17 UTC</td>\n      <td>2018-05-02 15:22:38 UTC</td>\n      <td>...</td>\n      <td>6332</td>\n      <td>Newdigate family collection of newsletters fro...</td>\n      <td>England and Wales. Secretary of State.</td>\n      <td>1673/4-1715</td>\n      <td>L.c.2104</td>\n      <td>1v</td>\n      <td>6380</td>\n      <td>Newsletters</td>\n      <td>http://luna.folger.edu/luna/servlet/detail/FOL...</td>\n      <td>http://hamnet.folger.edu/cgi-bin/Pwebrecon.cgi...</td>\n    </tr>\n    <tr>\n      <td>2</td>\n      <td>11202806</td>\n      <td>376</td>\n      <td>NaN</td>\n      <td>13519</td>\n      <td>{\"0\":\"https://panoptes-uploads.zooniverse.org/...</td>\n      <td>0</td>\n      <td>NaN</td>\n      <td>NaN</td>\n      <td>2017-07-27 11:52:18 UTC</td>\n      <td>2018-05-02 15:20:27 UTC</td>\n      <td>...</td>\n      <td>6333</td>\n      <td>Newdigate family collection of newsletters fro...</td>\n      <td>England and Wales. Secretary of State.</td>\n      <td>1673/4-1715</td>\n      <td>L.c.2104</td>\n      <td>2r</td>\n      <td>6381</td>\n      <td>Newsletters</td>\n      <td>http://luna.folger.edu/luna/servlet/detail/FOL...</td>\n      <td>http://hamnet.folger.edu/cgi-bin/Pwebrecon.cgi...</td>\n    </tr>\n    <tr>\n      <td>3</td>\n      <td>11202807</td>\n      <td>376</td>\n      <td>NaN</td>\n      <td>13519</td>\n      <td>{\"0\":\"https://panoptes-uploads.zooniverse.org/...</td>\n      <td>0</td>\n      <td>NaN</td>\n      <td>NaN</td>\n      <td>2017-07-27 11:52:18 UTC</td>\n      <td>2018-05-02 15:21:39 UTC</td>\n      <td>...</td>\n      <td>6334</td>\n      <td>Newdigate family collection of newsletters fro...</td>\n      <td>England and Wales. Secretary of State.</td>\n      <td>1673/4-1715</td>\n      <td>L.c.2104</td>\n      <td>2v</td>\n      <td>6382</td>\n      <td>Newsletters</td>\n      <td>http://luna.folger.edu/luna/servlet/detail/FOL...</td>\n      <td>http://hamnet.folger.edu/cgi-bin/Pwebrecon.cgi...</td>\n    </tr>\n    <tr>\n      <td>4</td>\n      <td>11202808</td>\n      <td>376</td>\n      <td>NaN</td>\n      <td>13519</td>\n      <td>{\"0\":\"https://panoptes-uploads.zooniverse.org/...</td>\n      <td>0</td>\n      <td>NaN</td>\n      <td>NaN</td>\n      <td>2017-07-27 11:52:18 UTC</td>\n      <td>2018-05-02 15:23:31 UTC</td>\n      <td>...</td>\n      <td>6335</td>\n      <td>Newdigate family collection of newsletters fro...</td>\n      <td>England and Wales. Secretary of State.</td>\n      <td>1673/4-1715</td>\n      <td>L.c.2106</td>\n      <td>1r</td>\n      <td>6386</td>\n      <td>Newsletters</td>\n      <td>http://luna.folger.edu/luna/servlet/detail/FOL...</td>\n      <td>http://hamnet.folger.edu/cgi-bin/Pwebrecon.cgi...</td>\n    </tr>\n  </tbody>\n</table>\n<p>5 rows × 22 columns</p>\n</div>"
     },
     "metadata": {},
     "execution_count": 7
    }
   ],
   "source": [
    "merged = subject.merge(newsletters, how = 'inner', on = 'Filename')\n",
    "\n",
    "#Dropping metadata column since it is redundant with the information in newletter dataset\n",
    "merged = merged.drop(columns = 'metadata', axis = 1)\n",
    "merged.head()"
   ]
  },
  {
   "cell_type": "code",
   "execution_count": 8,
   "metadata": {},
   "outputs": [],
   "source": [
    "merged.to_csv(\"newsletters_subjectid.csv\")"
   ]
  },
  {
   "cell_type": "code",
   "execution_count": 9,
   "metadata": {},
   "outputs": [
    {
     "output_type": "execute_result",
     "data": {
      "text/plain": [
       "   classification_id                           user_name  user_id  \\\n",
       "0            2111926  not-logged-in-fc8ae6ef685dadeded5c      NaN   \n",
       "1            2111927  not-logged-in-fc8ae6ef685dadeded5c      NaN   \n",
       "2            2111946  not-logged-in-fc8ae6ef685dadeded5c      NaN   \n",
       "3            2111947  not-logged-in-fc8ae6ef685dadeded5c      NaN   \n",
       "4            2111970  not-logged-in-fc8ae6ef685dadeded5c      NaN   \n",
       "\n",
       "                user_ip  workflow_id workflow_name  workflow_version  \\\n",
       "0  fc8ae6ef685dadeded5c          205  Subject type               6.9   \n",
       "1  fc8ae6ef685dadeded5c          205  Subject type               6.9   \n",
       "2  fc8ae6ef685dadeded5c          205  Subject type               6.9   \n",
       "3  fc8ae6ef685dadeded5c          205  Subject type               6.9   \n",
       "4  fc8ae6ef685dadeded5c          205  Subject type               6.9   \n",
       "\n",
       "                created_at  gold_standard  expert  \\\n",
       "0  2015-07-16 15:27:58 UTC            NaN     NaN   \n",
       "1  2015-07-16 15:27:59 UTC            NaN     NaN   \n",
       "2  2015-07-16 15:37:42 UTC            NaN     NaN   \n",
       "3  2015-07-16 15:37:50 UTC            NaN     NaN   \n",
       "4  2015-07-16 15:45:03 UTC            NaN     NaN   \n",
       "\n",
       "                                            metadata  \\\n",
       "0  {\"started_at\":\"2015-07-16T16:27:51+01:00\",\"use...   \n",
       "1  {\"started_at\":\"2015-07-16T16:16:28+01:00\",\"use...   \n",
       "2  {\"started_at\":\"2015-07-16T16:37:39+01:00\",\"use...   \n",
       "3  {\"started_at\":\"2015-07-16T16:37:42+01:00\",\"use...   \n",
       "4  {\"started_at\":\"2015-07-16T16:44:58+01:00\",\"use...   \n",
       "\n",
       "                                         annotations  \\\n",
       "0  [{\"task\":\"T0\",\"value\":false},{\"task\":\"T2\",\"val...   \n",
       "1  [{\"task\":\"T0\",\"value\":false},{\"task\":\"T2\",\"val...   \n",
       "2  [{\"task\":\"T0\",\"value\":false},{\"task\":\"T2\",\"val...   \n",
       "3  [{\"task\":\"T0\",\"value\":false},{\"task\":\"T2\",\"val...   \n",
       "4  [{\"task\":\"T0\",\"value\":false},{\"task\":\"T2\",\"val...   \n",
       "\n",
       "                                        subject_data  subject_id  \n",
       "0  {\"511586\":{\"retired\":null,\"file name\":\"067650....      511586  \n",
       "1  {\"458922\":{\"retired\":null,\"imgname\":\"getjpeg.a...      458922  \n",
       "2  {\"511586\":{\"retired\":null,\"file name\":\"067650....      511586  \n",
       "3  {\"511587\":{\"retired\":null,\"file name\":\"068416....      511587  \n",
       "4  {\"511588\":{\"retired\":null,\"file name\":\"070750....      511588  "
      ],
      "text/html": "<div>\n<style scoped>\n    .dataframe tbody tr th:only-of-type {\n        vertical-align: middle;\n    }\n\n    .dataframe tbody tr th {\n        vertical-align: top;\n    }\n\n    .dataframe thead th {\n        text-align: right;\n    }\n</style>\n<table border=\"1\" class=\"dataframe\">\n  <thead>\n    <tr style=\"text-align: right;\">\n      <th></th>\n      <th>classification_id</th>\n      <th>user_name</th>\n      <th>user_id</th>\n      <th>user_ip</th>\n      <th>workflow_id</th>\n      <th>workflow_name</th>\n      <th>workflow_version</th>\n      <th>created_at</th>\n      <th>gold_standard</th>\n      <th>expert</th>\n      <th>metadata</th>\n      <th>annotations</th>\n      <th>subject_data</th>\n      <th>subject_id</th>\n    </tr>\n  </thead>\n  <tbody>\n    <tr>\n      <td>0</td>\n      <td>2111926</td>\n      <td>not-logged-in-fc8ae6ef685dadeded5c</td>\n      <td>NaN</td>\n      <td>fc8ae6ef685dadeded5c</td>\n      <td>205</td>\n      <td>Subject type</td>\n      <td>6.9</td>\n      <td>2015-07-16 15:27:58 UTC</td>\n      <td>NaN</td>\n      <td>NaN</td>\n      <td>{\"started_at\":\"2015-07-16T16:27:51+01:00\",\"use...</td>\n      <td>[{\"task\":\"T0\",\"value\":false},{\"task\":\"T2\",\"val...</td>\n      <td>{\"511586\":{\"retired\":null,\"file name\":\"067650....</td>\n      <td>511586</td>\n    </tr>\n    <tr>\n      <td>1</td>\n      <td>2111927</td>\n      <td>not-logged-in-fc8ae6ef685dadeded5c</td>\n      <td>NaN</td>\n      <td>fc8ae6ef685dadeded5c</td>\n      <td>205</td>\n      <td>Subject type</td>\n      <td>6.9</td>\n      <td>2015-07-16 15:27:59 UTC</td>\n      <td>NaN</td>\n      <td>NaN</td>\n      <td>{\"started_at\":\"2015-07-16T16:16:28+01:00\",\"use...</td>\n      <td>[{\"task\":\"T0\",\"value\":false},{\"task\":\"T2\",\"val...</td>\n      <td>{\"458922\":{\"retired\":null,\"imgname\":\"getjpeg.a...</td>\n      <td>458922</td>\n    </tr>\n    <tr>\n      <td>2</td>\n      <td>2111946</td>\n      <td>not-logged-in-fc8ae6ef685dadeded5c</td>\n      <td>NaN</td>\n      <td>fc8ae6ef685dadeded5c</td>\n      <td>205</td>\n      <td>Subject type</td>\n      <td>6.9</td>\n      <td>2015-07-16 15:37:42 UTC</td>\n      <td>NaN</td>\n      <td>NaN</td>\n      <td>{\"started_at\":\"2015-07-16T16:37:39+01:00\",\"use...</td>\n      <td>[{\"task\":\"T0\",\"value\":false},{\"task\":\"T2\",\"val...</td>\n      <td>{\"511586\":{\"retired\":null,\"file name\":\"067650....</td>\n      <td>511586</td>\n    </tr>\n    <tr>\n      <td>3</td>\n      <td>2111947</td>\n      <td>not-logged-in-fc8ae6ef685dadeded5c</td>\n      <td>NaN</td>\n      <td>fc8ae6ef685dadeded5c</td>\n      <td>205</td>\n      <td>Subject type</td>\n      <td>6.9</td>\n      <td>2015-07-16 15:37:50 UTC</td>\n      <td>NaN</td>\n      <td>NaN</td>\n      <td>{\"started_at\":\"2015-07-16T16:37:42+01:00\",\"use...</td>\n      <td>[{\"task\":\"T0\",\"value\":false},{\"task\":\"T2\",\"val...</td>\n      <td>{\"511587\":{\"retired\":null,\"file name\":\"068416....</td>\n      <td>511587</td>\n    </tr>\n    <tr>\n      <td>4</td>\n      <td>2111970</td>\n      <td>not-logged-in-fc8ae6ef685dadeded5c</td>\n      <td>NaN</td>\n      <td>fc8ae6ef685dadeded5c</td>\n      <td>205</td>\n      <td>Subject type</td>\n      <td>6.9</td>\n      <td>2015-07-16 15:45:03 UTC</td>\n      <td>NaN</td>\n      <td>NaN</td>\n      <td>{\"started_at\":\"2015-07-16T16:44:58+01:00\",\"use...</td>\n      <td>[{\"task\":\"T0\",\"value\":false},{\"task\":\"T2\",\"val...</td>\n      <td>{\"511588\":{\"retired\":null,\"file name\":\"070750....</td>\n      <td>511588</td>\n    </tr>\n  </tbody>\n</table>\n</div>"
     },
     "metadata": {},
     "execution_count": 9
    }
   ],
   "source": [
    "#Loading classifications dataset\n",
    "classifications = pd.read_csv(\"shakespeares-world-classifications.csv\")\n",
    "classifications.head()"
   ]
  },
  {
   "cell_type": "code",
   "execution_count": 10,
   "metadata": {},
   "outputs": [
    {
     "output_type": "execute_result",
     "data": {
      "text/plain": [
       "   subject_id  project_id  workflow_id_x  subject_set_id  \\\n",
       "0    11202804         376            NaN           13519   \n",
       "1    11202804         376            NaN           13519   \n",
       "2    11202804         376            NaN           13519   \n",
       "3    11202804         376            NaN           13519   \n",
       "4    11202804         376            NaN           13519   \n",
       "\n",
       "                                           locations  classifications_count  \\\n",
       "0  {\"0\":\"https://panoptes-uploads.zooniverse.org/...                      0   \n",
       "1  {\"0\":\"https://panoptes-uploads.zooniverse.org/...                      0   \n",
       "2  {\"0\":\"https://panoptes-uploads.zooniverse.org/...                      0   \n",
       "3  {\"0\":\"https://panoptes-uploads.zooniverse.org/...                      0   \n",
       "4  {\"0\":\"https://panoptes-uploads.zooniverse.org/...                      0   \n",
       "\n",
       "  retired_at  retirement_reason             created_at_x  \\\n",
       "0        NaN                NaN  2017-07-27 11:52:16 UTC   \n",
       "1        NaN                NaN  2017-07-27 11:52:16 UTC   \n",
       "2        NaN                NaN  2017-07-27 11:52:16 UTC   \n",
       "3        NaN                NaN  2017-07-27 11:52:16 UTC   \n",
       "4        NaN                NaN  2017-07-27 11:52:16 UTC   \n",
       "\n",
       "                updated_at  ...               user_ip  workflow_id_y  \\\n",
       "0  2018-05-02 15:23:14 UTC  ...  d7bc2e307411fffcce25          205.0   \n",
       "1  2018-05-02 15:23:14 UTC  ...  340fde11a2ac81863cf7          205.0   \n",
       "2  2018-05-02 15:23:14 UTC  ...  889ea84e6cb7ecf5d8e0          205.0   \n",
       "3  2018-05-02 15:23:14 UTC  ...  bf9380ff6b8e8dca97d7          205.0   \n",
       "4  2018-05-02 15:23:14 UTC  ...  1ae0f3aa07f5cec8a850          205.0   \n",
       "\n",
       "   workflow_name workflow_version             created_at_y gold_standard  \\\n",
       "0   Subject type            10.14  2018-11-06 00:34:34 UTC           NaN   \n",
       "1   Subject type            10.14  2019-04-07 14:59:33 UTC           NaN   \n",
       "2   Subject type            10.14  2019-04-12 14:24:45 UTC           NaN   \n",
       "3   Subject type            10.14  2019-04-25 10:00:08 UTC           NaN   \n",
       "4   Subject type            10.14  2019-05-07 12:27:40 UTC           NaN   \n",
       "\n",
       "  expert                                           metadata  \\\n",
       "0    NaN  {\"started_at\":\"2018-11-04T18:57:04+00:00\",\"use...   \n",
       "1    NaN  {\"started_at\":\"2019-04-07T15:24:16+01:00\",\"use...   \n",
       "2    NaN  {\"started_at\":\"2019-04-12T23:36:58+10:00\",\"use...   \n",
       "3    NaN  {\"started_at\":\"2019-04-25T19:57:57+10:00\",\"use...   \n",
       "4    NaN  {\"started_at\":\"2019-05-06T07:10:14-05:00\",\"use...   \n",
       "\n",
       "                                         annotations  \\\n",
       "0  [{\"task\":\"T0\",\"value\":false},{\"task\":\"T2\",\"val...   \n",
       "1  [{\"task\":\"T0\",\"value\":false},{\"task\":\"T2\",\"val...   \n",
       "2  [{\"task\":\"T0\",\"value\":false},{\"task\":\"T2\",\"val...   \n",
       "3  [{\"task\":\"T0\",\"value\":false},{\"task\":\"T2\",\"val...   \n",
       "4  [{\"task\":\"T0\",\"value\":false},{\"task\":\"T2\",\"val...   \n",
       "\n",
       "                                        subject_data  \n",
       "0  {\"11202804\":{\"retired\":{\"id\":16973623,\"workflo...  \n",
       "1  {\"11202804\":{\"retired\":{\"id\":16973623,\"workflo...  \n",
       "2  {\"11202804\":{\"retired\":{\"id\":16973623,\"workflo...  \n",
       "3  {\"11202804\":{\"retired\":{\"id\":16973623,\"workflo...  \n",
       "4  {\"11202804\":{\"retired\":{\"id\":16973623,\"workflo...  \n",
       "\n",
       "[5 rows x 35 columns]"
      ],
      "text/html": "<div>\n<style scoped>\n    .dataframe tbody tr th:only-of-type {\n        vertical-align: middle;\n    }\n\n    .dataframe tbody tr th {\n        vertical-align: top;\n    }\n\n    .dataframe thead th {\n        text-align: right;\n    }\n</style>\n<table border=\"1\" class=\"dataframe\">\n  <thead>\n    <tr style=\"text-align: right;\">\n      <th></th>\n      <th>subject_id</th>\n      <th>project_id</th>\n      <th>workflow_id_x</th>\n      <th>subject_set_id</th>\n      <th>locations</th>\n      <th>classifications_count</th>\n      <th>retired_at</th>\n      <th>retirement_reason</th>\n      <th>created_at_x</th>\n      <th>updated_at</th>\n      <th>...</th>\n      <th>user_ip</th>\n      <th>workflow_id_y</th>\n      <th>workflow_name</th>\n      <th>workflow_version</th>\n      <th>created_at_y</th>\n      <th>gold_standard</th>\n      <th>expert</th>\n      <th>metadata</th>\n      <th>annotations</th>\n      <th>subject_data</th>\n    </tr>\n  </thead>\n  <tbody>\n    <tr>\n      <td>0</td>\n      <td>11202804</td>\n      <td>376</td>\n      <td>NaN</td>\n      <td>13519</td>\n      <td>{\"0\":\"https://panoptes-uploads.zooniverse.org/...</td>\n      <td>0</td>\n      <td>NaN</td>\n      <td>NaN</td>\n      <td>2017-07-27 11:52:16 UTC</td>\n      <td>2018-05-02 15:23:14 UTC</td>\n      <td>...</td>\n      <td>d7bc2e307411fffcce25</td>\n      <td>205.0</td>\n      <td>Subject type</td>\n      <td>10.14</td>\n      <td>2018-11-06 00:34:34 UTC</td>\n      <td>NaN</td>\n      <td>NaN</td>\n      <td>{\"started_at\":\"2018-11-04T18:57:04+00:00\",\"use...</td>\n      <td>[{\"task\":\"T0\",\"value\":false},{\"task\":\"T2\",\"val...</td>\n      <td>{\"11202804\":{\"retired\":{\"id\":16973623,\"workflo...</td>\n    </tr>\n    <tr>\n      <td>1</td>\n      <td>11202804</td>\n      <td>376</td>\n      <td>NaN</td>\n      <td>13519</td>\n      <td>{\"0\":\"https://panoptes-uploads.zooniverse.org/...</td>\n      <td>0</td>\n      <td>NaN</td>\n      <td>NaN</td>\n      <td>2017-07-27 11:52:16 UTC</td>\n      <td>2018-05-02 15:23:14 UTC</td>\n      <td>...</td>\n      <td>340fde11a2ac81863cf7</td>\n      <td>205.0</td>\n      <td>Subject type</td>\n      <td>10.14</td>\n      <td>2019-04-07 14:59:33 UTC</td>\n      <td>NaN</td>\n      <td>NaN</td>\n      <td>{\"started_at\":\"2019-04-07T15:24:16+01:00\",\"use...</td>\n      <td>[{\"task\":\"T0\",\"value\":false},{\"task\":\"T2\",\"val...</td>\n      <td>{\"11202804\":{\"retired\":{\"id\":16973623,\"workflo...</td>\n    </tr>\n    <tr>\n      <td>2</td>\n      <td>11202804</td>\n      <td>376</td>\n      <td>NaN</td>\n      <td>13519</td>\n      <td>{\"0\":\"https://panoptes-uploads.zooniverse.org/...</td>\n      <td>0</td>\n      <td>NaN</td>\n      <td>NaN</td>\n      <td>2017-07-27 11:52:16 UTC</td>\n      <td>2018-05-02 15:23:14 UTC</td>\n      <td>...</td>\n      <td>889ea84e6cb7ecf5d8e0</td>\n      <td>205.0</td>\n      <td>Subject type</td>\n      <td>10.14</td>\n      <td>2019-04-12 14:24:45 UTC</td>\n      <td>NaN</td>\n      <td>NaN</td>\n      <td>{\"started_at\":\"2019-04-12T23:36:58+10:00\",\"use...</td>\n      <td>[{\"task\":\"T0\",\"value\":false},{\"task\":\"T2\",\"val...</td>\n      <td>{\"11202804\":{\"retired\":{\"id\":16973623,\"workflo...</td>\n    </tr>\n    <tr>\n      <td>3</td>\n      <td>11202804</td>\n      <td>376</td>\n      <td>NaN</td>\n      <td>13519</td>\n      <td>{\"0\":\"https://panoptes-uploads.zooniverse.org/...</td>\n      <td>0</td>\n      <td>NaN</td>\n      <td>NaN</td>\n      <td>2017-07-27 11:52:16 UTC</td>\n      <td>2018-05-02 15:23:14 UTC</td>\n      <td>...</td>\n      <td>bf9380ff6b8e8dca97d7</td>\n      <td>205.0</td>\n      <td>Subject type</td>\n      <td>10.14</td>\n      <td>2019-04-25 10:00:08 UTC</td>\n      <td>NaN</td>\n      <td>NaN</td>\n      <td>{\"started_at\":\"2019-04-25T19:57:57+10:00\",\"use...</td>\n      <td>[{\"task\":\"T0\",\"value\":false},{\"task\":\"T2\",\"val...</td>\n      <td>{\"11202804\":{\"retired\":{\"id\":16973623,\"workflo...</td>\n    </tr>\n    <tr>\n      <td>4</td>\n      <td>11202804</td>\n      <td>376</td>\n      <td>NaN</td>\n      <td>13519</td>\n      <td>{\"0\":\"https://panoptes-uploads.zooniverse.org/...</td>\n      <td>0</td>\n      <td>NaN</td>\n      <td>NaN</td>\n      <td>2017-07-27 11:52:16 UTC</td>\n      <td>2018-05-02 15:23:14 UTC</td>\n      <td>...</td>\n      <td>1ae0f3aa07f5cec8a850</td>\n      <td>205.0</td>\n      <td>Subject type</td>\n      <td>10.14</td>\n      <td>2019-05-07 12:27:40 UTC</td>\n      <td>NaN</td>\n      <td>NaN</td>\n      <td>{\"started_at\":\"2019-05-06T07:10:14-05:00\",\"use...</td>\n      <td>[{\"task\":\"T0\",\"value\":false},{\"task\":\"T2\",\"val...</td>\n      <td>{\"11202804\":{\"retired\":{\"id\":16973623,\"workflo...</td>\n    </tr>\n  </tbody>\n</table>\n<p>5 rows × 35 columns</p>\n</div>"
     },
     "metadata": {},
     "execution_count": 10
    }
   ],
   "source": [
    "test = merged.merge(classifications, how='left', on='subject_id')\n",
    "test.head()\n"
   ]
  },
  {
   "cell_type": "code",
   "execution_count": 11,
   "metadata": {},
   "outputs": [],
   "source": [
    "test.to_csv(\"test.csv\")"
   ]
  },
  {
   "cell_type": "code",
   "execution_count": 14,
   "metadata": {},
   "outputs": [
    {
     "output_type": "execute_result",
     "data": {
      "text/plain": [
       "       subject_id  project_id  workflow_id_x  subject_set_id  \\\n",
       "26992    11208941         376            NaN           13519   \n",
       "26993    11208941         376            NaN           13519   \n",
       "26994    11208941         376            NaN           13519   \n",
       "26995    11208941         376            NaN           13519   \n",
       "26996    11208941         376            NaN           13519   \n",
       "\n",
       "                                               locations  \\\n",
       "26992  {\"0\":\"https://panoptes-uploads.zooniverse.org/...   \n",
       "26993  {\"0\":\"https://panoptes-uploads.zooniverse.org/...   \n",
       "26994  {\"0\":\"https://panoptes-uploads.zooniverse.org/...   \n",
       "26995  {\"0\":\"https://panoptes-uploads.zooniverse.org/...   \n",
       "26996  {\"0\":\"https://panoptes-uploads.zooniverse.org/...   \n",
       "\n",
       "       classifications_count retired_at  retirement_reason  \\\n",
       "26992                      0        NaN                NaN   \n",
       "26993                      0        NaN                NaN   \n",
       "26994                      0        NaN                NaN   \n",
       "26995                      0        NaN                NaN   \n",
       "26996                      0        NaN                NaN   \n",
       "\n",
       "                  created_at_x               updated_at  ...  \\\n",
       "26992  2017-07-27 12:43:50 UTC  2018-05-02 14:55:31 UTC  ...   \n",
       "26993  2017-07-27 12:43:50 UTC  2018-05-02 14:55:31 UTC  ...   \n",
       "26994  2017-07-27 12:43:50 UTC  2018-05-02 14:55:31 UTC  ...   \n",
       "26995  2017-07-27 12:43:50 UTC  2018-05-02 14:55:31 UTC  ...   \n",
       "26996  2017-07-27 12:43:50 UTC  2018-05-02 14:55:31 UTC  ...   \n",
       "\n",
       "                    user_ip  workflow_id_y  workflow_name workflow_version  \\\n",
       "26992  1b19095a2b3eaa28a028          205.0   Subject type            10.14   \n",
       "26993  48caf3604e5cf8c6c2cd          205.0   Subject type            10.14   \n",
       "26994  1be0a1df18df7372e18f          205.0   Subject type            10.14   \n",
       "26995  b5445277ee97308360c8          205.0   Subject type            10.14   \n",
       "26996  0838ee995f975e03f559          205.0   Subject type            10.14   \n",
       "\n",
       "                  created_at_y gold_standard expert  \\\n",
       "26992  2019-01-14 07:50:08 UTC           NaN    NaN   \n",
       "26993  2019-03-08 11:16:35 UTC           NaN    NaN   \n",
       "26994  2019-03-28 12:03:12 UTC           NaN    NaN   \n",
       "26995  2019-04-24 16:02:35 UTC           NaN    NaN   \n",
       "26996  2019-06-09 13:38:39 UTC           NaN    NaN   \n",
       "\n",
       "                                                metadata  \\\n",
       "26992  {\"started_at\":\"2019-01-13T23:45:22-08:00\",\"use...   \n",
       "26993  {\"started_at\":\"2019-03-08T11:06:16+00:00\",\"use...   \n",
       "26994  {\"started_at\":\"2019-03-28T07:13:15-04:00\",\"use...   \n",
       "26995  {\"started_at\":\"2019-04-24T16:57:19+01:00\",\"use...   \n",
       "26996  {\"started_at\":\"2019-06-09T15:31:30+02:00\",\"use...   \n",
       "\n",
       "                                             annotations  \\\n",
       "26992  [{\"task\":\"T0\",\"value\":false},{\"task\":\"T2\",\"val...   \n",
       "26993  [{\"task\":\"T0\",\"value\":false},{\"task\":\"T2\",\"val...   \n",
       "26994  [{\"task\":\"T0\",\"value\":false},{\"task\":\"T2\",\"val...   \n",
       "26995  [{\"task\":\"T0\",\"value\":false},{\"task\":\"T2\",\"val...   \n",
       "26996  [{\"task\":\"T0\",\"value\":false},{\"task\":\"T2\",\"val...   \n",
       "\n",
       "                                            subject_data  \n",
       "26992  {\"11208941\":{\"retired\":{\"id\":16987715,\"workflo...  \n",
       "26993  {\"11208941\":{\"retired\":{\"id\":16987715,\"workflo...  \n",
       "26994  {\"11208941\":{\"retired\":{\"id\":16987715,\"workflo...  \n",
       "26995  {\"11208941\":{\"retired\":{\"id\":16987715,\"workflo...  \n",
       "26996  {\"11208941\":{\"retired\":{\"id\":16987715,\"workflo...  \n",
       "\n",
       "[5 rows x 35 columns]"
      ],
      "text/html": "<div>\n<style scoped>\n    .dataframe tbody tr th:only-of-type {\n        vertical-align: middle;\n    }\n\n    .dataframe tbody tr th {\n        vertical-align: top;\n    }\n\n    .dataframe thead th {\n        text-align: right;\n    }\n</style>\n<table border=\"1\" class=\"dataframe\">\n  <thead>\n    <tr style=\"text-align: right;\">\n      <th></th>\n      <th>subject_id</th>\n      <th>project_id</th>\n      <th>workflow_id_x</th>\n      <th>subject_set_id</th>\n      <th>locations</th>\n      <th>classifications_count</th>\n      <th>retired_at</th>\n      <th>retirement_reason</th>\n      <th>created_at_x</th>\n      <th>updated_at</th>\n      <th>...</th>\n      <th>user_ip</th>\n      <th>workflow_id_y</th>\n      <th>workflow_name</th>\n      <th>workflow_version</th>\n      <th>created_at_y</th>\n      <th>gold_standard</th>\n      <th>expert</th>\n      <th>metadata</th>\n      <th>annotations</th>\n      <th>subject_data</th>\n    </tr>\n  </thead>\n  <tbody>\n    <tr>\n      <td>26992</td>\n      <td>11208941</td>\n      <td>376</td>\n      <td>NaN</td>\n      <td>13519</td>\n      <td>{\"0\":\"https://panoptes-uploads.zooniverse.org/...</td>\n      <td>0</td>\n      <td>NaN</td>\n      <td>NaN</td>\n      <td>2017-07-27 12:43:50 UTC</td>\n      <td>2018-05-02 14:55:31 UTC</td>\n      <td>...</td>\n      <td>1b19095a2b3eaa28a028</td>\n      <td>205.0</td>\n      <td>Subject type</td>\n      <td>10.14</td>\n      <td>2019-01-14 07:50:08 UTC</td>\n      <td>NaN</td>\n      <td>NaN</td>\n      <td>{\"started_at\":\"2019-01-13T23:45:22-08:00\",\"use...</td>\n      <td>[{\"task\":\"T0\",\"value\":false},{\"task\":\"T2\",\"val...</td>\n      <td>{\"11208941\":{\"retired\":{\"id\":16987715,\"workflo...</td>\n    </tr>\n    <tr>\n      <td>26993</td>\n      <td>11208941</td>\n      <td>376</td>\n      <td>NaN</td>\n      <td>13519</td>\n      <td>{\"0\":\"https://panoptes-uploads.zooniverse.org/...</td>\n      <td>0</td>\n      <td>NaN</td>\n      <td>NaN</td>\n      <td>2017-07-27 12:43:50 UTC</td>\n      <td>2018-05-02 14:55:31 UTC</td>\n      <td>...</td>\n      <td>48caf3604e5cf8c6c2cd</td>\n      <td>205.0</td>\n      <td>Subject type</td>\n      <td>10.14</td>\n      <td>2019-03-08 11:16:35 UTC</td>\n      <td>NaN</td>\n      <td>NaN</td>\n      <td>{\"started_at\":\"2019-03-08T11:06:16+00:00\",\"use...</td>\n      <td>[{\"task\":\"T0\",\"value\":false},{\"task\":\"T2\",\"val...</td>\n      <td>{\"11208941\":{\"retired\":{\"id\":16987715,\"workflo...</td>\n    </tr>\n    <tr>\n      <td>26994</td>\n      <td>11208941</td>\n      <td>376</td>\n      <td>NaN</td>\n      <td>13519</td>\n      <td>{\"0\":\"https://panoptes-uploads.zooniverse.org/...</td>\n      <td>0</td>\n      <td>NaN</td>\n      <td>NaN</td>\n      <td>2017-07-27 12:43:50 UTC</td>\n      <td>2018-05-02 14:55:31 UTC</td>\n      <td>...</td>\n      <td>1be0a1df18df7372e18f</td>\n      <td>205.0</td>\n      <td>Subject type</td>\n      <td>10.14</td>\n      <td>2019-03-28 12:03:12 UTC</td>\n      <td>NaN</td>\n      <td>NaN</td>\n      <td>{\"started_at\":\"2019-03-28T07:13:15-04:00\",\"use...</td>\n      <td>[{\"task\":\"T0\",\"value\":false},{\"task\":\"T2\",\"val...</td>\n      <td>{\"11208941\":{\"retired\":{\"id\":16987715,\"workflo...</td>\n    </tr>\n    <tr>\n      <td>26995</td>\n      <td>11208941</td>\n      <td>376</td>\n      <td>NaN</td>\n      <td>13519</td>\n      <td>{\"0\":\"https://panoptes-uploads.zooniverse.org/...</td>\n      <td>0</td>\n      <td>NaN</td>\n      <td>NaN</td>\n      <td>2017-07-27 12:43:50 UTC</td>\n      <td>2018-05-02 14:55:31 UTC</td>\n      <td>...</td>\n      <td>b5445277ee97308360c8</td>\n      <td>205.0</td>\n      <td>Subject type</td>\n      <td>10.14</td>\n      <td>2019-04-24 16:02:35 UTC</td>\n      <td>NaN</td>\n      <td>NaN</td>\n      <td>{\"started_at\":\"2019-04-24T16:57:19+01:00\",\"use...</td>\n      <td>[{\"task\":\"T0\",\"value\":false},{\"task\":\"T2\",\"val...</td>\n      <td>{\"11208941\":{\"retired\":{\"id\":16987715,\"workflo...</td>\n    </tr>\n    <tr>\n      <td>26996</td>\n      <td>11208941</td>\n      <td>376</td>\n      <td>NaN</td>\n      <td>13519</td>\n      <td>{\"0\":\"https://panoptes-uploads.zooniverse.org/...</td>\n      <td>0</td>\n      <td>NaN</td>\n      <td>NaN</td>\n      <td>2017-07-27 12:43:50 UTC</td>\n      <td>2018-05-02 14:55:31 UTC</td>\n      <td>...</td>\n      <td>0838ee995f975e03f559</td>\n      <td>205.0</td>\n      <td>Subject type</td>\n      <td>10.14</td>\n      <td>2019-06-09 13:38:39 UTC</td>\n      <td>NaN</td>\n      <td>NaN</td>\n      <td>{\"started_at\":\"2019-06-09T15:31:30+02:00\",\"use...</td>\n      <td>[{\"task\":\"T0\",\"value\":false},{\"task\":\"T2\",\"val...</td>\n      <td>{\"11208941\":{\"retired\":{\"id\":16987715,\"workflo...</td>\n    </tr>\n  </tbody>\n</table>\n<p>5 rows × 35 columns</p>\n</div>"
     },
     "metadata": {},
     "execution_count": 14
    }
   ],
   "source": [
    "test.tail()"
   ]
  },
  {
   "cell_type": "code",
   "execution_count": 15,
   "metadata": {},
   "outputs": [
    {
     "output_type": "execute_result",
     "data": {
      "text/plain": [
       "6133"
      ]
     },
     "metadata": {},
     "execution_count": 15
    }
   ],
   "source": [
    "len(pd.unique(merged['Filename']))"
   ]
  },
  {
   "cell_type": "code",
   "execution_count": null,
   "metadata": {},
   "outputs": [],
   "source": []
  }
 ],
 "metadata": {
  "kernelspec": {
   "name": "python374jvsc74a57bd0a44ce12d68b64b438db11e3bc3dc940a5996a4408784b20727c9239987835693",
   "display_name": "Python 3.7.4 64-bit ('base': conda)"
  },
  "language_info": {
   "codemirror_mode": {
    "name": "ipython",
    "version": 3
   },
   "file_extension": ".py",
   "mimetype": "text/x-python",
   "name": "python",
   "nbconvert_exporter": "python",
   "pygments_lexer": "ipython3",
   "version": "3.7.4"
  }
 },
 "nbformat": 4,
 "nbformat_minor": 2
}