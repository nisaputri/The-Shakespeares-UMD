{
 "cells": [
  {
   "cell_type": "code",
   "execution_count": 2,
   "metadata": {},
   "outputs": [],
   "source": [
    "#Notebook used for cleaning data\n",
    "import numpy as np\n",
    "import pandas as pd"
   ]
  },
  {
   "source": [
    "For the first step in the project we must link the Zooniverse Manuscript to the Subject ID"
   ],
   "cell_type": "markdown",
   "metadata": {}
  },
  {
   "cell_type": "code",
   "execution_count": 3,
   "metadata": {},
   "outputs": [
    {
     "output_type": "execute_result",
     "data": {
      "text/plain": [
       "       subject_id  project_id  workflow_id  subject_set_id  \\\n",
       "0         1273522         376       2363.0            2776   \n",
       "1         1273523         376       2363.0            2776   \n",
       "2         1273524         376       2363.0            2776   \n",
       "3         1273525         376       2363.0            2776   \n",
       "4         1273526         376       2363.0            2776   \n",
       "...           ...         ...          ...             ...   \n",
       "14325    11208937         376          NaN           13519   \n",
       "14326    11208938         376          NaN           13519   \n",
       "14327    11208939         376          NaN           13519   \n",
       "14328    11208940         376          NaN           13519   \n",
       "14329    11208941         376          NaN           13519   \n",
       "\n",
       "                                                metadata  \\\n",
       "0      {\"Genre\":\"Receipt Books\",\"Title\":\"Receipt book...   \n",
       "1      {\"Genre\":\"Receipt Books\",\"Title\":\"Receipt book...   \n",
       "2      {\"Genre\":\"Receipt Books\",\"Title\":\"Cookery and ...   \n",
       "3      {\"Genre\":\"Receipt Books\",\"Title\":\"Cookbook [ma...   \n",
       "4      {\"Genre\":\"Receipt Books\",\"Title\":\"Cookbook of ...   \n",
       "...                                                  ...   \n",
       "14325  {\"Genre\":\"Newsletters\",\"Title\":\"Newdigate fami...   \n",
       "14326  {\"Genre\":\"Newsletters\",\"Title\":\"Newdigate fami...   \n",
       "14327  {\"Genre\":\"Newsletters\",\"Title\":\"Newdigate fami...   \n",
       "14328  {\"Genre\":\"Newsletters\",\"Title\":\"Newdigate fami...   \n",
       "14329  {\"Genre\":\"Newsletters\",\"Title\":\"Newdigate fami...   \n",
       "\n",
       "                                               locations  \\\n",
       "0      {\"0\":\"https://panoptes-uploads.zooniverse.org/...   \n",
       "1      {\"0\":\"https://panoptes-uploads.zooniverse.org/...   \n",
       "2      {\"0\":\"https://panoptes-uploads.zooniverse.org/...   \n",
       "3      {\"0\":\"https://panoptes-uploads.zooniverse.org/...   \n",
       "4      {\"0\":\"https://panoptes-uploads.zooniverse.org/...   \n",
       "...                                                  ...   \n",
       "14325  {\"0\":\"https://panoptes-uploads.zooniverse.org/...   \n",
       "14326  {\"0\":\"https://panoptes-uploads.zooniverse.org/...   \n",
       "14327  {\"0\":\"https://panoptes-uploads.zooniverse.org/...   \n",
       "14328  {\"0\":\"https://panoptes-uploads.zooniverse.org/...   \n",
       "14329  {\"0\":\"https://panoptes-uploads.zooniverse.org/...   \n",
       "\n",
       "       classifications_count retired_at  retirement_reason  \\\n",
       "0                          0        NaN                NaN   \n",
       "1                          0        NaN                NaN   \n",
       "2                          0        NaN                NaN   \n",
       "3                          0        NaN                NaN   \n",
       "4                          0        NaN                NaN   \n",
       "...                      ...        ...                ...   \n",
       "14325                      0        NaN                NaN   \n",
       "14326                      0        NaN                NaN   \n",
       "14327                      0        NaN                NaN   \n",
       "14328                      0        NaN                NaN   \n",
       "14329                      0        NaN                NaN   \n",
       "\n",
       "                    created_at               updated_at  \n",
       "0      2015-12-04 16:20:46 UTC  2018-05-02 15:27:04 UTC  \n",
       "1      2015-12-04 16:20:47 UTC  2018-05-02 15:34:34 UTC  \n",
       "2      2015-12-04 16:20:48 UTC  2018-05-02 15:34:34 UTC  \n",
       "3      2015-12-04 16:20:48 UTC  2018-05-02 15:26:11 UTC  \n",
       "4      2015-12-04 16:20:48 UTC  2018-05-02 15:27:02 UTC  \n",
       "...                        ...                      ...  \n",
       "14325  2017-07-27 12:43:48 UTC  2018-05-02 14:57:46 UTC  \n",
       "14326  2017-07-27 12:43:49 UTC  2018-05-02 14:54:46 UTC  \n",
       "14327  2017-07-27 12:43:49 UTC  2018-05-02 14:55:43 UTC  \n",
       "14328  2017-07-27 12:43:50 UTC  2018-05-02 14:57:29 UTC  \n",
       "14329  2017-07-27 12:43:50 UTC  2018-05-02 14:55:31 UTC  \n",
       "\n",
       "[14330 rows x 11 columns]"
      ],
      "text/html": "<div>\n<style scoped>\n    .dataframe tbody tr th:only-of-type {\n        vertical-align: middle;\n    }\n\n    .dataframe tbody tr th {\n        vertical-align: top;\n    }\n\n    .dataframe thead th {\n        text-align: right;\n    }\n</style>\n<table border=\"1\" class=\"dataframe\">\n  <thead>\n    <tr style=\"text-align: right;\">\n      <th></th>\n      <th>subject_id</th>\n      <th>project_id</th>\n      <th>workflow_id</th>\n      <th>subject_set_id</th>\n      <th>metadata</th>\n      <th>locations</th>\n      <th>classifications_count</th>\n      <th>retired_at</th>\n      <th>retirement_reason</th>\n      <th>created_at</th>\n      <th>updated_at</th>\n    </tr>\n  </thead>\n  <tbody>\n    <tr>\n      <td>0</td>\n      <td>1273522</td>\n      <td>376</td>\n      <td>2363.0</td>\n      <td>2776</td>\n      <td>{\"Genre\":\"Receipt Books\",\"Title\":\"Receipt book...</td>\n      <td>{\"0\":\"https://panoptes-uploads.zooniverse.org/...</td>\n      <td>0</td>\n      <td>NaN</td>\n      <td>NaN</td>\n      <td>2015-12-04 16:20:46 UTC</td>\n      <td>2018-05-02 15:27:04 UTC</td>\n    </tr>\n    <tr>\n      <td>1</td>\n      <td>1273523</td>\n      <td>376</td>\n      <td>2363.0</td>\n      <td>2776</td>\n      <td>{\"Genre\":\"Receipt Books\",\"Title\":\"Receipt book...</td>\n      <td>{\"0\":\"https://panoptes-uploads.zooniverse.org/...</td>\n      <td>0</td>\n      <td>NaN</td>\n      <td>NaN</td>\n      <td>2015-12-04 16:20:47 UTC</td>\n      <td>2018-05-02 15:34:34 UTC</td>\n    </tr>\n    <tr>\n      <td>2</td>\n      <td>1273524</td>\n      <td>376</td>\n      <td>2363.0</td>\n      <td>2776</td>\n      <td>{\"Genre\":\"Receipt Books\",\"Title\":\"Cookery and ...</td>\n      <td>{\"0\":\"https://panoptes-uploads.zooniverse.org/...</td>\n      <td>0</td>\n      <td>NaN</td>\n      <td>NaN</td>\n      <td>2015-12-04 16:20:48 UTC</td>\n      <td>2018-05-02 15:34:34 UTC</td>\n    </tr>\n    <tr>\n      <td>3</td>\n      <td>1273525</td>\n      <td>376</td>\n      <td>2363.0</td>\n      <td>2776</td>\n      <td>{\"Genre\":\"Receipt Books\",\"Title\":\"Cookbook [ma...</td>\n      <td>{\"0\":\"https://panoptes-uploads.zooniverse.org/...</td>\n      <td>0</td>\n      <td>NaN</td>\n      <td>NaN</td>\n      <td>2015-12-04 16:20:48 UTC</td>\n      <td>2018-05-02 15:26:11 UTC</td>\n    </tr>\n    <tr>\n      <td>4</td>\n      <td>1273526</td>\n      <td>376</td>\n      <td>2363.0</td>\n      <td>2776</td>\n      <td>{\"Genre\":\"Receipt Books\",\"Title\":\"Cookbook of ...</td>\n      <td>{\"0\":\"https://panoptes-uploads.zooniverse.org/...</td>\n      <td>0</td>\n      <td>NaN</td>\n      <td>NaN</td>\n      <td>2015-12-04 16:20:48 UTC</td>\n      <td>2018-05-02 15:27:02 UTC</td>\n    </tr>\n    <tr>\n      <td>...</td>\n      <td>...</td>\n      <td>...</td>\n      <td>...</td>\n      <td>...</td>\n      <td>...</td>\n      <td>...</td>\n      <td>...</td>\n      <td>...</td>\n      <td>...</td>\n      <td>...</td>\n      <td>...</td>\n    </tr>\n    <tr>\n      <td>14325</td>\n      <td>11208937</td>\n      <td>376</td>\n      <td>NaN</td>\n      <td>13519</td>\n      <td>{\"Genre\":\"Newsletters\",\"Title\":\"Newdigate fami...</td>\n      <td>{\"0\":\"https://panoptes-uploads.zooniverse.org/...</td>\n      <td>0</td>\n      <td>NaN</td>\n      <td>NaN</td>\n      <td>2017-07-27 12:43:48 UTC</td>\n      <td>2018-05-02 14:57:46 UTC</td>\n    </tr>\n    <tr>\n      <td>14326</td>\n      <td>11208938</td>\n      <td>376</td>\n      <td>NaN</td>\n      <td>13519</td>\n      <td>{\"Genre\":\"Newsletters\",\"Title\":\"Newdigate fami...</td>\n      <td>{\"0\":\"https://panoptes-uploads.zooniverse.org/...</td>\n      <td>0</td>\n      <td>NaN</td>\n      <td>NaN</td>\n      <td>2017-07-27 12:43:49 UTC</td>\n      <td>2018-05-02 14:54:46 UTC</td>\n    </tr>\n    <tr>\n      <td>14327</td>\n      <td>11208939</td>\n      <td>376</td>\n      <td>NaN</td>\n      <td>13519</td>\n      <td>{\"Genre\":\"Newsletters\",\"Title\":\"Newdigate fami...</td>\n      <td>{\"0\":\"https://panoptes-uploads.zooniverse.org/...</td>\n      <td>0</td>\n      <td>NaN</td>\n      <td>NaN</td>\n      <td>2017-07-27 12:43:49 UTC</td>\n      <td>2018-05-02 14:55:43 UTC</td>\n    </tr>\n    <tr>\n      <td>14328</td>\n      <td>11208940</td>\n      <td>376</td>\n      <td>NaN</td>\n      <td>13519</td>\n      <td>{\"Genre\":\"Newsletters\",\"Title\":\"Newdigate fami...</td>\n      <td>{\"0\":\"https://panoptes-uploads.zooniverse.org/...</td>\n      <td>0</td>\n      <td>NaN</td>\n      <td>NaN</td>\n      <td>2017-07-27 12:43:50 UTC</td>\n      <td>2018-05-02 14:57:29 UTC</td>\n    </tr>\n    <tr>\n      <td>14329</td>\n      <td>11208941</td>\n      <td>376</td>\n      <td>NaN</td>\n      <td>13519</td>\n      <td>{\"Genre\":\"Newsletters\",\"Title\":\"Newdigate fami...</td>\n      <td>{\"0\":\"https://panoptes-uploads.zooniverse.org/...</td>\n      <td>0</td>\n      <td>NaN</td>\n      <td>NaN</td>\n      <td>2017-07-27 12:43:50 UTC</td>\n      <td>2018-05-02 14:55:31 UTC</td>\n    </tr>\n  </tbody>\n</table>\n<p>14330 rows × 11 columns</p>\n</div>"
     },
     "metadata": {},
     "execution_count": 3
    }
   ],
   "source": [
    "#Loading in datasets that need to be linked\n",
    "subject = pd.read_csv(\"shakespeares-world-subjects.csv\")\n",
    "newsletters = pd.read_csv('combined_newsletters.csv')\n",
    "subject"
   ]
  },
  {
   "source": [
    "subject['Filename'] = subject['metadata'].re.rsplit('\\w')\n",
    "subject['Filename']"
   ],
   "cell_type": "markdown",
   "metadata": {}
  },
  {
   "cell_type": "code",
   "execution_count": 4,
   "metadata": {},
   "outputs": [
    {
     "output_type": "execute_result",
     "data": {
      "text/plain": [
       "0    [110499.jpg]\n",
       "1    [110500.jpg]\n",
       "2    [110501.jpg]\n",
       "3    [110502.jpg]\n",
       "4    [110503.jpg]\n",
       "Name: Filename, dtype: object"
      ]
     },
     "metadata": {},
     "execution_count": 4
    }
   ],
   "source": [
    "#Seperating the Filename ID from the metadata column in subject\n",
    "subject['Filename'] = subject['metadata'].str.findall('\\d+.jpg')\n",
    "subject['Filename'].to_string()\n",
    "subject['Filename'].head()"
   ]
  },
  {
   "cell_type": "code",
   "execution_count": 5,
   "metadata": {},
   "outputs": [
    {
     "output_type": "execute_result",
     "data": {
      "text/plain": [
       "       subject_id  project_id  workflow_id  subject_set_id  \\\n",
       "0         1273522         376       2363.0            2776   \n",
       "1         1273523         376       2363.0            2776   \n",
       "2         1273524         376       2363.0            2776   \n",
       "3         1273525         376       2363.0            2776   \n",
       "4         1273526         376       2363.0            2776   \n",
       "...           ...         ...          ...             ...   \n",
       "14325    11208937         376          NaN           13519   \n",
       "14326    11208938         376          NaN           13519   \n",
       "14327    11208939         376          NaN           13519   \n",
       "14328    11208940         376          NaN           13519   \n",
       "14329    11208941         376          NaN           13519   \n",
       "\n",
       "                                                metadata  \\\n",
       "0      {\"Genre\":\"Receipt Books\",\"Title\":\"Receipt book...   \n",
       "1      {\"Genre\":\"Receipt Books\",\"Title\":\"Receipt book...   \n",
       "2      {\"Genre\":\"Receipt Books\",\"Title\":\"Cookery and ...   \n",
       "3      {\"Genre\":\"Receipt Books\",\"Title\":\"Cookbook [ma...   \n",
       "4      {\"Genre\":\"Receipt Books\",\"Title\":\"Cookbook of ...   \n",
       "...                                                  ...   \n",
       "14325  {\"Genre\":\"Newsletters\",\"Title\":\"Newdigate fami...   \n",
       "14326  {\"Genre\":\"Newsletters\",\"Title\":\"Newdigate fami...   \n",
       "14327  {\"Genre\":\"Newsletters\",\"Title\":\"Newdigate fami...   \n",
       "14328  {\"Genre\":\"Newsletters\",\"Title\":\"Newdigate fami...   \n",
       "14329  {\"Genre\":\"Newsletters\",\"Title\":\"Newdigate fami...   \n",
       "\n",
       "                                               locations  \\\n",
       "0      {\"0\":\"https://panoptes-uploads.zooniverse.org/...   \n",
       "1      {\"0\":\"https://panoptes-uploads.zooniverse.org/...   \n",
       "2      {\"0\":\"https://panoptes-uploads.zooniverse.org/...   \n",
       "3      {\"0\":\"https://panoptes-uploads.zooniverse.org/...   \n",
       "4      {\"0\":\"https://panoptes-uploads.zooniverse.org/...   \n",
       "...                                                  ...   \n",
       "14325  {\"0\":\"https://panoptes-uploads.zooniverse.org/...   \n",
       "14326  {\"0\":\"https://panoptes-uploads.zooniverse.org/...   \n",
       "14327  {\"0\":\"https://panoptes-uploads.zooniverse.org/...   \n",
       "14328  {\"0\":\"https://panoptes-uploads.zooniverse.org/...   \n",
       "14329  {\"0\":\"https://panoptes-uploads.zooniverse.org/...   \n",
       "\n",
       "       classifications_count retired_at  retirement_reason  \\\n",
       "0                          0        NaN                NaN   \n",
       "1                          0        NaN                NaN   \n",
       "2                          0        NaN                NaN   \n",
       "3                          0        NaN                NaN   \n",
       "4                          0        NaN                NaN   \n",
       "...                      ...        ...                ...   \n",
       "14325                      0        NaN                NaN   \n",
       "14326                      0        NaN                NaN   \n",
       "14327                      0        NaN                NaN   \n",
       "14328                      0        NaN                NaN   \n",
       "14329                      0        NaN                NaN   \n",
       "\n",
       "                    created_at               updated_at    Filename  \n",
       "0      2015-12-04 16:20:46 UTC  2018-05-02 15:27:04 UTC  110499.jpg  \n",
       "1      2015-12-04 16:20:47 UTC  2018-05-02 15:34:34 UTC  110500.jpg  \n",
       "2      2015-12-04 16:20:48 UTC  2018-05-02 15:34:34 UTC  110501.jpg  \n",
       "3      2015-12-04 16:20:48 UTC  2018-05-02 15:26:11 UTC  110502.jpg  \n",
       "4      2015-12-04 16:20:48 UTC  2018-05-02 15:27:02 UTC  110503.jpg  \n",
       "...                        ...                      ...         ...  \n",
       "14325  2017-07-27 12:43:48 UTC  2018-05-02 14:57:46 UTC  092523.jpg  \n",
       "14326  2017-07-27 12:43:49 UTC  2018-05-02 14:54:46 UTC  092524.jpg  \n",
       "14327  2017-07-27 12:43:49 UTC  2018-05-02 14:55:43 UTC  092525.jpg  \n",
       "14328  2017-07-27 12:43:50 UTC  2018-05-02 14:57:29 UTC  092526.jpg  \n",
       "14329  2017-07-27 12:43:50 UTC  2018-05-02 14:55:31 UTC  092527.jpg  \n",
       "\n",
       "[14330 rows x 12 columns]"
      ],
      "text/html": "<div>\n<style scoped>\n    .dataframe tbody tr th:only-of-type {\n        vertical-align: middle;\n    }\n\n    .dataframe tbody tr th {\n        vertical-align: top;\n    }\n\n    .dataframe thead th {\n        text-align: right;\n    }\n</style>\n<table border=\"1\" class=\"dataframe\">\n  <thead>\n    <tr style=\"text-align: right;\">\n      <th></th>\n      <th>subject_id</th>\n      <th>project_id</th>\n      <th>workflow_id</th>\n      <th>subject_set_id</th>\n      <th>metadata</th>\n      <th>locations</th>\n      <th>classifications_count</th>\n      <th>retired_at</th>\n      <th>retirement_reason</th>\n      <th>created_at</th>\n      <th>updated_at</th>\n      <th>Filename</th>\n    </tr>\n  </thead>\n  <tbody>\n    <tr>\n      <td>0</td>\n      <td>1273522</td>\n      <td>376</td>\n      <td>2363.0</td>\n      <td>2776</td>\n      <td>{\"Genre\":\"Receipt Books\",\"Title\":\"Receipt book...</td>\n      <td>{\"0\":\"https://panoptes-uploads.zooniverse.org/...</td>\n      <td>0</td>\n      <td>NaN</td>\n      <td>NaN</td>\n      <td>2015-12-04 16:20:46 UTC</td>\n      <td>2018-05-02 15:27:04 UTC</td>\n      <td>110499.jpg</td>\n    </tr>\n    <tr>\n      <td>1</td>\n      <td>1273523</td>\n      <td>376</td>\n      <td>2363.0</td>\n      <td>2776</td>\n      <td>{\"Genre\":\"Receipt Books\",\"Title\":\"Receipt book...</td>\n      <td>{\"0\":\"https://panoptes-uploads.zooniverse.org/...</td>\n      <td>0</td>\n      <td>NaN</td>\n      <td>NaN</td>\n      <td>2015-12-04 16:20:47 UTC</td>\n      <td>2018-05-02 15:34:34 UTC</td>\n      <td>110500.jpg</td>\n    </tr>\n    <tr>\n      <td>2</td>\n      <td>1273524</td>\n      <td>376</td>\n      <td>2363.0</td>\n      <td>2776</td>\n      <td>{\"Genre\":\"Receipt Books\",\"Title\":\"Cookery and ...</td>\n      <td>{\"0\":\"https://panoptes-uploads.zooniverse.org/...</td>\n      <td>0</td>\n      <td>NaN</td>\n      <td>NaN</td>\n      <td>2015-12-04 16:20:48 UTC</td>\n      <td>2018-05-02 15:34:34 UTC</td>\n      <td>110501.jpg</td>\n    </tr>\n    <tr>\n      <td>3</td>\n      <td>1273525</td>\n      <td>376</td>\n      <td>2363.0</td>\n      <td>2776</td>\n      <td>{\"Genre\":\"Receipt Books\",\"Title\":\"Cookbook [ma...</td>\n      <td>{\"0\":\"https://panoptes-uploads.zooniverse.org/...</td>\n      <td>0</td>\n      <td>NaN</td>\n      <td>NaN</td>\n      <td>2015-12-04 16:20:48 UTC</td>\n      <td>2018-05-02 15:26:11 UTC</td>\n      <td>110502.jpg</td>\n    </tr>\n    <tr>\n      <td>4</td>\n      <td>1273526</td>\n      <td>376</td>\n      <td>2363.0</td>\n      <td>2776</td>\n      <td>{\"Genre\":\"Receipt Books\",\"Title\":\"Cookbook of ...</td>\n      <td>{\"0\":\"https://panoptes-uploads.zooniverse.org/...</td>\n      <td>0</td>\n      <td>NaN</td>\n      <td>NaN</td>\n      <td>2015-12-04 16:20:48 UTC</td>\n      <td>2018-05-02 15:27:02 UTC</td>\n      <td>110503.jpg</td>\n    </tr>\n    <tr>\n      <td>...</td>\n      <td>...</td>\n      <td>...</td>\n      <td>...</td>\n      <td>...</td>\n      <td>...</td>\n      <td>...</td>\n      <td>...</td>\n      <td>...</td>\n      <td>...</td>\n      <td>...</td>\n      <td>...</td>\n      <td>...</td>\n    </tr>\n    <tr>\n      <td>14325</td>\n      <td>11208937</td>\n      <td>376</td>\n      <td>NaN</td>\n      <td>13519</td>\n      <td>{\"Genre\":\"Newsletters\",\"Title\":\"Newdigate fami...</td>\n      <td>{\"0\":\"https://panoptes-uploads.zooniverse.org/...</td>\n      <td>0</td>\n      <td>NaN</td>\n      <td>NaN</td>\n      <td>2017-07-27 12:43:48 UTC</td>\n      <td>2018-05-02 14:57:46 UTC</td>\n      <td>092523.jpg</td>\n    </tr>\n    <tr>\n      <td>14326</td>\n      <td>11208938</td>\n      <td>376</td>\n      <td>NaN</td>\n      <td>13519</td>\n      <td>{\"Genre\":\"Newsletters\",\"Title\":\"Newdigate fami...</td>\n      <td>{\"0\":\"https://panoptes-uploads.zooniverse.org/...</td>\n      <td>0</td>\n      <td>NaN</td>\n      <td>NaN</td>\n      <td>2017-07-27 12:43:49 UTC</td>\n      <td>2018-05-02 14:54:46 UTC</td>\n      <td>092524.jpg</td>\n    </tr>\n    <tr>\n      <td>14327</td>\n      <td>11208939</td>\n      <td>376</td>\n      <td>NaN</td>\n      <td>13519</td>\n      <td>{\"Genre\":\"Newsletters\",\"Title\":\"Newdigate fami...</td>\n      <td>{\"0\":\"https://panoptes-uploads.zooniverse.org/...</td>\n      <td>0</td>\n      <td>NaN</td>\n      <td>NaN</td>\n      <td>2017-07-27 12:43:49 UTC</td>\n      <td>2018-05-02 14:55:43 UTC</td>\n      <td>092525.jpg</td>\n    </tr>\n    <tr>\n      <td>14328</td>\n      <td>11208940</td>\n      <td>376</td>\n      <td>NaN</td>\n      <td>13519</td>\n      <td>{\"Genre\":\"Newsletters\",\"Title\":\"Newdigate fami...</td>\n      <td>{\"0\":\"https://panoptes-uploads.zooniverse.org/...</td>\n      <td>0</td>\n      <td>NaN</td>\n      <td>NaN</td>\n      <td>2017-07-27 12:43:50 UTC</td>\n      <td>2018-05-02 14:57:29 UTC</td>\n      <td>092526.jpg</td>\n    </tr>\n    <tr>\n      <td>14329</td>\n      <td>11208941</td>\n      <td>376</td>\n      <td>NaN</td>\n      <td>13519</td>\n      <td>{\"Genre\":\"Newsletters\",\"Title\":\"Newdigate fami...</td>\n      <td>{\"0\":\"https://panoptes-uploads.zooniverse.org/...</td>\n      <td>0</td>\n      <td>NaN</td>\n      <td>NaN</td>\n      <td>2017-07-27 12:43:50 UTC</td>\n      <td>2018-05-02 14:55:31 UTC</td>\n      <td>092527.jpg</td>\n    </tr>\n  </tbody>\n</table>\n<p>14330 rows × 12 columns</p>\n</div>"
     },
     "metadata": {},
     "execution_count": 5
    }
   ],
   "source": [
    "subject['Filename'] = subject['Filename'].str[0]\n",
    "subject['Filename']\n",
    "subject"
   ]
  },
  {
   "cell_type": "code",
   "execution_count": 6,
   "metadata": {},
   "outputs": [
    {
     "output_type": "execute_result",
     "data": {
      "text/plain": [
       "      Unnamed: 0    Filename  Priority  \\\n",
       "0              1  086370.jpg      6331   \n",
       "1              2  086371.jpg      6332   \n",
       "2              3  086372.jpg      6333   \n",
       "3              4  086373.jpg      6334   \n",
       "4              5  086377.jpg      6335   \n",
       "...          ...         ...       ...   \n",
       "6128        6129  092523.jpg     12462   \n",
       "6129        6130  092524.jpg     12463   \n",
       "6130        6131  092525.jpg     12464   \n",
       "6131        6132  092526.jpg     12465   \n",
       "6132        6133  092527.jpg     12466   \n",
       "\n",
       "                                                  Title  \\\n",
       "0     Newdigate family collection of newsletters fro...   \n",
       "1     Newdigate family collection of newsletters fro...   \n",
       "2     Newdigate family collection of newsletters fro...   \n",
       "3     Newdigate family collection of newsletters fro...   \n",
       "4     Newdigate family collection of newsletters fro...   \n",
       "...                                                 ...   \n",
       "6128  Newdigate family collection of newsletters fro...   \n",
       "6129  Newdigate family collection of newsletters fro...   \n",
       "6130  Newdigate family collection of newsletters fro...   \n",
       "6131  Newdigate family collection of newsletters fro...   \n",
       "6132  Newdigate family collection of newsletters fro...   \n",
       "\n",
       "                                      Author       Origin Call Number  \\\n",
       "0     England and Wales. Secretary of State.  1673/4-1715    L.c.2104   \n",
       "1     England and Wales. Secretary of State.  1673/4-1715    L.c.2104   \n",
       "2     England and Wales. Secretary of State.  1673/4-1715    L.c.2104   \n",
       "3     England and Wales. Secretary of State.  1673/4-1715    L.c.2104   \n",
       "4     England and Wales. Secretary of State.  1673/4-1715    L.c.2106   \n",
       "...                                      ...          ...         ...   \n",
       "6128  England and Wales. Secretary of State.  1673/4-1715    L.c.3948   \n",
       "6129  England and Wales. Secretary of State.  1673/4-1715    L.c.3949   \n",
       "6130  England and Wales. Secretary of State.  1673/4-1715    L.c.3949   \n",
       "6131  England and Wales. Secretary of State.  1673/4-1715    L.c.3950   \n",
       "6132  England and Wales. Secretary of State.  1673/4-1715    L.c.3950   \n",
       "\n",
       "     Page Number  Page Sort        Genre  \\\n",
       "0             1r       6379  Newsletters   \n",
       "1             1v       6380  Newsletters   \n",
       "2             2r       6381  Newsletters   \n",
       "3             2v       6382  Newsletters   \n",
       "4             1r       6386  Newsletters   \n",
       "...          ...        ...          ...   \n",
       "6128          1v      12532  Newsletters   \n",
       "6129          1r      12533  Newsletters   \n",
       "6130          1v      12534  Newsletters   \n",
       "6131          1r      12535  Newsletters   \n",
       "6132          1v      12536  Newsletters   \n",
       "\n",
       "                                               Luna URL  \\\n",
       "0     http://luna.folger.edu/luna/servlet/detail/FOL...   \n",
       "1     http://luna.folger.edu/luna/servlet/detail/FOL...   \n",
       "2     http://luna.folger.edu/luna/servlet/detail/FOL...   \n",
       "3     http://luna.folger.edu/luna/servlet/detail/FOL...   \n",
       "4     http://luna.folger.edu/luna/servlet/detail/FOL...   \n",
       "...                                                 ...   \n",
       "6128  http://luna.folger.edu/luna/servlet/detail/FOL...   \n",
       "6129  http://luna.folger.edu/luna/servlet/detail/FOL...   \n",
       "6130  http://luna.folger.edu/luna/servlet/detail/FOL...   \n",
       "6131  http://luna.folger.edu/luna/servlet/detail/FOL...   \n",
       "6132  http://luna.folger.edu/luna/servlet/detail/FOL...   \n",
       "\n",
       "                                             Hamnet URL  \n",
       "0     http://hamnet.folger.edu/cgi-bin/Pwebrecon.cgi...  \n",
       "1     http://hamnet.folger.edu/cgi-bin/Pwebrecon.cgi...  \n",
       "2     http://hamnet.folger.edu/cgi-bin/Pwebrecon.cgi...  \n",
       "3     http://hamnet.folger.edu/cgi-bin/Pwebrecon.cgi...  \n",
       "4     http://hamnet.folger.edu/cgi-bin/Pwebrecon.cgi...  \n",
       "...                                                 ...  \n",
       "6128  http://hamnet.folger.edu/cgi-bin/Pwebrecon.cgi...  \n",
       "6129  http://hamnet.folger.edu/cgi-bin/Pwebrecon.cgi...  \n",
       "6130  http://hamnet.folger.edu/cgi-bin/Pwebrecon.cgi...  \n",
       "6131  http://hamnet.folger.edu/cgi-bin/Pwebrecon.cgi...  \n",
       "6132  http://hamnet.folger.edu/cgi-bin/Pwebrecon.cgi...  \n",
       "\n",
       "[6133 rows x 12 columns]"
      ],
      "text/html": "<div>\n<style scoped>\n    .dataframe tbody tr th:only-of-type {\n        vertical-align: middle;\n    }\n\n    .dataframe tbody tr th {\n        vertical-align: top;\n    }\n\n    .dataframe thead th {\n        text-align: right;\n    }\n</style>\n<table border=\"1\" class=\"dataframe\">\n  <thead>\n    <tr style=\"text-align: right;\">\n      <th></th>\n      <th>Unnamed: 0</th>\n      <th>Filename</th>\n      <th>Priority</th>\n      <th>Title</th>\n      <th>Author</th>\n      <th>Origin</th>\n      <th>Call Number</th>\n      <th>Page Number</th>\n      <th>Page Sort</th>\n      <th>Genre</th>\n      <th>Luna URL</th>\n      <th>Hamnet URL</th>\n    </tr>\n  </thead>\n  <tbody>\n    <tr>\n      <td>0</td>\n      <td>1</td>\n      <td>086370.jpg</td>\n      <td>6331</td>\n      <td>Newdigate family collection of newsletters fro...</td>\n      <td>England and Wales. Secretary of State.</td>\n      <td>1673/4-1715</td>\n      <td>L.c.2104</td>\n      <td>1r</td>\n      <td>6379</td>\n      <td>Newsletters</td>\n      <td>http://luna.folger.edu/luna/servlet/detail/FOL...</td>\n      <td>http://hamnet.folger.edu/cgi-bin/Pwebrecon.cgi...</td>\n    </tr>\n    <tr>\n      <td>1</td>\n      <td>2</td>\n      <td>086371.jpg</td>\n      <td>6332</td>\n      <td>Newdigate family collection of newsletters fro...</td>\n      <td>England and Wales. Secretary of State.</td>\n      <td>1673/4-1715</td>\n      <td>L.c.2104</td>\n      <td>1v</td>\n      <td>6380</td>\n      <td>Newsletters</td>\n      <td>http://luna.folger.edu/luna/servlet/detail/FOL...</td>\n      <td>http://hamnet.folger.edu/cgi-bin/Pwebrecon.cgi...</td>\n    </tr>\n    <tr>\n      <td>2</td>\n      <td>3</td>\n      <td>086372.jpg</td>\n      <td>6333</td>\n      <td>Newdigate family collection of newsletters fro...</td>\n      <td>England and Wales. Secretary of State.</td>\n      <td>1673/4-1715</td>\n      <td>L.c.2104</td>\n      <td>2r</td>\n      <td>6381</td>\n      <td>Newsletters</td>\n      <td>http://luna.folger.edu/luna/servlet/detail/FOL...</td>\n      <td>http://hamnet.folger.edu/cgi-bin/Pwebrecon.cgi...</td>\n    </tr>\n    <tr>\n      <td>3</td>\n      <td>4</td>\n      <td>086373.jpg</td>\n      <td>6334</td>\n      <td>Newdigate family collection of newsletters fro...</td>\n      <td>England and Wales. Secretary of State.</td>\n      <td>1673/4-1715</td>\n      <td>L.c.2104</td>\n      <td>2v</td>\n      <td>6382</td>\n      <td>Newsletters</td>\n      <td>http://luna.folger.edu/luna/servlet/detail/FOL...</td>\n      <td>http://hamnet.folger.edu/cgi-bin/Pwebrecon.cgi...</td>\n    </tr>\n    <tr>\n      <td>4</td>\n      <td>5</td>\n      <td>086377.jpg</td>\n      <td>6335</td>\n      <td>Newdigate family collection of newsletters fro...</td>\n      <td>England and Wales. Secretary of State.</td>\n      <td>1673/4-1715</td>\n      <td>L.c.2106</td>\n      <td>1r</td>\n      <td>6386</td>\n      <td>Newsletters</td>\n      <td>http://luna.folger.edu/luna/servlet/detail/FOL...</td>\n      <td>http://hamnet.folger.edu/cgi-bin/Pwebrecon.cgi...</td>\n    </tr>\n    <tr>\n      <td>...</td>\n      <td>...</td>\n      <td>...</td>\n      <td>...</td>\n      <td>...</td>\n      <td>...</td>\n      <td>...</td>\n      <td>...</td>\n      <td>...</td>\n      <td>...</td>\n      <td>...</td>\n      <td>...</td>\n      <td>...</td>\n    </tr>\n    <tr>\n      <td>6128</td>\n      <td>6129</td>\n      <td>092523.jpg</td>\n      <td>12462</td>\n      <td>Newdigate family collection of newsletters fro...</td>\n      <td>England and Wales. Secretary of State.</td>\n      <td>1673/4-1715</td>\n      <td>L.c.3948</td>\n      <td>1v</td>\n      <td>12532</td>\n      <td>Newsletters</td>\n      <td>http://luna.folger.edu/luna/servlet/detail/FOL...</td>\n      <td>http://hamnet.folger.edu/cgi-bin/Pwebrecon.cgi...</td>\n    </tr>\n    <tr>\n      <td>6129</td>\n      <td>6130</td>\n      <td>092524.jpg</td>\n      <td>12463</td>\n      <td>Newdigate family collection of newsletters fro...</td>\n      <td>England and Wales. Secretary of State.</td>\n      <td>1673/4-1715</td>\n      <td>L.c.3949</td>\n      <td>1r</td>\n      <td>12533</td>\n      <td>Newsletters</td>\n      <td>http://luna.folger.edu/luna/servlet/detail/FOL...</td>\n      <td>http://hamnet.folger.edu/cgi-bin/Pwebrecon.cgi...</td>\n    </tr>\n    <tr>\n      <td>6130</td>\n      <td>6131</td>\n      <td>092525.jpg</td>\n      <td>12464</td>\n      <td>Newdigate family collection of newsletters fro...</td>\n      <td>England and Wales. Secretary of State.</td>\n      <td>1673/4-1715</td>\n      <td>L.c.3949</td>\n      <td>1v</td>\n      <td>12534</td>\n      <td>Newsletters</td>\n      <td>http://luna.folger.edu/luna/servlet/detail/FOL...</td>\n      <td>http://hamnet.folger.edu/cgi-bin/Pwebrecon.cgi...</td>\n    </tr>\n    <tr>\n      <td>6131</td>\n      <td>6132</td>\n      <td>092526.jpg</td>\n      <td>12465</td>\n      <td>Newdigate family collection of newsletters fro...</td>\n      <td>England and Wales. Secretary of State.</td>\n      <td>1673/4-1715</td>\n      <td>L.c.3950</td>\n      <td>1r</td>\n      <td>12535</td>\n      <td>Newsletters</td>\n      <td>http://luna.folger.edu/luna/servlet/detail/FOL...</td>\n      <td>http://hamnet.folger.edu/cgi-bin/Pwebrecon.cgi...</td>\n    </tr>\n    <tr>\n      <td>6132</td>\n      <td>6133</td>\n      <td>092527.jpg</td>\n      <td>12466</td>\n      <td>Newdigate family collection of newsletters fro...</td>\n      <td>England and Wales. Secretary of State.</td>\n      <td>1673/4-1715</td>\n      <td>L.c.3950</td>\n      <td>1v</td>\n      <td>12536</td>\n      <td>Newsletters</td>\n      <td>http://luna.folger.edu/luna/servlet/detail/FOL...</td>\n      <td>http://hamnet.folger.edu/cgi-bin/Pwebrecon.cgi...</td>\n    </tr>\n  </tbody>\n</table>\n<p>6133 rows × 12 columns</p>\n</div>"
     },
     "metadata": {},
     "execution_count": 6
    }
   ],
   "source": [
    "newsletters"
   ]
  },
  {
   "cell_type": "code",
   "execution_count": 7,
   "metadata": {},
   "outputs": [
    {
     "output_type": "execute_result",
     "data": {
      "text/plain": [
       "      subject_id  project_id  workflow_id  subject_set_id  \\\n",
       "0       11202804         376          NaN           13519   \n",
       "1       11202805         376          NaN           13519   \n",
       "2       11202806         376          NaN           13519   \n",
       "3       11202807         376          NaN           13519   \n",
       "4       11202808         376          NaN           13519   \n",
       "...          ...         ...          ...             ...   \n",
       "6128    11208937         376          NaN           13519   \n",
       "6129    11208938         376          NaN           13519   \n",
       "6130    11208939         376          NaN           13519   \n",
       "6131    11208940         376          NaN           13519   \n",
       "6132    11208941         376          NaN           13519   \n",
       "\n",
       "                                              locations  \\\n",
       "0     {\"0\":\"https://panoptes-uploads.zooniverse.org/...   \n",
       "1     {\"0\":\"https://panoptes-uploads.zooniverse.org/...   \n",
       "2     {\"0\":\"https://panoptes-uploads.zooniverse.org/...   \n",
       "3     {\"0\":\"https://panoptes-uploads.zooniverse.org/...   \n",
       "4     {\"0\":\"https://panoptes-uploads.zooniverse.org/...   \n",
       "...                                                 ...   \n",
       "6128  {\"0\":\"https://panoptes-uploads.zooniverse.org/...   \n",
       "6129  {\"0\":\"https://panoptes-uploads.zooniverse.org/...   \n",
       "6130  {\"0\":\"https://panoptes-uploads.zooniverse.org/...   \n",
       "6131  {\"0\":\"https://panoptes-uploads.zooniverse.org/...   \n",
       "6132  {\"0\":\"https://panoptes-uploads.zooniverse.org/...   \n",
       "\n",
       "      classifications_count retired_at  retirement_reason  \\\n",
       "0                         0        NaN                NaN   \n",
       "1                         0        NaN                NaN   \n",
       "2                         0        NaN                NaN   \n",
       "3                         0        NaN                NaN   \n",
       "4                         0        NaN                NaN   \n",
       "...                     ...        ...                ...   \n",
       "6128                      0        NaN                NaN   \n",
       "6129                      0        NaN                NaN   \n",
       "6130                      0        NaN                NaN   \n",
       "6131                      0        NaN                NaN   \n",
       "6132                      0        NaN                NaN   \n",
       "\n",
       "                   created_at               updated_at  ... Priority  \\\n",
       "0     2017-07-27 11:52:16 UTC  2018-05-02 15:23:14 UTC  ...     6331   \n",
       "1     2017-07-27 11:52:17 UTC  2018-05-02 15:22:38 UTC  ...     6332   \n",
       "2     2017-07-27 11:52:18 UTC  2018-05-02 15:20:27 UTC  ...     6333   \n",
       "3     2017-07-27 11:52:18 UTC  2018-05-02 15:21:39 UTC  ...     6334   \n",
       "4     2017-07-27 11:52:18 UTC  2018-05-02 15:23:31 UTC  ...     6335   \n",
       "...                       ...                      ...  ...      ...   \n",
       "6128  2017-07-27 12:43:48 UTC  2018-05-02 14:57:46 UTC  ...    12462   \n",
       "6129  2017-07-27 12:43:49 UTC  2018-05-02 14:54:46 UTC  ...    12463   \n",
       "6130  2017-07-27 12:43:49 UTC  2018-05-02 14:55:43 UTC  ...    12464   \n",
       "6131  2017-07-27 12:43:50 UTC  2018-05-02 14:57:29 UTC  ...    12465   \n",
       "6132  2017-07-27 12:43:50 UTC  2018-05-02 14:55:31 UTC  ...    12466   \n",
       "\n",
       "                                                  Title  \\\n",
       "0     Newdigate family collection of newsletters fro...   \n",
       "1     Newdigate family collection of newsletters fro...   \n",
       "2     Newdigate family collection of newsletters fro...   \n",
       "3     Newdigate family collection of newsletters fro...   \n",
       "4     Newdigate family collection of newsletters fro...   \n",
       "...                                                 ...   \n",
       "6128  Newdigate family collection of newsletters fro...   \n",
       "6129  Newdigate family collection of newsletters fro...   \n",
       "6130  Newdigate family collection of newsletters fro...   \n",
       "6131  Newdigate family collection of newsletters fro...   \n",
       "6132  Newdigate family collection of newsletters fro...   \n",
       "\n",
       "                                      Author       Origin Call Number  \\\n",
       "0     England and Wales. Secretary of State.  1673/4-1715    L.c.2104   \n",
       "1     England and Wales. Secretary of State.  1673/4-1715    L.c.2104   \n",
       "2     England and Wales. Secretary of State.  1673/4-1715    L.c.2104   \n",
       "3     England and Wales. Secretary of State.  1673/4-1715    L.c.2104   \n",
       "4     England and Wales. Secretary of State.  1673/4-1715    L.c.2106   \n",
       "...                                      ...          ...         ...   \n",
       "6128  England and Wales. Secretary of State.  1673/4-1715    L.c.3948   \n",
       "6129  England and Wales. Secretary of State.  1673/4-1715    L.c.3949   \n",
       "6130  England and Wales. Secretary of State.  1673/4-1715    L.c.3949   \n",
       "6131  England and Wales. Secretary of State.  1673/4-1715    L.c.3950   \n",
       "6132  England and Wales. Secretary of State.  1673/4-1715    L.c.3950   \n",
       "\n",
       "     Page Number Page Sort        Genre  \\\n",
       "0             1r      6379  Newsletters   \n",
       "1             1v      6380  Newsletters   \n",
       "2             2r      6381  Newsletters   \n",
       "3             2v      6382  Newsletters   \n",
       "4             1r      6386  Newsletters   \n",
       "...          ...       ...          ...   \n",
       "6128          1v     12532  Newsletters   \n",
       "6129          1r     12533  Newsletters   \n",
       "6130          1v     12534  Newsletters   \n",
       "6131          1r     12535  Newsletters   \n",
       "6132          1v     12536  Newsletters   \n",
       "\n",
       "                                               Luna URL  \\\n",
       "0     http://luna.folger.edu/luna/servlet/detail/FOL...   \n",
       "1     http://luna.folger.edu/luna/servlet/detail/FOL...   \n",
       "2     http://luna.folger.edu/luna/servlet/detail/FOL...   \n",
       "3     http://luna.folger.edu/luna/servlet/detail/FOL...   \n",
       "4     http://luna.folger.edu/luna/servlet/detail/FOL...   \n",
       "...                                                 ...   \n",
       "6128  http://luna.folger.edu/luna/servlet/detail/FOL...   \n",
       "6129  http://luna.folger.edu/luna/servlet/detail/FOL...   \n",
       "6130  http://luna.folger.edu/luna/servlet/detail/FOL...   \n",
       "6131  http://luna.folger.edu/luna/servlet/detail/FOL...   \n",
       "6132  http://luna.folger.edu/luna/servlet/detail/FOL...   \n",
       "\n",
       "                                             Hamnet URL  \n",
       "0     http://hamnet.folger.edu/cgi-bin/Pwebrecon.cgi...  \n",
       "1     http://hamnet.folger.edu/cgi-bin/Pwebrecon.cgi...  \n",
       "2     http://hamnet.folger.edu/cgi-bin/Pwebrecon.cgi...  \n",
       "3     http://hamnet.folger.edu/cgi-bin/Pwebrecon.cgi...  \n",
       "4     http://hamnet.folger.edu/cgi-bin/Pwebrecon.cgi...  \n",
       "...                                                 ...  \n",
       "6128  http://hamnet.folger.edu/cgi-bin/Pwebrecon.cgi...  \n",
       "6129  http://hamnet.folger.edu/cgi-bin/Pwebrecon.cgi...  \n",
       "6130  http://hamnet.folger.edu/cgi-bin/Pwebrecon.cgi...  \n",
       "6131  http://hamnet.folger.edu/cgi-bin/Pwebrecon.cgi...  \n",
       "6132  http://hamnet.folger.edu/cgi-bin/Pwebrecon.cgi...  \n",
       "\n",
       "[6133 rows x 22 columns]"
      ],
      "text/html": "<div>\n<style scoped>\n    .dataframe tbody tr th:only-of-type {\n        vertical-align: middle;\n    }\n\n    .dataframe tbody tr th {\n        vertical-align: top;\n    }\n\n    .dataframe thead th {\n        text-align: right;\n    }\n</style>\n<table border=\"1\" class=\"dataframe\">\n  <thead>\n    <tr style=\"text-align: right;\">\n      <th></th>\n      <th>subject_id</th>\n      <th>project_id</th>\n      <th>workflow_id</th>\n      <th>subject_set_id</th>\n      <th>locations</th>\n      <th>classifications_count</th>\n      <th>retired_at</th>\n      <th>retirement_reason</th>\n      <th>created_at</th>\n      <th>updated_at</th>\n      <th>...</th>\n      <th>Priority</th>\n      <th>Title</th>\n      <th>Author</th>\n      <th>Origin</th>\n      <th>Call Number</th>\n      <th>Page Number</th>\n      <th>Page Sort</th>\n      <th>Genre</th>\n      <th>Luna URL</th>\n      <th>Hamnet URL</th>\n    </tr>\n  </thead>\n  <tbody>\n    <tr>\n      <td>0</td>\n      <td>11202804</td>\n      <td>376</td>\n      <td>NaN</td>\n      <td>13519</td>\n      <td>{\"0\":\"https://panoptes-uploads.zooniverse.org/...</td>\n      <td>0</td>\n      <td>NaN</td>\n      <td>NaN</td>\n      <td>2017-07-27 11:52:16 UTC</td>\n      <td>2018-05-02 15:23:14 UTC</td>\n      <td>...</td>\n      <td>6331</td>\n      <td>Newdigate family collection of newsletters fro...</td>\n      <td>England and Wales. Secretary of State.</td>\n      <td>1673/4-1715</td>\n      <td>L.c.2104</td>\n      <td>1r</td>\n      <td>6379</td>\n      <td>Newsletters</td>\n      <td>http://luna.folger.edu/luna/servlet/detail/FOL...</td>\n      <td>http://hamnet.folger.edu/cgi-bin/Pwebrecon.cgi...</td>\n    </tr>\n    <tr>\n      <td>1</td>\n      <td>11202805</td>\n      <td>376</td>\n      <td>NaN</td>\n      <td>13519</td>\n      <td>{\"0\":\"https://panoptes-uploads.zooniverse.org/...</td>\n      <td>0</td>\n      <td>NaN</td>\n      <td>NaN</td>\n      <td>2017-07-27 11:52:17 UTC</td>\n      <td>2018-05-02 15:22:38 UTC</td>\n      <td>...</td>\n      <td>6332</td>\n      <td>Newdigate family collection of newsletters fro...</td>\n      <td>England and Wales. Secretary of State.</td>\n      <td>1673/4-1715</td>\n      <td>L.c.2104</td>\n      <td>1v</td>\n      <td>6380</td>\n      <td>Newsletters</td>\n      <td>http://luna.folger.edu/luna/servlet/detail/FOL...</td>\n      <td>http://hamnet.folger.edu/cgi-bin/Pwebrecon.cgi...</td>\n    </tr>\n    <tr>\n      <td>2</td>\n      <td>11202806</td>\n      <td>376</td>\n      <td>NaN</td>\n      <td>13519</td>\n      <td>{\"0\":\"https://panoptes-uploads.zooniverse.org/...</td>\n      <td>0</td>\n      <td>NaN</td>\n      <td>NaN</td>\n      <td>2017-07-27 11:52:18 UTC</td>\n      <td>2018-05-02 15:20:27 UTC</td>\n      <td>...</td>\n      <td>6333</td>\n      <td>Newdigate family collection of newsletters fro...</td>\n      <td>England and Wales. Secretary of State.</td>\n      <td>1673/4-1715</td>\n      <td>L.c.2104</td>\n      <td>2r</td>\n      <td>6381</td>\n      <td>Newsletters</td>\n      <td>http://luna.folger.edu/luna/servlet/detail/FOL...</td>\n      <td>http://hamnet.folger.edu/cgi-bin/Pwebrecon.cgi...</td>\n    </tr>\n    <tr>\n      <td>3</td>\n      <td>11202807</td>\n      <td>376</td>\n      <td>NaN</td>\n      <td>13519</td>\n      <td>{\"0\":\"https://panoptes-uploads.zooniverse.org/...</td>\n      <td>0</td>\n      <td>NaN</td>\n      <td>NaN</td>\n      <td>2017-07-27 11:52:18 UTC</td>\n      <td>2018-05-02 15:21:39 UTC</td>\n      <td>...</td>\n      <td>6334</td>\n      <td>Newdigate family collection of newsletters fro...</td>\n      <td>England and Wales. Secretary of State.</td>\n      <td>1673/4-1715</td>\n      <td>L.c.2104</td>\n      <td>2v</td>\n      <td>6382</td>\n      <td>Newsletters</td>\n      <td>http://luna.folger.edu/luna/servlet/detail/FOL...</td>\n      <td>http://hamnet.folger.edu/cgi-bin/Pwebrecon.cgi...</td>\n    </tr>\n    <tr>\n      <td>4</td>\n      <td>11202808</td>\n      <td>376</td>\n      <td>NaN</td>\n      <td>13519</td>\n      <td>{\"0\":\"https://panoptes-uploads.zooniverse.org/...</td>\n      <td>0</td>\n      <td>NaN</td>\n      <td>NaN</td>\n      <td>2017-07-27 11:52:18 UTC</td>\n      <td>2018-05-02 15:23:31 UTC</td>\n      <td>...</td>\n      <td>6335</td>\n      <td>Newdigate family collection of newsletters fro...</td>\n      <td>England and Wales. Secretary of State.</td>\n      <td>1673/4-1715</td>\n      <td>L.c.2106</td>\n      <td>1r</td>\n      <td>6386</td>\n      <td>Newsletters</td>\n      <td>http://luna.folger.edu/luna/servlet/detail/FOL...</td>\n      <td>http://hamnet.folger.edu/cgi-bin/Pwebrecon.cgi...</td>\n    </tr>\n    <tr>\n      <td>...</td>\n      <td>...</td>\n      <td>...</td>\n      <td>...</td>\n      <td>...</td>\n      <td>...</td>\n      <td>...</td>\n      <td>...</td>\n      <td>...</td>\n      <td>...</td>\n      <td>...</td>\n      <td>...</td>\n      <td>...</td>\n      <td>...</td>\n      <td>...</td>\n      <td>...</td>\n      <td>...</td>\n      <td>...</td>\n      <td>...</td>\n      <td>...</td>\n      <td>...</td>\n      <td>...</td>\n    </tr>\n    <tr>\n      <td>6128</td>\n      <td>11208937</td>\n      <td>376</td>\n      <td>NaN</td>\n      <td>13519</td>\n      <td>{\"0\":\"https://panoptes-uploads.zooniverse.org/...</td>\n      <td>0</td>\n      <td>NaN</td>\n      <td>NaN</td>\n      <td>2017-07-27 12:43:48 UTC</td>\n      <td>2018-05-02 14:57:46 UTC</td>\n      <td>...</td>\n      <td>12462</td>\n      <td>Newdigate family collection of newsletters fro...</td>\n      <td>England and Wales. Secretary of State.</td>\n      <td>1673/4-1715</td>\n      <td>L.c.3948</td>\n      <td>1v</td>\n      <td>12532</td>\n      <td>Newsletters</td>\n      <td>http://luna.folger.edu/luna/servlet/detail/FOL...</td>\n      <td>http://hamnet.folger.edu/cgi-bin/Pwebrecon.cgi...</td>\n    </tr>\n    <tr>\n      <td>6129</td>\n      <td>11208938</td>\n      <td>376</td>\n      <td>NaN</td>\n      <td>13519</td>\n      <td>{\"0\":\"https://panoptes-uploads.zooniverse.org/...</td>\n      <td>0</td>\n      <td>NaN</td>\n      <td>NaN</td>\n      <td>2017-07-27 12:43:49 UTC</td>\n      <td>2018-05-02 14:54:46 UTC</td>\n      <td>...</td>\n      <td>12463</td>\n      <td>Newdigate family collection of newsletters fro...</td>\n      <td>England and Wales. Secretary of State.</td>\n      <td>1673/4-1715</td>\n      <td>L.c.3949</td>\n      <td>1r</td>\n      <td>12533</td>\n      <td>Newsletters</td>\n      <td>http://luna.folger.edu/luna/servlet/detail/FOL...</td>\n      <td>http://hamnet.folger.edu/cgi-bin/Pwebrecon.cgi...</td>\n    </tr>\n    <tr>\n      <td>6130</td>\n      <td>11208939</td>\n      <td>376</td>\n      <td>NaN</td>\n      <td>13519</td>\n      <td>{\"0\":\"https://panoptes-uploads.zooniverse.org/...</td>\n      <td>0</td>\n      <td>NaN</td>\n      <td>NaN</td>\n      <td>2017-07-27 12:43:49 UTC</td>\n      <td>2018-05-02 14:55:43 UTC</td>\n      <td>...</td>\n      <td>12464</td>\n      <td>Newdigate family collection of newsletters fro...</td>\n      <td>England and Wales. Secretary of State.</td>\n      <td>1673/4-1715</td>\n      <td>L.c.3949</td>\n      <td>1v</td>\n      <td>12534</td>\n      <td>Newsletters</td>\n      <td>http://luna.folger.edu/luna/servlet/detail/FOL...</td>\n      <td>http://hamnet.folger.edu/cgi-bin/Pwebrecon.cgi...</td>\n    </tr>\n    <tr>\n      <td>6131</td>\n      <td>11208940</td>\n      <td>376</td>\n      <td>NaN</td>\n      <td>13519</td>\n      <td>{\"0\":\"https://panoptes-uploads.zooniverse.org/...</td>\n      <td>0</td>\n      <td>NaN</td>\n      <td>NaN</td>\n      <td>2017-07-27 12:43:50 UTC</td>\n      <td>2018-05-02 14:57:29 UTC</td>\n      <td>...</td>\n      <td>12465</td>\n      <td>Newdigate family collection of newsletters fro...</td>\n      <td>England and Wales. Secretary of State.</td>\n      <td>1673/4-1715</td>\n      <td>L.c.3950</td>\n      <td>1r</td>\n      <td>12535</td>\n      <td>Newsletters</td>\n      <td>http://luna.folger.edu/luna/servlet/detail/FOL...</td>\n      <td>http://hamnet.folger.edu/cgi-bin/Pwebrecon.cgi...</td>\n    </tr>\n    <tr>\n      <td>6132</td>\n      <td>11208941</td>\n      <td>376</td>\n      <td>NaN</td>\n      <td>13519</td>\n      <td>{\"0\":\"https://panoptes-uploads.zooniverse.org/...</td>\n      <td>0</td>\n      <td>NaN</td>\n      <td>NaN</td>\n      <td>2017-07-27 12:43:50 UTC</td>\n      <td>2018-05-02 14:55:31 UTC</td>\n      <td>...</td>\n      <td>12466</td>\n      <td>Newdigate family collection of newsletters fro...</td>\n      <td>England and Wales. Secretary of State.</td>\n      <td>1673/4-1715</td>\n      <td>L.c.3950</td>\n      <td>1v</td>\n      <td>12536</td>\n      <td>Newsletters</td>\n      <td>http://luna.folger.edu/luna/servlet/detail/FOL...</td>\n      <td>http://hamnet.folger.edu/cgi-bin/Pwebrecon.cgi...</td>\n    </tr>\n  </tbody>\n</table>\n<p>6133 rows × 22 columns</p>\n</div>"
     },
     "metadata": {},
     "execution_count": 7
    }
   ],
   "source": [
    "merged = subject.merge(newsletters, how = 'inner', on = 'Filename')\n",
    "\n",
    "#Dropping metadata column since it is redundant with the information in newletter dataset\n",
    "merged = merged.drop(columns = 'metadata', axis = 1)\n",
    "merged"
   ]
  },
  {
   "cell_type": "code",
   "execution_count": 8,
   "metadata": {},
   "outputs": [],
   "source": [
    "merged.to_csv(\"newsletters_subjectid.csv\")"
   ]
  },
  {
   "cell_type": "code",
   "execution_count": 10,
   "metadata": {},
   "outputs": [
    {
     "output_type": "execute_result",
     "data": {
      "text/plain": [
       "   classification_id                           user_name  user_id  \\\n",
       "0            2111926  not-logged-in-fc8ae6ef685dadeded5c      NaN   \n",
       "1            2111927  not-logged-in-fc8ae6ef685dadeded5c      NaN   \n",
       "2            2111946  not-logged-in-fc8ae6ef685dadeded5c      NaN   \n",
       "3            2111947  not-logged-in-fc8ae6ef685dadeded5c      NaN   \n",
       "4            2111970  not-logged-in-fc8ae6ef685dadeded5c      NaN   \n",
       "\n",
       "                user_ip  workflow_id workflow_name  workflow_version  \\\n",
       "0  fc8ae6ef685dadeded5c          205  Subject type               6.9   \n",
       "1  fc8ae6ef685dadeded5c          205  Subject type               6.9   \n",
       "2  fc8ae6ef685dadeded5c          205  Subject type               6.9   \n",
       "3  fc8ae6ef685dadeded5c          205  Subject type               6.9   \n",
       "4  fc8ae6ef685dadeded5c          205  Subject type               6.9   \n",
       "\n",
       "                created_at  gold_standard  expert  \\\n",
       "0  2015-07-16 15:27:58 UTC            NaN     NaN   \n",
       "1  2015-07-16 15:27:59 UTC            NaN     NaN   \n",
       "2  2015-07-16 15:37:42 UTC            NaN     NaN   \n",
       "3  2015-07-16 15:37:50 UTC            NaN     NaN   \n",
       "4  2015-07-16 15:45:03 UTC            NaN     NaN   \n",
       "\n",
       "                                            metadata  \\\n",
       "0  {\"started_at\":\"2015-07-16T16:27:51+01:00\",\"use...   \n",
       "1  {\"started_at\":\"2015-07-16T16:16:28+01:00\",\"use...   \n",
       "2  {\"started_at\":\"2015-07-16T16:37:39+01:00\",\"use...   \n",
       "3  {\"started_at\":\"2015-07-16T16:37:42+01:00\",\"use...   \n",
       "4  {\"started_at\":\"2015-07-16T16:44:58+01:00\",\"use...   \n",
       "\n",
       "                                         annotations  \\\n",
       "0  [{\"task\":\"T0\",\"value\":false},{\"task\":\"T2\",\"val...   \n",
       "1  [{\"task\":\"T0\",\"value\":false},{\"task\":\"T2\",\"val...   \n",
       "2  [{\"task\":\"T0\",\"value\":false},{\"task\":\"T2\",\"val...   \n",
       "3  [{\"task\":\"T0\",\"value\":false},{\"task\":\"T2\",\"val...   \n",
       "4  [{\"task\":\"T0\",\"value\":false},{\"task\":\"T2\",\"val...   \n",
       "\n",
       "                                        subject_data  subject_ids  \n",
       "0  {\"511586\":{\"retired\":null,\"file name\":\"067650....       511586  \n",
       "1  {\"458922\":{\"retired\":null,\"imgname\":\"getjpeg.a...       458922  \n",
       "2  {\"511586\":{\"retired\":null,\"file name\":\"067650....       511586  \n",
       "3  {\"511587\":{\"retired\":null,\"file name\":\"068416....       511587  \n",
       "4  {\"511588\":{\"retired\":null,\"file name\":\"070750....       511588  "
      ],
      "text/html": "<div>\n<style scoped>\n    .dataframe tbody tr th:only-of-type {\n        vertical-align: middle;\n    }\n\n    .dataframe tbody tr th {\n        vertical-align: top;\n    }\n\n    .dataframe thead th {\n        text-align: right;\n    }\n</style>\n<table border=\"1\" class=\"dataframe\">\n  <thead>\n    <tr style=\"text-align: right;\">\n      <th></th>\n      <th>classification_id</th>\n      <th>user_name</th>\n      <th>user_id</th>\n      <th>user_ip</th>\n      <th>workflow_id</th>\n      <th>workflow_name</th>\n      <th>workflow_version</th>\n      <th>created_at</th>\n      <th>gold_standard</th>\n      <th>expert</th>\n      <th>metadata</th>\n      <th>annotations</th>\n      <th>subject_data</th>\n      <th>subject_ids</th>\n    </tr>\n  </thead>\n  <tbody>\n    <tr>\n      <td>0</td>\n      <td>2111926</td>\n      <td>not-logged-in-fc8ae6ef685dadeded5c</td>\n      <td>NaN</td>\n      <td>fc8ae6ef685dadeded5c</td>\n      <td>205</td>\n      <td>Subject type</td>\n      <td>6.9</td>\n      <td>2015-07-16 15:27:58 UTC</td>\n      <td>NaN</td>\n      <td>NaN</td>\n      <td>{\"started_at\":\"2015-07-16T16:27:51+01:00\",\"use...</td>\n      <td>[{\"task\":\"T0\",\"value\":false},{\"task\":\"T2\",\"val...</td>\n      <td>{\"511586\":{\"retired\":null,\"file name\":\"067650....</td>\n      <td>511586</td>\n    </tr>\n    <tr>\n      <td>1</td>\n      <td>2111927</td>\n      <td>not-logged-in-fc8ae6ef685dadeded5c</td>\n      <td>NaN</td>\n      <td>fc8ae6ef685dadeded5c</td>\n      <td>205</td>\n      <td>Subject type</td>\n      <td>6.9</td>\n      <td>2015-07-16 15:27:59 UTC</td>\n      <td>NaN</td>\n      <td>NaN</td>\n      <td>{\"started_at\":\"2015-07-16T16:16:28+01:00\",\"use...</td>\n      <td>[{\"task\":\"T0\",\"value\":false},{\"task\":\"T2\",\"val...</td>\n      <td>{\"458922\":{\"retired\":null,\"imgname\":\"getjpeg.a...</td>\n      <td>458922</td>\n    </tr>\n    <tr>\n      <td>2</td>\n      <td>2111946</td>\n      <td>not-logged-in-fc8ae6ef685dadeded5c</td>\n      <td>NaN</td>\n      <td>fc8ae6ef685dadeded5c</td>\n      <td>205</td>\n      <td>Subject type</td>\n      <td>6.9</td>\n      <td>2015-07-16 15:37:42 UTC</td>\n      <td>NaN</td>\n      <td>NaN</td>\n      <td>{\"started_at\":\"2015-07-16T16:37:39+01:00\",\"use...</td>\n      <td>[{\"task\":\"T0\",\"value\":false},{\"task\":\"T2\",\"val...</td>\n      <td>{\"511586\":{\"retired\":null,\"file name\":\"067650....</td>\n      <td>511586</td>\n    </tr>\n    <tr>\n      <td>3</td>\n      <td>2111947</td>\n      <td>not-logged-in-fc8ae6ef685dadeded5c</td>\n      <td>NaN</td>\n      <td>fc8ae6ef685dadeded5c</td>\n      <td>205</td>\n      <td>Subject type</td>\n      <td>6.9</td>\n      <td>2015-07-16 15:37:50 UTC</td>\n      <td>NaN</td>\n      <td>NaN</td>\n      <td>{\"started_at\":\"2015-07-16T16:37:42+01:00\",\"use...</td>\n      <td>[{\"task\":\"T0\",\"value\":false},{\"task\":\"T2\",\"val...</td>\n      <td>{\"511587\":{\"retired\":null,\"file name\":\"068416....</td>\n      <td>511587</td>\n    </tr>\n    <tr>\n      <td>4</td>\n      <td>2111970</td>\n      <td>not-logged-in-fc8ae6ef685dadeded5c</td>\n      <td>NaN</td>\n      <td>fc8ae6ef685dadeded5c</td>\n      <td>205</td>\n      <td>Subject type</td>\n      <td>6.9</td>\n      <td>2015-07-16 15:45:03 UTC</td>\n      <td>NaN</td>\n      <td>NaN</td>\n      <td>{\"started_at\":\"2015-07-16T16:44:58+01:00\",\"use...</td>\n      <td>[{\"task\":\"T0\",\"value\":false},{\"task\":\"T2\",\"val...</td>\n      <td>{\"511588\":{\"retired\":null,\"file name\":\"070750....</td>\n      <td>511588</td>\n    </tr>\n  </tbody>\n</table>\n</div>"
     },
     "metadata": {},
     "execution_count": 10
    }
   ],
   "source": [
    "#Loading classifications dataset\n",
    "classifications = pd.read_csv(\"shakespeares-world-classifications.csv\")\n",
    "classifications.head()"
   ]
  },
  {
   "cell_type": "code",
   "execution_count": 15,
   "metadata": {},
   "outputs": [
    {
     "output_type": "stream",
     "name": "stdout",
     "text": [
      "Requirement already satisfied: panoptes_aggregation in c:\\users\\andrew\\anaconda3\\lib\\site-packages (3.5)\nRequirement already satisfied: pandas<1.2.3,>=0.24.2 in c:\\users\\andrew\\anaconda3\\lib\\site-packages (from panoptes_aggregation) (0.25.1)\nRequirement already satisfied: werkzeug<1.0.2,>=0.14 in c:\\users\\andrew\\anaconda3\\lib\\site-packages (from panoptes_aggregation) (0.16.0)\nRequirement already satisfied: scipy<1.6.1,>=1.2 in c:\\users\\andrew\\anaconda3\\lib\\site-packages (from panoptes_aggregation) (1.3.1)\nRequirement already satisfied: collatex<2.3,>=2.2 in c:\\users\\andrew\\anaconda3\\lib\\site-packages (from panoptes_aggregation) (2.2)\nRequirement already satisfied: python-levenshtein<0.13,>=0.12.0 in c:\\users\\andrew\\anaconda3\\lib\\site-packages (from panoptes_aggregation) (0.12.2)\nRequirement already satisfied: packaging<20.10,>=20.1 in c:\\users\\andrew\\anaconda3\\lib\\site-packages (from panoptes_aggregation) (20.9)\nRequirement already satisfied: python-slugify<4.1,>=3.0.0 in c:\\users\\andrew\\anaconda3\\lib\\site-packages (from panoptes_aggregation) (4.0.1)\nRequirement already satisfied: progressbar2<3.54,>=3.39 in c:\\users\\andrew\\anaconda3\\lib\\site-packages (from panoptes_aggregation) (3.53.1)\nRequirement already satisfied: hdbscan<0.8.28,>=0.8.20 in c:\\users\\andrew\\anaconda3\\lib\\site-packages (from panoptes_aggregation) (0.8.27)\nRequirement already satisfied: beautifulsoup4<4.10,>=4.8.1 in c:\\users\\andrew\\anaconda3\\lib\\site-packages (from panoptes_aggregation) (4.9.3)\nRequirement already satisfied: pyyaml<5.5,>=5.1 in c:\\users\\andrew\\anaconda3\\lib\\site-packages (from panoptes_aggregation) (5.1.2)\nRequirement already satisfied: numpy<1.20.2,>=1.20.0 in c:\\users\\andrew\\anaconda3\\lib\\site-packages (from panoptes_aggregation) (1.20.1)\nRequirement already satisfied: scikit-learn<0.24.2,>=0.21.1 in c:\\users\\andrew\\anaconda3\\lib\\site-packages (from panoptes_aggregation) (0.21.3)\nRequirement already satisfied: lxml<4.7,>=4.4 in c:\\users\\andrew\\anaconda3\\lib\\site-packages (from panoptes_aggregation) (4.4.1)\nRequirement already satisfied: python-dateutil>=2.6.1 in c:\\users\\andrew\\anaconda3\\lib\\site-packages (from pandas<1.2.3,>=0.24.2->panoptes_aggregation) (2.8.0)\nRequirement already satisfied: pytz>=2017.2 in c:\\users\\andrew\\anaconda3\\lib\\site-packages (from pandas<1.2.3,>=0.24.2->panoptes_aggregation) (2019.3)\nRequirement already satisfied: networkx in c:\\users\\andrew\\anaconda3\\lib\\site-packages (from collatex<2.3,>=2.2->panoptes_aggregation) (2.3)\nRequirement already satisfied: prettytable in c:\\users\\andrew\\anaconda3\\lib\\site-packages (from collatex<2.3,>=2.2->panoptes_aggregation) (2.1.0)\nRequirement already satisfied: setuptools in c:\\users\\andrew\\anaconda3\\lib\\site-packages (from python-levenshtein<0.13,>=0.12.0->panoptes_aggregation) (41.4.0)\nRequirement already satisfied: pyparsing>=2.0.2 in c:\\users\\andrew\\anaconda3\\lib\\site-packages (from packaging<20.10,>=20.1->panoptes_aggregation) (2.4.2)\nRequirement already satisfied: text-unidecode>=1.3 in c:\\users\\andrew\\anaconda3\\lib\\site-packages (from python-slugify<4.1,>=3.0.0->panoptes_aggregation) (1.3)\nRequirement already satisfied: six in c:\\users\\andrew\\anaconda3\\lib\\site-packages (from progressbar2<3.54,>=3.39->panoptes_aggregation) (1.12.0)\nRequirement already satisfied: python-utils>=2.3.0 in c:\\users\\andrew\\anaconda3\\lib\\site-packages (from progressbar2<3.54,>=3.39->panoptes_aggregation) (2.5.6)\nRequirement already satisfied: cython>=0.27 in c:\\users\\andrew\\anaconda3\\lib\\site-packages (from hdbscan<0.8.28,>=0.8.20->panoptes_aggregation) (0.29.13)\nCollecting joblib>=1.0 (from hdbscan<0.8.28,>=0.8.20->panoptes_aggregation)\n  Downloading https://files.pythonhosted.org/packages/55/85/70c6602b078bd9e6f3da4f467047e906525c355a4dacd4f71b97a35d9897/joblib-1.0.1-py3-none-any.whl (303kB)\nRequirement already satisfied: soupsieve>1.2; python_version >= \"3.0\" in c:\\users\\andrew\\anaconda3\\lib\\site-packages (from beautifulsoup4<4.10,>=4.8.1->panoptes_aggregation) (1.9.3)\nRequirement already satisfied: decorator>=4.3.0 in c:\\users\\andrew\\anaconda3\\lib\\site-packages (from networkx->collatex<2.3,>=2.2->panoptes_aggregation) (4.4.0)\nRequirement already satisfied: importlib-metadata; python_version < \"3.8\" in c:\\users\\andrew\\anaconda3\\lib\\site-packages (from prettytable->collatex<2.3,>=2.2->panoptes_aggregation) (0.23)\nRequirement already satisfied: wcwidth in c:\\users\\andrew\\anaconda3\\lib\\site-packages (from prettytable->collatex<2.3,>=2.2->panoptes_aggregation) (0.1.7)\nRequirement already satisfied: zipp>=0.5 in c:\\users\\andrew\\anaconda3\\lib\\site-packages (from importlib-metadata; python_version < \"3.8\"->prettytable->collatex<2.3,>=2.2->panoptes_aggregation) (0.6.0)\nRequirement already satisfied: more-itertools in c:\\users\\andrew\\anaconda3\\lib\\site-packages (from zipp>=0.5->importlib-metadata; python_version < \"3.8\"->prettytable->collatex<2.3,>=2.2->panoptes_aggregation) (7.2.0)\nInstalling collected packages: joblib\n  Found existing installation: joblib 0.13.2\n    Uninstalling joblib-0.13.2:\n      Successfully uninstalled joblib-0.13.2\nSuccessfully installed joblib-1.0.1\nNote: you may need to restart the kernel to use updated packages.\n"
     ]
    }
   ],
   "source": [
    "pip install panoptes_aggregation"
   ]
  },
  {
   "cell_type": "code",
   "execution_count": 13,
   "metadata": {},
   "outputs": [
    {
     "output_type": "error",
     "ename": "NameError",
     "evalue": "name 'panoptes_aggregation' is not defined",
     "traceback": [
      "\u001b[1;31m---------------------------------------------------------------------------\u001b[0m",
      "\u001b[1;31mNameError\u001b[0m                                 Traceback (most recent call last)",
      "\u001b[1;32m<ipython-input-13-d91a76815cea>\u001b[0m in \u001b[0;36m<module>\u001b[1;34m\u001b[0m\n\u001b[1;32m----> 1\u001b[1;33m \u001b[0mpanoptes_aggregation\u001b[0m\u001b[1;33m.\u001b[0m\u001b[0mextractors\u001b[0m\u001b[1;33m.\u001b[0m\u001b[0msw_extractor\u001b[0m\u001b[1;33m.\u001b[0m\u001b[0msw_extractor\u001b[0m\u001b[1;33m(\u001b[0m\u001b[0mclassifications\u001b[0m\u001b[1;33m[\u001b[0m\u001b[0mannotations\u001b[0m\u001b[1;33m]\u001b[0m\u001b[1;33m)\u001b[0m\u001b[1;33m\u001b[0m\u001b[1;33m\u001b[0m\u001b[0m\n\u001b[0m",
      "\u001b[1;31mNameError\u001b[0m: name 'panoptes_aggregation' is not defined"
     ]
    }
   ],
   "source": [
    "panoptes_aggregation.extractors.sw_extractor.sw_extractor(classifications[annotations])"
   ]
  },
  {
   "cell_type": "code",
   "execution_count": null,
   "metadata": {},
   "outputs": [],
   "source": []
  }
 ],
 "metadata": {
  "kernelspec": {
   "name": "python374jvsc74a57bd0a44ce12d68b64b438db11e3bc3dc940a5996a4408784b20727c9239987835693",
   "display_name": "Python 3.7.4 64-bit ('base': conda)"
  },
  "language_info": {
   "codemirror_mode": {
    "name": "ipython",
    "version": 3
   },
   "file_extension": ".py",
   "mimetype": "text/x-python",
   "name": "python",
   "nbconvert_exporter": "python",
   "pygments_lexer": "ipython3",
   "version": "3.7.4"
  }
 },
 "nbformat": 4,
 "nbformat_minor": 2
}