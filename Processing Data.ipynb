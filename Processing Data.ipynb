{
 "cells": [
  {
   "cell_type": "code",
   "execution_count": 10,
   "metadata": {},
   "outputs": [],
   "source": [
    "#Notebook used for cleaning data\n",
    "import numpy as np\n",
    "import pandas as pd\n",
    "from pandas.io.json import json_normalize\n",
    "import os\n",
    "from pathlib import Path"
   ]
  },
  {
   "source": [
    "For the first step in the project we must link the Zooniverse Manuscript to the Subject ID"
   ],
   "cell_type": "markdown",
   "metadata": {}
  },
  {
   "cell_type": "code",
   "execution_count": 12,
   "metadata": {},
   "outputs": [],
   "source": [
    "#Loading in datasets that need to be linked\n",
    "subject = pd.read_csv(\"Unprocessed Datasets\\shakespeares-world-subjects.csv\")\n",
    "newsletters = pd.read_csv('Unprocessed Datasets\\combined_newsletters.csv')\n"
   ]
  },
  {
   "cell_type": "code",
   "execution_count": 13,
   "metadata": {},
   "outputs": [
    {
     "output_type": "execute_result",
     "data": {
      "text/plain": [
       "   subject_id  project_id  workflow_id  subject_set_id  \\\n",
       "0     1273522         376       2363.0            2776   \n",
       "1     1273523         376       2363.0            2776   \n",
       "2     1273524         376       2363.0            2776   \n",
       "3     1273525         376       2363.0            2776   \n",
       "4     1273526         376       2363.0            2776   \n",
       "\n",
       "                                            metadata  \\\n",
       "0  {\"Genre\":\"Receipt Books\",\"Title\":\"Receipt book...   \n",
       "1  {\"Genre\":\"Receipt Books\",\"Title\":\"Receipt book...   \n",
       "2  {\"Genre\":\"Receipt Books\",\"Title\":\"Cookery and ...   \n",
       "3  {\"Genre\":\"Receipt Books\",\"Title\":\"Cookbook [ma...   \n",
       "4  {\"Genre\":\"Receipt Books\",\"Title\":\"Cookbook of ...   \n",
       "\n",
       "                                           locations  classifications_count  \\\n",
       "0  {\"0\":\"https://panoptes-uploads.zooniverse.org/...                      0   \n",
       "1  {\"0\":\"https://panoptes-uploads.zooniverse.org/...                      0   \n",
       "2  {\"0\":\"https://panoptes-uploads.zooniverse.org/...                      0   \n",
       "3  {\"0\":\"https://panoptes-uploads.zooniverse.org/...                      0   \n",
       "4  {\"0\":\"https://panoptes-uploads.zooniverse.org/...                      0   \n",
       "\n",
       "  retired_at  retirement_reason               created_at  \\\n",
       "0        NaN                NaN  2015-12-04 16:20:46 UTC   \n",
       "1        NaN                NaN  2015-12-04 16:20:47 UTC   \n",
       "2        NaN                NaN  2015-12-04 16:20:48 UTC   \n",
       "3        NaN                NaN  2015-12-04 16:20:48 UTC   \n",
       "4        NaN                NaN  2015-12-04 16:20:48 UTC   \n",
       "\n",
       "                updated_at    Filename  \n",
       "0  2018-05-02 15:27:04 UTC  110499.jpg  \n",
       "1  2018-05-02 15:34:34 UTC  110500.jpg  \n",
       "2  2018-05-02 15:34:34 UTC  110501.jpg  \n",
       "3  2018-05-02 15:26:11 UTC  110502.jpg  \n",
       "4  2018-05-02 15:27:02 UTC  110503.jpg  "
      ],
      "text/html": "<div>\n<style scoped>\n    .dataframe tbody tr th:only-of-type {\n        vertical-align: middle;\n    }\n\n    .dataframe tbody tr th {\n        vertical-align: top;\n    }\n\n    .dataframe thead th {\n        text-align: right;\n    }\n</style>\n<table border=\"1\" class=\"dataframe\">\n  <thead>\n    <tr style=\"text-align: right;\">\n      <th></th>\n      <th>subject_id</th>\n      <th>project_id</th>\n      <th>workflow_id</th>\n      <th>subject_set_id</th>\n      <th>metadata</th>\n      <th>locations</th>\n      <th>classifications_count</th>\n      <th>retired_at</th>\n      <th>retirement_reason</th>\n      <th>created_at</th>\n      <th>updated_at</th>\n      <th>Filename</th>\n    </tr>\n  </thead>\n  <tbody>\n    <tr>\n      <td>0</td>\n      <td>1273522</td>\n      <td>376</td>\n      <td>2363.0</td>\n      <td>2776</td>\n      <td>{\"Genre\":\"Receipt Books\",\"Title\":\"Receipt book...</td>\n      <td>{\"0\":\"https://panoptes-uploads.zooniverse.org/...</td>\n      <td>0</td>\n      <td>NaN</td>\n      <td>NaN</td>\n      <td>2015-12-04 16:20:46 UTC</td>\n      <td>2018-05-02 15:27:04 UTC</td>\n      <td>110499.jpg</td>\n    </tr>\n    <tr>\n      <td>1</td>\n      <td>1273523</td>\n      <td>376</td>\n      <td>2363.0</td>\n      <td>2776</td>\n      <td>{\"Genre\":\"Receipt Books\",\"Title\":\"Receipt book...</td>\n      <td>{\"0\":\"https://panoptes-uploads.zooniverse.org/...</td>\n      <td>0</td>\n      <td>NaN</td>\n      <td>NaN</td>\n      <td>2015-12-04 16:20:47 UTC</td>\n      <td>2018-05-02 15:34:34 UTC</td>\n      <td>110500.jpg</td>\n    </tr>\n    <tr>\n      <td>2</td>\n      <td>1273524</td>\n      <td>376</td>\n      <td>2363.0</td>\n      <td>2776</td>\n      <td>{\"Genre\":\"Receipt Books\",\"Title\":\"Cookery and ...</td>\n      <td>{\"0\":\"https://panoptes-uploads.zooniverse.org/...</td>\n      <td>0</td>\n      <td>NaN</td>\n      <td>NaN</td>\n      <td>2015-12-04 16:20:48 UTC</td>\n      <td>2018-05-02 15:34:34 UTC</td>\n      <td>110501.jpg</td>\n    </tr>\n    <tr>\n      <td>3</td>\n      <td>1273525</td>\n      <td>376</td>\n      <td>2363.0</td>\n      <td>2776</td>\n      <td>{\"Genre\":\"Receipt Books\",\"Title\":\"Cookbook [ma...</td>\n      <td>{\"0\":\"https://panoptes-uploads.zooniverse.org/...</td>\n      <td>0</td>\n      <td>NaN</td>\n      <td>NaN</td>\n      <td>2015-12-04 16:20:48 UTC</td>\n      <td>2018-05-02 15:26:11 UTC</td>\n      <td>110502.jpg</td>\n    </tr>\n    <tr>\n      <td>4</td>\n      <td>1273526</td>\n      <td>376</td>\n      <td>2363.0</td>\n      <td>2776</td>\n      <td>{\"Genre\":\"Receipt Books\",\"Title\":\"Cookbook of ...</td>\n      <td>{\"0\":\"https://panoptes-uploads.zooniverse.org/...</td>\n      <td>0</td>\n      <td>NaN</td>\n      <td>NaN</td>\n      <td>2015-12-04 16:20:48 UTC</td>\n      <td>2018-05-02 15:27:02 UTC</td>\n      <td>110503.jpg</td>\n    </tr>\n  </tbody>\n</table>\n</div>"
     },
     "metadata": {},
     "execution_count": 13
    }
   ],
   "source": [
    "#Seperating the Filename ID from the metadata column in subject\n",
    "subject['Filename'] = subject['metadata'].str.findall('\\d+.jpg')\n",
    "subject['Filename'].to_string()\n",
    "subject['Filename'] = subject['Filename'].str[0]\n",
    "subject.head()"
   ]
  },
  {
   "cell_type": "code",
   "execution_count": 14,
   "metadata": {},
   "outputs": [
    {
     "output_type": "execute_result",
     "data": {
      "text/plain": [
       "0    https://luna.folger.edu/luna/servlet/detail/FO...\n",
       "1    https://luna.folger.edu/luna/servlet/detail/FO...\n",
       "2    https://luna.folger.edu/luna/servlet/detail/FO...\n",
       "3    https://luna.folger.edu/luna/servlet/detail/FO...\n",
       "4    https://luna.folger.edu/luna/servlet/detail/FO...\n",
       "Name: Luna URL, dtype: object"
      ]
     },
     "metadata": {},
     "execution_count": 14
    }
   ],
   "source": [
    "#Seperating the Luna URL from the metadata column in subject\n",
    "subject['Luna URL'] = subject['metadata'].str.findall('https:..luna.folger.edu.luna.servlet.detail.FOLGERCM1.{19}')\n",
    "subject['Luna URL'].to_string()\n",
    "subject['Luna URL'] = subject['Luna URL'].str[0]\n",
    "subject['Luna URL'].head()"
   ]
  },
  {
   "cell_type": "code",
   "execution_count": 15,
   "metadata": {},
   "outputs": [
    {
     "output_type": "execute_result",
     "data": {
      "text/plain": [
       "0    https://hamnet.folger.edu/cgi-bin/Pwebrecon.cg...\n",
       "1    https://hamnet.folger.edu/cgi-bin/Pwebrecon.cg...\n",
       "2    https://hamnet.folger.edu/cgi-bin/Pwebrecon.cg...\n",
       "3    https://hamnet.folger.edu/cgi-bin/Pwebrecon.cg...\n",
       "4    https://hamnet.folger.edu/cgi-bin/Pwebrecon.cg...\n",
       "Name: Hamnet URL, dtype: object"
      ]
     },
     "metadata": {},
     "execution_count": 15
    }
   ],
   "source": [
    "#Seperating the Hamnet URL from the metadata column in subject\n",
    "subject['Hamnet URL'] = subject['metadata'].str.findall('https:..hamnet.folger.edu.cgi-bin.{26}')\n",
    "subject['Hamnet URL'].to_string()\n",
    "subject['Hamnet URL'] = subject['Hamnet URL'].str[0]\n",
    "subject['Hamnet URL'].head()"
   ]
  },
  {
   "cell_type": "code",
   "execution_count": 23,
   "metadata": {},
   "outputs": [
    {
     "output_type": "execute_result",
     "data": {
      "text/plain": [
       "   Unnamed: 0    Filename  Priority  \\\n",
       "0           1  086370.jpg      6331   \n",
       "1           2  086371.jpg      6332   \n",
       "2           3  086372.jpg      6333   \n",
       "3           4  086373.jpg      6334   \n",
       "4           5  086377.jpg      6335   \n",
       "\n",
       "                                               Title  \\\n",
       "0  Newdigate family collection of newsletters fro...   \n",
       "1  Newdigate family collection of newsletters fro...   \n",
       "2  Newdigate family collection of newsletters fro...   \n",
       "3  Newdigate family collection of newsletters fro...   \n",
       "4  Newdigate family collection of newsletters fro...   \n",
       "\n",
       "                                   Author       Origin Call Number  \\\n",
       "0  England and Wales. Secretary of State.  1673/4-1715    L.c.2104   \n",
       "1  England and Wales. Secretary of State.  1673/4-1715    L.c.2104   \n",
       "2  England and Wales. Secretary of State.  1673/4-1715    L.c.2104   \n",
       "3  England and Wales. Secretary of State.  1673/4-1715    L.c.2104   \n",
       "4  England and Wales. Secretary of State.  1673/4-1715    L.c.2106   \n",
       "\n",
       "  Page Number  Page Sort        Genre  \\\n",
       "0          1r       6379  Newsletters   \n",
       "1          1v       6380  Newsletters   \n",
       "2          2r       6381  Newsletters   \n",
       "3          2v       6382  Newsletters   \n",
       "4          1r       6386  Newsletters   \n",
       "\n",
       "                                            Luna URL  \\\n",
       "0  http://luna.folger.edu/luna/servlet/detail/FOL...   \n",
       "1  http://luna.folger.edu/luna/servlet/detail/FOL...   \n",
       "2  http://luna.folger.edu/luna/servlet/detail/FOL...   \n",
       "3  http://luna.folger.edu/luna/servlet/detail/FOL...   \n",
       "4  http://luna.folger.edu/luna/servlet/detail/FOL...   \n",
       "\n",
       "                                          Hamnet URL  \n",
       "0  http://hamnet.folger.edu/cgi-bin/Pwebrecon.cgi...  \n",
       "1  http://hamnet.folger.edu/cgi-bin/Pwebrecon.cgi...  \n",
       "2  http://hamnet.folger.edu/cgi-bin/Pwebrecon.cgi...  \n",
       "3  http://hamnet.folger.edu/cgi-bin/Pwebrecon.cgi...  \n",
       "4  http://hamnet.folger.edu/cgi-bin/Pwebrecon.cgi...  "
      ],
      "text/html": "<div>\n<style scoped>\n    .dataframe tbody tr th:only-of-type {\n        vertical-align: middle;\n    }\n\n    .dataframe tbody tr th {\n        vertical-align: top;\n    }\n\n    .dataframe thead th {\n        text-align: right;\n    }\n</style>\n<table border=\"1\" class=\"dataframe\">\n  <thead>\n    <tr style=\"text-align: right;\">\n      <th></th>\n      <th>Unnamed: 0</th>\n      <th>Filename</th>\n      <th>Priority</th>\n      <th>Title</th>\n      <th>Author</th>\n      <th>Origin</th>\n      <th>Call Number</th>\n      <th>Page Number</th>\n      <th>Page Sort</th>\n      <th>Genre</th>\n      <th>Luna URL</th>\n      <th>Hamnet URL</th>\n    </tr>\n  </thead>\n  <tbody>\n    <tr>\n      <td>0</td>\n      <td>1</td>\n      <td>086370.jpg</td>\n      <td>6331</td>\n      <td>Newdigate family collection of newsletters fro...</td>\n      <td>England and Wales. Secretary of State.</td>\n      <td>1673/4-1715</td>\n      <td>L.c.2104</td>\n      <td>1r</td>\n      <td>6379</td>\n      <td>Newsletters</td>\n      <td>http://luna.folger.edu/luna/servlet/detail/FOL...</td>\n      <td>http://hamnet.folger.edu/cgi-bin/Pwebrecon.cgi...</td>\n    </tr>\n    <tr>\n      <td>1</td>\n      <td>2</td>\n      <td>086371.jpg</td>\n      <td>6332</td>\n      <td>Newdigate family collection of newsletters fro...</td>\n      <td>England and Wales. Secretary of State.</td>\n      <td>1673/4-1715</td>\n      <td>L.c.2104</td>\n      <td>1v</td>\n      <td>6380</td>\n      <td>Newsletters</td>\n      <td>http://luna.folger.edu/luna/servlet/detail/FOL...</td>\n      <td>http://hamnet.folger.edu/cgi-bin/Pwebrecon.cgi...</td>\n    </tr>\n    <tr>\n      <td>2</td>\n      <td>3</td>\n      <td>086372.jpg</td>\n      <td>6333</td>\n      <td>Newdigate family collection of newsletters fro...</td>\n      <td>England and Wales. Secretary of State.</td>\n      <td>1673/4-1715</td>\n      <td>L.c.2104</td>\n      <td>2r</td>\n      <td>6381</td>\n      <td>Newsletters</td>\n      <td>http://luna.folger.edu/luna/servlet/detail/FOL...</td>\n      <td>http://hamnet.folger.edu/cgi-bin/Pwebrecon.cgi...</td>\n    </tr>\n    <tr>\n      <td>3</td>\n      <td>4</td>\n      <td>086373.jpg</td>\n      <td>6334</td>\n      <td>Newdigate family collection of newsletters fro...</td>\n      <td>England and Wales. Secretary of State.</td>\n      <td>1673/4-1715</td>\n      <td>L.c.2104</td>\n      <td>2v</td>\n      <td>6382</td>\n      <td>Newsletters</td>\n      <td>http://luna.folger.edu/luna/servlet/detail/FOL...</td>\n      <td>http://hamnet.folger.edu/cgi-bin/Pwebrecon.cgi...</td>\n    </tr>\n    <tr>\n      <td>4</td>\n      <td>5</td>\n      <td>086377.jpg</td>\n      <td>6335</td>\n      <td>Newdigate family collection of newsletters fro...</td>\n      <td>England and Wales. Secretary of State.</td>\n      <td>1673/4-1715</td>\n      <td>L.c.2106</td>\n      <td>1r</td>\n      <td>6386</td>\n      <td>Newsletters</td>\n      <td>http://luna.folger.edu/luna/servlet/detail/FOL...</td>\n      <td>http://hamnet.folger.edu/cgi-bin/Pwebrecon.cgi...</td>\n    </tr>\n  </tbody>\n</table>\n</div>"
     },
     "metadata": {},
     "execution_count": 23
    }
   ],
   "source": [
    "newsletters.head()"
   ]
  },
  {
   "cell_type": "code",
   "execution_count": 17,
   "metadata": {},
   "outputs": [
    {
     "output_type": "execute_result",
     "data": {
      "text/plain": [
       "   subject_id  project_id  workflow_id  subject_set_id  \\\n",
       "0    11202804         376          NaN           13519   \n",
       "1    11202805         376          NaN           13519   \n",
       "2    11202806         376          NaN           13519   \n",
       "3    11202807         376          NaN           13519   \n",
       "4    11202808         376          NaN           13519   \n",
       "\n",
       "                                           locations  classifications_count  \\\n",
       "0  {\"0\":\"https://panoptes-uploads.zooniverse.org/...                      0   \n",
       "1  {\"0\":\"https://panoptes-uploads.zooniverse.org/...                      0   \n",
       "2  {\"0\":\"https://panoptes-uploads.zooniverse.org/...                      0   \n",
       "3  {\"0\":\"https://panoptes-uploads.zooniverse.org/...                      0   \n",
       "4  {\"0\":\"https://panoptes-uploads.zooniverse.org/...                      0   \n",
       "\n",
       "  retired_at  retirement_reason               created_at  \\\n",
       "0        NaN                NaN  2017-07-27 11:52:16 UTC   \n",
       "1        NaN                NaN  2017-07-27 11:52:17 UTC   \n",
       "2        NaN                NaN  2017-07-27 11:52:18 UTC   \n",
       "3        NaN                NaN  2017-07-27 11:52:18 UTC   \n",
       "4        NaN                NaN  2017-07-27 11:52:18 UTC   \n",
       "\n",
       "                updated_at  ... Priority  \\\n",
       "0  2018-05-02 15:23:14 UTC  ...     6331   \n",
       "1  2018-05-02 15:22:38 UTC  ...     6332   \n",
       "2  2018-05-02 15:20:27 UTC  ...     6333   \n",
       "3  2018-05-02 15:21:39 UTC  ...     6334   \n",
       "4  2018-05-02 15:23:31 UTC  ...     6335   \n",
       "\n",
       "                                               Title  \\\n",
       "0  Newdigate family collection of newsletters fro...   \n",
       "1  Newdigate family collection of newsletters fro...   \n",
       "2  Newdigate family collection of newsletters fro...   \n",
       "3  Newdigate family collection of newsletters fro...   \n",
       "4  Newdigate family collection of newsletters fro...   \n",
       "\n",
       "                                   Author       Origin  Call Number  \\\n",
       "0  England and Wales. Secretary of State.  1673/4-1715     L.c.2104   \n",
       "1  England and Wales. Secretary of State.  1673/4-1715     L.c.2104   \n",
       "2  England and Wales. Secretary of State.  1673/4-1715     L.c.2104   \n",
       "3  England and Wales. Secretary of State.  1673/4-1715     L.c.2104   \n",
       "4  England and Wales. Secretary of State.  1673/4-1715     L.c.2106   \n",
       "\n",
       "  Page Number Page Sort        Genre  \\\n",
       "0          1r      6379  Newsletters   \n",
       "1          1v      6380  Newsletters   \n",
       "2          2r      6381  Newsletters   \n",
       "3          2v      6382  Newsletters   \n",
       "4          1r      6386  Newsletters   \n",
       "\n",
       "                                          Luna URL_y  \\\n",
       "0  http://luna.folger.edu/luna/servlet/detail/FOL...   \n",
       "1  http://luna.folger.edu/luna/servlet/detail/FOL...   \n",
       "2  http://luna.folger.edu/luna/servlet/detail/FOL...   \n",
       "3  http://luna.folger.edu/luna/servlet/detail/FOL...   \n",
       "4  http://luna.folger.edu/luna/servlet/detail/FOL...   \n",
       "\n",
       "                                        Hamnet URL_y  \n",
       "0  http://hamnet.folger.edu/cgi-bin/Pwebrecon.cgi...  \n",
       "1  http://hamnet.folger.edu/cgi-bin/Pwebrecon.cgi...  \n",
       "2  http://hamnet.folger.edu/cgi-bin/Pwebrecon.cgi...  \n",
       "3  http://hamnet.folger.edu/cgi-bin/Pwebrecon.cgi...  \n",
       "4  http://hamnet.folger.edu/cgi-bin/Pwebrecon.cgi...  \n",
       "\n",
       "[5 rows x 24 columns]"
      ],
      "text/html": "<div>\n<style scoped>\n    .dataframe tbody tr th:only-of-type {\n        vertical-align: middle;\n    }\n\n    .dataframe tbody tr th {\n        vertical-align: top;\n    }\n\n    .dataframe thead th {\n        text-align: right;\n    }\n</style>\n<table border=\"1\" class=\"dataframe\">\n  <thead>\n    <tr style=\"text-align: right;\">\n      <th></th>\n      <th>subject_id</th>\n      <th>project_id</th>\n      <th>workflow_id</th>\n      <th>subject_set_id</th>\n      <th>locations</th>\n      <th>classifications_count</th>\n      <th>retired_at</th>\n      <th>retirement_reason</th>\n      <th>created_at</th>\n      <th>updated_at</th>\n      <th>...</th>\n      <th>Priority</th>\n      <th>Title</th>\n      <th>Author</th>\n      <th>Origin</th>\n      <th>Call Number</th>\n      <th>Page Number</th>\n      <th>Page Sort</th>\n      <th>Genre</th>\n      <th>Luna URL_y</th>\n      <th>Hamnet URL_y</th>\n    </tr>\n  </thead>\n  <tbody>\n    <tr>\n      <td>0</td>\n      <td>11202804</td>\n      <td>376</td>\n      <td>NaN</td>\n      <td>13519</td>\n      <td>{\"0\":\"https://panoptes-uploads.zooniverse.org/...</td>\n      <td>0</td>\n      <td>NaN</td>\n      <td>NaN</td>\n      <td>2017-07-27 11:52:16 UTC</td>\n      <td>2018-05-02 15:23:14 UTC</td>\n      <td>...</td>\n      <td>6331</td>\n      <td>Newdigate family collection of newsletters fro...</td>\n      <td>England and Wales. Secretary of State.</td>\n      <td>1673/4-1715</td>\n      <td>L.c.2104</td>\n      <td>1r</td>\n      <td>6379</td>\n      <td>Newsletters</td>\n      <td>http://luna.folger.edu/luna/servlet/detail/FOL...</td>\n      <td>http://hamnet.folger.edu/cgi-bin/Pwebrecon.cgi...</td>\n    </tr>\n    <tr>\n      <td>1</td>\n      <td>11202805</td>\n      <td>376</td>\n      <td>NaN</td>\n      <td>13519</td>\n      <td>{\"0\":\"https://panoptes-uploads.zooniverse.org/...</td>\n      <td>0</td>\n      <td>NaN</td>\n      <td>NaN</td>\n      <td>2017-07-27 11:52:17 UTC</td>\n      <td>2018-05-02 15:22:38 UTC</td>\n      <td>...</td>\n      <td>6332</td>\n      <td>Newdigate family collection of newsletters fro...</td>\n      <td>England and Wales. Secretary of State.</td>\n      <td>1673/4-1715</td>\n      <td>L.c.2104</td>\n      <td>1v</td>\n      <td>6380</td>\n      <td>Newsletters</td>\n      <td>http://luna.folger.edu/luna/servlet/detail/FOL...</td>\n      <td>http://hamnet.folger.edu/cgi-bin/Pwebrecon.cgi...</td>\n    </tr>\n    <tr>\n      <td>2</td>\n      <td>11202806</td>\n      <td>376</td>\n      <td>NaN</td>\n      <td>13519</td>\n      <td>{\"0\":\"https://panoptes-uploads.zooniverse.org/...</td>\n      <td>0</td>\n      <td>NaN</td>\n      <td>NaN</td>\n      <td>2017-07-27 11:52:18 UTC</td>\n      <td>2018-05-02 15:20:27 UTC</td>\n      <td>...</td>\n      <td>6333</td>\n      <td>Newdigate family collection of newsletters fro...</td>\n      <td>England and Wales. Secretary of State.</td>\n      <td>1673/4-1715</td>\n      <td>L.c.2104</td>\n      <td>2r</td>\n      <td>6381</td>\n      <td>Newsletters</td>\n      <td>http://luna.folger.edu/luna/servlet/detail/FOL...</td>\n      <td>http://hamnet.folger.edu/cgi-bin/Pwebrecon.cgi...</td>\n    </tr>\n    <tr>\n      <td>3</td>\n      <td>11202807</td>\n      <td>376</td>\n      <td>NaN</td>\n      <td>13519</td>\n      <td>{\"0\":\"https://panoptes-uploads.zooniverse.org/...</td>\n      <td>0</td>\n      <td>NaN</td>\n      <td>NaN</td>\n      <td>2017-07-27 11:52:18 UTC</td>\n      <td>2018-05-02 15:21:39 UTC</td>\n      <td>...</td>\n      <td>6334</td>\n      <td>Newdigate family collection of newsletters fro...</td>\n      <td>England and Wales. Secretary of State.</td>\n      <td>1673/4-1715</td>\n      <td>L.c.2104</td>\n      <td>2v</td>\n      <td>6382</td>\n      <td>Newsletters</td>\n      <td>http://luna.folger.edu/luna/servlet/detail/FOL...</td>\n      <td>http://hamnet.folger.edu/cgi-bin/Pwebrecon.cgi...</td>\n    </tr>\n    <tr>\n      <td>4</td>\n      <td>11202808</td>\n      <td>376</td>\n      <td>NaN</td>\n      <td>13519</td>\n      <td>{\"0\":\"https://panoptes-uploads.zooniverse.org/...</td>\n      <td>0</td>\n      <td>NaN</td>\n      <td>NaN</td>\n      <td>2017-07-27 11:52:18 UTC</td>\n      <td>2018-05-02 15:23:31 UTC</td>\n      <td>...</td>\n      <td>6335</td>\n      <td>Newdigate family collection of newsletters fro...</td>\n      <td>England and Wales. Secretary of State.</td>\n      <td>1673/4-1715</td>\n      <td>L.c.2106</td>\n      <td>1r</td>\n      <td>6386</td>\n      <td>Newsletters</td>\n      <td>http://luna.folger.edu/luna/servlet/detail/FOL...</td>\n      <td>http://hamnet.folger.edu/cgi-bin/Pwebrecon.cgi...</td>\n    </tr>\n  </tbody>\n</table>\n<p>5 rows × 24 columns</p>\n</div>"
     },
     "metadata": {},
     "execution_count": 17
    }
   ],
   "source": [
    "merged = subject.merge(newsletters, how = 'inner', on = 'Filename')\n",
    "\n",
    "#Dropping metadata column since it is redundant with the information in newletter dataset\n",
    "merged = merged.drop(columns = 'metadata', axis = 1)\n",
    "merged.head()"
   ]
  },
  {
   "cell_type": "code",
   "execution_count": 21,
   "metadata": {},
   "outputs": [],
   "source": [
    "merged.to_csv(\"Processed Datasets\\subjectid_newsletters.csv\")"
   ]
  },
  {
   "cell_type": "code",
   "execution_count": 19,
   "metadata": {},
   "outputs": [],
   "source": [
    "subject.to_csv('Processed Datasets\\subjects_FileName.csv')"
   ]
  },
  {
   "cell_type": "code",
   "execution_count": 26,
   "metadata": {},
   "outputs": [],
   "source": [
    "basepath = \"Unprocessed Datasets\\All Newsletters\"\n",
    "entries = Path(basepath)  \n",
    "subject_id = []\n",
    "transcription = []"
   ]
  },
  {
   "cell_type": "code",
   "execution_count": 35,
   "metadata": {},
   "outputs": [],
   "source": [
    "for entry in entries.iterdir():\n",
    "    subject_id.append(entry.name)\n",
    "    new_path = basepath + '\\\\' +  entry.name + '\\\\'\n",
    "    filepath = new_path + 'transcription.txt'\n",
    "    f = open(filepath)\n",
    "    lines = f.read()\n",
    "    transcription.append(lines)"
   ]
  },
  {
   "cell_type": "code",
   "execution_count": 32,
   "metadata": {},
   "outputs": [],
   "source": [
    "merged_list = [list(x) for x in zip(subject_id, transcription)]"
   ]
  },
  {
   "cell_type": "code",
   "execution_count": 37,
   "metadata": {},
   "outputs": [],
   "source": [
    "df = pd.DataFrame(merged_list, columns = ['subject_id', 'transcription'])\n",
    "df.to_csv(\"Processed Datasets\\processed_newsletters.csv\")"
   ]
  },
  {
   "cell_type": "code",
   "execution_count": null,
   "metadata": {},
   "outputs": [],
   "source": []
  }
 ],
 "metadata": {
  "kernelspec": {
   "name": "python374jvsc74a57bd0a44ce12d68b64b438db11e3bc3dc940a5996a4408784b20727c9239987835693",
   "display_name": "Python 3.7.4 64-bit ('base': conda)"
  },
  "language_info": {
   "codemirror_mode": {
    "name": "ipython",
    "version": 3
   },
   "file_extension": ".py",
   "mimetype": "text/x-python",
   "name": "python",
   "nbconvert_exporter": "python",
   "pygments_lexer": "ipython3",
   "version": "3.7.4"
  }
 },
 "nbformat": 4,
 "nbformat_minor": 2
}